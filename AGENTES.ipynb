{
  "nbformat": 4,
  "nbformat_minor": 0,
  "metadata": {
    "colab": {
      "provenance": [],
      "authorship_tag": "ABX9TyNhrZo2ED7wCpSAUprd4XsB",
      "include_colab_link": true
    },
    "kernelspec": {
      "name": "python3",
      "display_name": "Python 3"
    },
    "language_info": {
      "name": "python"
    }
  },
  "cells": [
    {
      "cell_type": "markdown",
      "metadata": {
        "id": "view-in-github",
        "colab_type": "text"
      },
      "source": [
        "<a href=\"https://colab.research.google.com/github/andyvzcode/langchain-agents/blob/main/AGENTES.ipynb\" target=\"_parent\"><img src=\"https://colab.research.google.com/assets/colab-badge.svg\" alt=\"Open In Colab\"/></a>"
      ]
    },
    {
      "cell_type": "code",
      "execution_count": null,
      "metadata": {
        "colab": {
          "base_uri": "https://localhost:8080/"
        },
        "id": "_Qs88fZP6PD_",
        "outputId": "542dfb88-8906-46f7-b580-7f65204af59f"
      },
      "outputs": [
        {
          "output_type": "stream",
          "name": "stdout",
          "text": [
            "Requirement already satisfied: transformers in /usr/local/lib/python3.10/dist-packages (4.46.3)\n",
            "Collecting transformers\n",
            "  Downloading transformers-4.47.0-py3-none-any.whl.metadata (43 kB)\n",
            "\u001b[2K     \u001b[90m━━━━━━━━━━━━━━━━━━━━━━━━━━━━━━━━━━━━━━━━\u001b[0m \u001b[32m43.5/43.5 kB\u001b[0m \u001b[31m3.1 MB/s\u001b[0m eta \u001b[36m0:00:00\u001b[0m\n",
            "\u001b[?25hCollecting langchain-huggingface\n",
            "  Downloading langchain_huggingface-0.1.2-py3-none-any.whl.metadata (1.3 kB)\n",
            "Requirement already satisfied: filelock in /usr/local/lib/python3.10/dist-packages (from transformers) (3.16.1)\n",
            "Requirement already satisfied: huggingface-hub<1.0,>=0.24.0 in /usr/local/lib/python3.10/dist-packages (from transformers) (0.26.3)\n",
            "Requirement already satisfied: numpy>=1.17 in /usr/local/lib/python3.10/dist-packages (from transformers) (1.26.4)\n",
            "Requirement already satisfied: packaging>=20.0 in /usr/local/lib/python3.10/dist-packages (from transformers) (24.2)\n",
            "Requirement already satisfied: pyyaml>=5.1 in /usr/local/lib/python3.10/dist-packages (from transformers) (6.0.2)\n",
            "Requirement already satisfied: regex!=2019.12.17 in /usr/local/lib/python3.10/dist-packages (from transformers) (2024.9.11)\n",
            "Requirement already satisfied: requests in /usr/local/lib/python3.10/dist-packages (from transformers) (2.32.3)\n",
            "Collecting tokenizers<0.22,>=0.21 (from transformers)\n",
            "  Downloading tokenizers-0.21.0-cp39-abi3-manylinux_2_17_x86_64.manylinux2014_x86_64.whl.metadata (6.7 kB)\n",
            "Requirement already satisfied: safetensors>=0.4.1 in /usr/local/lib/python3.10/dist-packages (from transformers) (0.4.5)\n",
            "Requirement already satisfied: tqdm>=4.27 in /usr/local/lib/python3.10/dist-packages (from transformers) (4.66.6)\n",
            "Requirement already satisfied: langchain-core<0.4.0,>=0.3.15 in /usr/local/lib/python3.10/dist-packages (from langchain-huggingface) (0.3.21)\n",
            "Requirement already satisfied: sentence-transformers>=2.6.0 in /usr/local/lib/python3.10/dist-packages (from langchain-huggingface) (3.2.1)\n",
            "Requirement already satisfied: fsspec>=2023.5.0 in /usr/local/lib/python3.10/dist-packages (from huggingface-hub<1.0,>=0.24.0->transformers) (2024.10.0)\n",
            "Requirement already satisfied: typing-extensions>=3.7.4.3 in /usr/local/lib/python3.10/dist-packages (from huggingface-hub<1.0,>=0.24.0->transformers) (4.12.2)\n",
            "Requirement already satisfied: jsonpatch<2.0,>=1.33 in /usr/local/lib/python3.10/dist-packages (from langchain-core<0.4.0,>=0.3.15->langchain-huggingface) (1.33)\n",
            "Requirement already satisfied: langsmith<0.2.0,>=0.1.125 in /usr/local/lib/python3.10/dist-packages (from langchain-core<0.4.0,>=0.3.15->langchain-huggingface) (0.1.147)\n",
            "Requirement already satisfied: pydantic<3.0.0,>=2.5.2 in /usr/local/lib/python3.10/dist-packages (from langchain-core<0.4.0,>=0.3.15->langchain-huggingface) (2.10.3)\n",
            "Requirement already satisfied: tenacity!=8.4.0,<10.0.0,>=8.1.0 in /usr/local/lib/python3.10/dist-packages (from langchain-core<0.4.0,>=0.3.15->langchain-huggingface) (9.0.0)\n",
            "Requirement already satisfied: torch>=1.11.0 in /usr/local/lib/python3.10/dist-packages (from sentence-transformers>=2.6.0->langchain-huggingface) (2.5.1+cu121)\n",
            "Requirement already satisfied: scikit-learn in /usr/local/lib/python3.10/dist-packages (from sentence-transformers>=2.6.0->langchain-huggingface) (1.5.2)\n",
            "Requirement already satisfied: scipy in /usr/local/lib/python3.10/dist-packages (from sentence-transformers>=2.6.0->langchain-huggingface) (1.13.1)\n",
            "Requirement already satisfied: Pillow in /usr/local/lib/python3.10/dist-packages (from sentence-transformers>=2.6.0->langchain-huggingface) (11.0.0)\n",
            "Requirement already satisfied: charset-normalizer<4,>=2 in /usr/local/lib/python3.10/dist-packages (from requests->transformers) (3.4.0)\n",
            "Requirement already satisfied: idna<4,>=2.5 in /usr/local/lib/python3.10/dist-packages (from requests->transformers) (3.10)\n",
            "Requirement already satisfied: urllib3<3,>=1.21.1 in /usr/local/lib/python3.10/dist-packages (from requests->transformers) (2.2.3)\n",
            "Requirement already satisfied: certifi>=2017.4.17 in /usr/local/lib/python3.10/dist-packages (from requests->transformers) (2024.8.30)\n",
            "Requirement already satisfied: jsonpointer>=1.9 in /usr/local/lib/python3.10/dist-packages (from jsonpatch<2.0,>=1.33->langchain-core<0.4.0,>=0.3.15->langchain-huggingface) (3.0.0)\n",
            "Requirement already satisfied: httpx<1,>=0.23.0 in /usr/local/lib/python3.10/dist-packages (from langsmith<0.2.0,>=0.1.125->langchain-core<0.4.0,>=0.3.15->langchain-huggingface) (0.28.0)\n",
            "Requirement already satisfied: orjson<4.0.0,>=3.9.14 in /usr/local/lib/python3.10/dist-packages (from langsmith<0.2.0,>=0.1.125->langchain-core<0.4.0,>=0.3.15->langchain-huggingface) (3.10.12)\n",
            "Requirement already satisfied: requests-toolbelt<2.0.0,>=1.0.0 in /usr/local/lib/python3.10/dist-packages (from langsmith<0.2.0,>=0.1.125->langchain-core<0.4.0,>=0.3.15->langchain-huggingface) (1.0.0)\n",
            "Requirement already satisfied: annotated-types>=0.6.0 in /usr/local/lib/python3.10/dist-packages (from pydantic<3.0.0,>=2.5.2->langchain-core<0.4.0,>=0.3.15->langchain-huggingface) (0.7.0)\n",
            "Requirement already satisfied: pydantic-core==2.27.1 in /usr/local/lib/python3.10/dist-packages (from pydantic<3.0.0,>=2.5.2->langchain-core<0.4.0,>=0.3.15->langchain-huggingface) (2.27.1)\n",
            "Requirement already satisfied: networkx in /usr/local/lib/python3.10/dist-packages (from torch>=1.11.0->sentence-transformers>=2.6.0->langchain-huggingface) (3.4.2)\n",
            "Requirement already satisfied: jinja2 in /usr/local/lib/python3.10/dist-packages (from torch>=1.11.0->sentence-transformers>=2.6.0->langchain-huggingface) (3.1.4)\n",
            "Requirement already satisfied: sympy==1.13.1 in /usr/local/lib/python3.10/dist-packages (from torch>=1.11.0->sentence-transformers>=2.6.0->langchain-huggingface) (1.13.1)\n",
            "Requirement already satisfied: mpmath<1.4,>=1.1.0 in /usr/local/lib/python3.10/dist-packages (from sympy==1.13.1->torch>=1.11.0->sentence-transformers>=2.6.0->langchain-huggingface) (1.3.0)\n",
            "Requirement already satisfied: joblib>=1.2.0 in /usr/local/lib/python3.10/dist-packages (from scikit-learn->sentence-transformers>=2.6.0->langchain-huggingface) (1.4.2)\n",
            "Requirement already satisfied: threadpoolctl>=3.1.0 in /usr/local/lib/python3.10/dist-packages (from scikit-learn->sentence-transformers>=2.6.0->langchain-huggingface) (3.5.0)\n",
            "Requirement already satisfied: anyio in /usr/local/lib/python3.10/dist-packages (from httpx<1,>=0.23.0->langsmith<0.2.0,>=0.1.125->langchain-core<0.4.0,>=0.3.15->langchain-huggingface) (3.7.1)\n",
            "Requirement already satisfied: httpcore==1.* in /usr/local/lib/python3.10/dist-packages (from httpx<1,>=0.23.0->langsmith<0.2.0,>=0.1.125->langchain-core<0.4.0,>=0.3.15->langchain-huggingface) (1.0.7)\n",
            "Requirement already satisfied: h11<0.15,>=0.13 in /usr/local/lib/python3.10/dist-packages (from httpcore==1.*->httpx<1,>=0.23.0->langsmith<0.2.0,>=0.1.125->langchain-core<0.4.0,>=0.3.15->langchain-huggingface) (0.14.0)\n",
            "Requirement already satisfied: MarkupSafe>=2.0 in /usr/local/lib/python3.10/dist-packages (from jinja2->torch>=1.11.0->sentence-transformers>=2.6.0->langchain-huggingface) (3.0.2)\n",
            "Requirement already satisfied: sniffio>=1.1 in /usr/local/lib/python3.10/dist-packages (from anyio->httpx<1,>=0.23.0->langsmith<0.2.0,>=0.1.125->langchain-core<0.4.0,>=0.3.15->langchain-huggingface) (1.3.1)\n",
            "Requirement already satisfied: exceptiongroup in /usr/local/lib/python3.10/dist-packages (from anyio->httpx<1,>=0.23.0->langsmith<0.2.0,>=0.1.125->langchain-core<0.4.0,>=0.3.15->langchain-huggingface) (1.2.2)\n",
            "Downloading transformers-4.47.0-py3-none-any.whl (10.1 MB)\n",
            "\u001b[2K   \u001b[90m━━━━━━━━━━━━━━━━━━━━━━━━━━━━━━━━━━━━━━━━\u001b[0m \u001b[32m10.1/10.1 MB\u001b[0m \u001b[31m75.7 MB/s\u001b[0m eta \u001b[36m0:00:00\u001b[0m\n",
            "\u001b[?25hDownloading langchain_huggingface-0.1.2-py3-none-any.whl (21 kB)\n",
            "Downloading tokenizers-0.21.0-cp39-abi3-manylinux_2_17_x86_64.manylinux2014_x86_64.whl (3.0 MB)\n",
            "\u001b[2K   \u001b[90m━━━━━━━━━━━━━━━━━━━━━━━━━━━━━━━━━━━━━━━━\u001b[0m \u001b[32m3.0/3.0 MB\u001b[0m \u001b[31m80.4 MB/s\u001b[0m eta \u001b[36m0:00:00\u001b[0m\n",
            "\u001b[?25hInstalling collected packages: tokenizers, transformers, langchain-huggingface\n",
            "  Attempting uninstall: tokenizers\n",
            "    Found existing installation: tokenizers 0.20.3\n",
            "    Uninstalling tokenizers-0.20.3:\n",
            "      Successfully uninstalled tokenizers-0.20.3\n",
            "  Attempting uninstall: transformers\n",
            "    Found existing installation: transformers 4.46.3\n",
            "    Uninstalling transformers-4.46.3:\n",
            "      Successfully uninstalled transformers-4.46.3\n",
            "Successfully installed langchain-huggingface-0.1.2 tokenizers-0.21.0 transformers-4.47.0\n"
          ]
        }
      ],
      "source": [
        "%pip install --upgrade transformers langchain-huggingface"
      ]
    },
    {
      "cell_type": "markdown",
      "source": [
        "# HugginFace 🤗"
      ],
      "metadata": {
        "id": "m5OmH8i57ZYw"
      }
    },
    {
      "cell_type": "code",
      "source": [
        "from langchain_huggingface.llms import HuggingFacePipeline\n",
        "\n",
        "hf = HuggingFacePipeline.from_model_id(\n",
        "    model_id=\"gpt2\",\n",
        "    task=\"text-generation\",\n",
        "    pipeline_kwargs={\"max_new_tokens\": 500},\n",
        ")"
      ],
      "metadata": {
        "colab": {
          "base_uri": "https://localhost:8080/"
        },
        "id": "lyKxcitW65SE",
        "outputId": "fbff1bfe-ac21-441c-82a9-7e2750c9d319"
      },
      "execution_count": null,
      "outputs": [
        {
          "output_type": "stream",
          "name": "stderr",
          "text": [
            "Device set to use cpu\n"
          ]
        }
      ]
    },
    {
      "cell_type": "code",
      "source": [
        "question = \"What is electroencephalography?\"\n",
        "hf.invoke(question)"
      ],
      "metadata": {
        "colab": {
          "base_uri": "https://localhost:8080/",
          "height": 88
        },
        "id": "MLJOpPYB7Lg9",
        "outputId": "b5d8cdd2-2490-4294-8ea6-0d7e96d8c484"
      },
      "execution_count": null,
      "outputs": [
        {
          "output_type": "execute_result",
          "data": {
            "text/plain": [
              "\"What is electroencephalography?\\n\\nelectroencephalography is the most reliable and sensitive medical diagnostic instrument of our time — it also gives a wide range of diagnostic possibilities in all conditions and types of injuries. Electroencephalography allows us to see patients' brains, see if they have any specific physical or physiological signs related to cancer or heart disease or trauma. It is the most advanced and portable diagnostic instrument in the world. More information:\\n\\nWhat types of electroencephalography are used in diagnosing cancer (Treatment and prevention, Cancer Treatment and Prevention, Cancer Treatment, Radiation Therapy, Physiological Therapy and Other Medical Devices)?\\n\\nElectroencephalography helps determine when to call for medical help, when to come to a physical examination and for emergency medical care\\n\\nWhen to call for emergency medical services (hospital help)\\n\\nWhat does electroencephalography look like inside a body (e.g. on a bicycle)?\\n\\nIs there a good treatment to reduce or even eliminate the symptoms and signs of osteoporosis?\\n\\nThe symptoms of osteoporosis are often different for different types of cancers\\n\\nDoes electroencephalography have a higher risk of side effects\\n\\nIs electroencephalography a low-cost diagnostic tool?\\n\\nA good amount of research in this field has shown that certain types of cancer and their potential side effects are worse with electroencephalography than with other medical diagnostic instruments such as ultrasound and computed tomography (CT).\\n\\nWhy use electroencephalography when more people need cancer treatment?\\n\\nMany people with cancer need medical treatment for problems including stroke, renal disease, chronic obstructive pulmonary disease (COPD), multiple sclerosis and some other conditions. Electroencephalography can also help us more precisely determine the type of cancer we are seeing.\\n\\nThere are a lot of things you need to know about cancer and its symptoms, including what the exact mechanism is and which side effects should be avoided.\\n\\nFor more information on this field, visit the Cancer Treatment.com website. Click here for a list of links.\\n\\nFor more information about medical devices and how to order them, click here.\\n\\nWhat are the benefits?\\n\\nThe long-term benefit will not only be its lower costs, but also its greater health benefits.\\n\\nPeople have already begun to be persuaded that more medications are not needed even as a preventive measure like medical interventions. The study was conducted by a\""
            ],
            "application/vnd.google.colaboratory.intrinsic+json": {
              "type": "string"
            }
          },
          "metadata": {},
          "execution_count": 7
        }
      ]
    },
    {
      "cell_type": "markdown",
      "source": [
        "# GEMINI GOOGLE"
      ],
      "metadata": {
        "id": "P9o7E2yR9InG"
      }
    },
    {
      "cell_type": "code",
      "source": [
        "from google.colab import userdata\n",
        "api_key = userdata.get('GEMINI')\n"
      ],
      "metadata": {
        "id": "f7TTGsBu9PT7"
      },
      "execution_count": 40,
      "outputs": []
    },
    {
      "cell_type": "code",
      "source": [
        "!pip install -qU langchain-google-genai\n"
      ],
      "metadata": {
        "colab": {
          "base_uri": "https://localhost:8080/"
        },
        "id": "hYWH7EeWpghR",
        "outputId": "f2bf79da-a576-411b-b26e-249f236767e7"
      },
      "execution_count": 35,
      "outputs": [
        {
          "output_type": "stream",
          "name": "stdout",
          "text": [
            "\u001b[?25l   \u001b[90m━━━━━━━━━━━━━━━━━━━━━━━━━━━━━━━━━━━━━━━━\u001b[0m \u001b[32m0.0/41.3 kB\u001b[0m \u001b[31m?\u001b[0m eta \u001b[36m-:--:--\u001b[0m\r\u001b[2K   \u001b[90m━━━━━━━━━━━━━━━━━━━━━━━━━━━━━━━━━━━━━━━━\u001b[0m \u001b[32m41.3/41.3 kB\u001b[0m \u001b[31m1.2 MB/s\u001b[0m eta \u001b[36m0:00:00\u001b[0m\n",
            "\u001b[?25h"
          ]
        }
      ]
    },
    {
      "cell_type": "code",
      "source": [
        "from langchain_google_genai import ChatGoogleGenerativeAI\n",
        "\n",
        "llm = ChatGoogleGenerativeAI(\n",
        "    model=\"gemini-1.5-pro\",\n",
        "    temperature=0,\n",
        "    max_tokens=None,\n",
        "    timeout=None,\n",
        "    max_retries=2,\n",
        "    google_api_key=api_key,\n",
        ")"
      ],
      "metadata": {
        "id": "Zuia-w8bpiYD"
      },
      "execution_count": 41,
      "outputs": []
    },
    {
      "cell_type": "code",
      "source": [
        "messages = [\n",
        "    (\n",
        "        \"system\",\n",
        "        \"You are a helpful assistant that translates English to French. Translate the user sentence.\",\n",
        "    ),\n",
        "    (\"human\", \"I love programming.\"),\n",
        "]\n",
        "ai_msg = llm.invoke(messages)\n",
        "ai_msg\n",
        "\n",
        "print(ai_msg.content)"
      ],
      "metadata": {
        "colab": {
          "base_uri": "https://localhost:8080/"
        },
        "id": "CE8PfddUpoZn",
        "outputId": "e7d44b3a-b22d-4375-cd87-038747cbf1be"
      },
      "execution_count": 42,
      "outputs": [
        {
          "output_type": "stream",
          "name": "stdout",
          "text": [
            "J'adore programmer.\n",
            "\n"
          ]
        }
      ]
    },
    {
      "cell_type": "markdown",
      "source": [
        "# Chat models"
      ],
      "metadata": {
        "id": "FJeorerh_EHF"
      }
    },
    {
      "cell_type": "code",
      "source": [
        "!pip install -qU langchain-openai\n",
        "from google.colab import userdata\n",
        "API_KEY = userdata.get('OPENAPI')"
      ],
      "metadata": {
        "id": "JjVwWW2IBUv_",
        "colab": {
          "base_uri": "https://localhost:8080/"
        },
        "outputId": "1178abd3-1d9b-45f9-8cf4-6490cb813867"
      },
      "execution_count": 2,
      "outputs": [
        {
          "output_type": "stream",
          "name": "stdout",
          "text": [
            "\u001b[2K   \u001b[90m━━━━━━━━━━━━━━━━━━━━━━━━━━━━━━━━━━━━━━━━\u001b[0m \u001b[32m50.7/50.7 kB\u001b[0m \u001b[31m1.5 MB/s\u001b[0m eta \u001b[36m0:00:00\u001b[0m\n",
            "\u001b[2K   \u001b[90m━━━━━━━━━━━━━━━━━━━━━━━━━━━━━━━━━━━━━━━━\u001b[0m \u001b[32m389.9/389.9 kB\u001b[0m \u001b[31m7.3 MB/s\u001b[0m eta \u001b[36m0:00:00\u001b[0m\n",
            "\u001b[2K   \u001b[90m━━━━━━━━━━━━━━━━━━━━━━━━━━━━━━━━━━━━━━━━\u001b[0m \u001b[32m1.2/1.2 MB\u001b[0m \u001b[31m15.5 MB/s\u001b[0m eta \u001b[36m0:00:00\u001b[0m\n",
            "\u001b[?25h"
          ]
        }
      ]
    },
    {
      "cell_type": "code",
      "source": [
        "from langchain_openai import ChatOpenAI\n",
        "\n",
        "llm = ChatOpenAI(model='gpt-3.5-turbo',\n",
        "                 temperature=0,\n",
        "                 max_tokens = 50,\n",
        "                 openai_api_key=API_KEY,\n",
        "                 )"
      ],
      "metadata": {
        "id": "yBNXbErEFfab"
      },
      "execution_count": 3,
      "outputs": []
    },
    {
      "cell_type": "code",
      "source": [
        "messages = [(\n",
        "    'system',\n",
        "    'Eres un profesor de programacion en python. Enseña a programar'\n",
        "    ),\n",
        "    (\n",
        "    'human', 'Quiero instalar python en windows'\n",
        "    )\n",
        "           ]"
      ],
      "metadata": {
        "id": "GnPMBphKGDpo"
      },
      "execution_count": 1,
      "outputs": []
    },
    {
      "cell_type": "code",
      "source": [
        "ai_msg = llm.invoke(messages)"
      ],
      "metadata": {
        "id": "2_gme_aIGFGq"
      },
      "execution_count": 4,
      "outputs": []
    },
    {
      "cell_type": "code",
      "source": [
        "ai_msg.content"
      ],
      "metadata": {
        "colab": {
          "base_uri": "https://localhost:8080/",
          "height": 36
        },
        "id": "4CUAgoKTGUPE",
        "outputId": "73ef09e6-484b-4895-c818-00abccb1156b"
      },
      "execution_count": 5,
      "outputs": [
        {
          "output_type": "execute_result",
          "data": {
            "text/plain": [
              "'¡Claro! Aquí te dejo los pasos para instalar Python en Windows:\\n\\n1. Ve al sitio web oficial de Python en https://www.python.org/downloads/\\n2. Haz clic en el botón de descarga que correspon'"
            ],
            "application/vnd.google.colaboratory.intrinsic+json": {
              "type": "string"
            }
          },
          "metadata": {},
          "execution_count": 5
        }
      ]
    },
    {
      "cell_type": "markdown",
      "source": [
        "# Chat Messages : AI Messages, Human Messages, System Messages"
      ],
      "metadata": {
        "id": "EZDcVdgjmGlj"
      }
    },
    {
      "cell_type": "code",
      "source": [
        "from langchain_openai import ChatOpenAI\n",
        "\n",
        "model = ChatOpenAI(model='gpt-3.5-turbo',\n",
        "                 temperature=0,\n",
        "                 openai_api_key=API_KEY,\n",
        "                 )"
      ],
      "metadata": {
        "id": "t8MSOirhnAHz"
      },
      "execution_count": 23,
      "outputs": []
    },
    {
      "cell_type": "code",
      "source": [
        "from langchain_core.messages import AIMessage, HumanMessage, SystemMessage\n",
        "\n",
        "messages = [ SystemMessage(content='Eres un asistente útil.'),\n",
        "            HumanMessage(content='Me ayudas a organizar las tareas del dia?'),\n",
        "             AIMessage(content='Claro! Que tareas necesitas completar hoy?'),\n",
        "             HumanMessage(content='Tengo que enviar un correo importante, hacer ejercicio y estudiar para un examen'),\n",
        "             AIMessage(content='Aquí tienes tu lista de tareas: 1. Enviar correo. 2. Hacer ejercicio. 3. Estudiar para el examen')\n",
        "]\n"
      ],
      "metadata": {
        "id": "q2lPpxIHm97T"
      },
      "execution_count": 24,
      "outputs": []
    },
    {
      "cell_type": "code",
      "source": [
        "response = model.invoke(messages)\n",
        "print(response)"
      ],
      "metadata": {
        "colab": {
          "base_uri": "https://localhost:8080/"
        },
        "id": "-7n6DVRRnH0h",
        "outputId": "25acc6d5-1762-4569-aa3f-ccec222d9a40"
      },
      "execution_count": 25,
      "outputs": [
        {
          "output_type": "stream",
          "name": "stdout",
          "text": [
            "content='¿En qué orden te gustaría abordar estas tareas?' additional_kwargs={'refusal': None} response_metadata={'token_usage': {'completion_tokens': 14, 'prompt_tokens': 106, 'total_tokens': 120, 'completion_tokens_details': {'accepted_prediction_tokens': 0, 'audio_tokens': 0, 'reasoning_tokens': 0, 'rejected_prediction_tokens': 0}, 'prompt_tokens_details': {'audio_tokens': 0, 'cached_tokens': 0}}, 'model_name': 'gpt-3.5-turbo-0125', 'system_fingerprint': None, 'finish_reason': 'stop', 'logprobs': None} id='run-39454607-f73b-452a-bcc3-75aa49668aee-0' usage_metadata={'input_tokens': 106, 'output_tokens': 14, 'total_tokens': 120, 'input_token_details': {'audio': 0, 'cache_read': 0}, 'output_token_details': {'audio': 0, 'reasoning': 0}}\n"
          ]
        }
      ]
    },
    {
      "cell_type": "code",
      "source": [
        "print(response.content)"
      ],
      "metadata": {
        "colab": {
          "base_uri": "https://localhost:8080/"
        },
        "id": "v7Mw9K5QnI_L",
        "outputId": "d9e6fa56-094d-4b27-881b-293e0fa395c1"
      },
      "execution_count": 26,
      "outputs": [
        {
          "output_type": "stream",
          "name": "stdout",
          "text": [
            "¿En qué orden te gustaría abordar estas tareas?\n"
          ]
        }
      ]
    },
    {
      "cell_type": "code",
      "source": [
        "from langchain_core.messages import trim_messages\n",
        "trim_messages(\n",
        "    messages,\n",
        "    max_tokens=100,\n",
        "    strategy='last',\n",
        "    token_counter=ChatOpenAI(model='gpt-4o',  openai_api_key=API_KEY),\n",
        "    include_system = True # si quieres que incluya el sistema\n",
        ")"
      ],
      "metadata": {
        "colab": {
          "base_uri": "https://localhost:8080/"
        },
        "id": "UhXPzgMUoYP3",
        "outputId": "0ae828a3-363a-43ea-be35-39891dda1af3"
      },
      "execution_count": 34,
      "outputs": [
        {
          "output_type": "execute_result",
          "data": {
            "text/plain": [
              "[SystemMessage(content='Eres un asistente útil.', additional_kwargs={}, response_metadata={}),\n",
              " HumanMessage(content='Me ayudas a organizar las tareas del dia?', additional_kwargs={}, response_metadata={}),\n",
              " AIMessage(content='Claro! Que tareas necesitas completar hoy?', additional_kwargs={}, response_metadata={}),\n",
              " HumanMessage(content='Tengo que enviar un correo importante, hacer ejercicio y estudiar para un examen', additional_kwargs={}, response_metadata={}),\n",
              " AIMessage(content='Aquí tienes tu lista de tareas: 1. Enviar correo. 2. Hacer ejercicio. 3. Estudiar para el examen', additional_kwargs={}, response_metadata={})]"
            ]
          },
          "metadata": {},
          "execution_count": 34
        }
      ]
    },
    {
      "cell_type": "markdown",
      "source": [],
      "metadata": {
        "id": "vKB-qKVxpdKh"
      }
    },
    {
      "cell_type": "markdown",
      "source": [
        "# Promt Template  \n",
        "\n",
        "Un prompt template es una estructura que toma variables de entrada y las convierte en una instrucción clara para un modelo de lenguaje. Estas variables se pasan en un diccionario donde cada clave representa un valor que será utilizado para completar el template. Hay diferentes tipos de templates"
      ],
      "metadata": {
        "id": "qnU5M5cnp65z"
      }
    },
    {
      "cell_type": "markdown",
      "source": [
        "## String prompt template"
      ],
      "metadata": {
        "id": "DyhHl-LfqDdO"
      }
    },
    {
      "cell_type": "code",
      "source": [
        "from langchain_openai import ChatOpenAI\n",
        "\n",
        "model = ChatOpenAI(model='gpt-3.5-turbo',\n",
        "                 temperature=0,\n",
        "                 openai_api_key=API_KEY,\n",
        "                 )"
      ],
      "metadata": {
        "id": "WFiSSfSZqHrV"
      },
      "execution_count": 43,
      "outputs": []
    },
    {
      "cell_type": "code",
      "source": [
        "from langchain_core.prompts import PromptTemplate\n",
        "\n",
        "prompt_template = PromptTemplate.from_template('Dime un chiste {topic}')\n",
        "\n",
        "print(prompt_template.invoke({'topic':'gatos'}))"
      ],
      "metadata": {
        "colab": {
          "base_uri": "https://localhost:8080/"
        },
        "id": "WNFZ8sRwqI9Y",
        "outputId": "a6745ae5-014d-4bae-e66d-d3ae3ef692db"
      },
      "execution_count": 47,
      "outputs": [
        {
          "output_type": "stream",
          "name": "stdout",
          "text": [
            "text='Dime un chiste gatos'\n"
          ]
        }
      ]
    },
    {
      "cell_type": "code",
      "source": [
        "from langchain_core.prompts import ChatPromptTemplate\n",
        "\n",
        "prompt_template = ChatPromptTemplate.from_messages([\n",
        "    ('system', 'Eres un asistente útil'),\n",
        "    ('user', 'Dime un chiste {topic}')\n",
        "])\n",
        "print(prompt_template.invoke({'topic':'gatos'}))"
      ],
      "metadata": {
        "colab": {
          "base_uri": "https://localhost:8080/"
        },
        "id": "k9eERnkkquGD",
        "outputId": "31c44b93-7162-4b96-b7b4-fb8e78523554"
      },
      "execution_count": 48,
      "outputs": [
        {
          "output_type": "stream",
          "name": "stdout",
          "text": [
            "messages=[SystemMessage(content='Eres un asistente útil', additional_kwargs={}, response_metadata={}), HumanMessage(content='Dime un chiste gatos', additional_kwargs={}, response_metadata={})]\n"
          ]
        }
      ]
    },
    {
      "cell_type": "code",
      "source": [
        "from langchain_core.prompts import ChatPromptTemplate, MessagesPlaceholder\n",
        "from langchain_core.messages import HumanMessage\n",
        "\n",
        "prompt_template = ChatPromptTemplate.from_messages([\n",
        "    ('system', 'Eres un asistente útil'),\n",
        "    MessagesPlaceholder('msgs')\n",
        "\n",
        "])\n",
        "\n",
        "print(prompt_template.invoke({'msgs': [HumanMessage(content='hola'),HumanMessage(content='adios')]}))"
      ],
      "metadata": {
        "colab": {
          "base_uri": "https://localhost:8080/"
        },
        "id": "9KP_tcC7q1-h",
        "outputId": "56e3108c-bf6f-4283-9812-3be91b149674"
      },
      "execution_count": 46,
      "outputs": [
        {
          "output_type": "stream",
          "name": "stdout",
          "text": [
            "messages=[SystemMessage(content='Eres un asistente útil', additional_kwargs={}, response_metadata={}), HumanMessage(content='hola', additional_kwargs={}, response_metadata={}), HumanMessage(content='adios', additional_kwargs={}, response_metadata={})]\n"
          ]
        }
      ]
    },
    {
      "cell_type": "markdown",
      "source": [
        "# Few Shot prompting\n",
        "\n",
        "Few-shot Prompting es una técnica que permite a los modelos de lenguaje aprender a responder de manera más precisa utilizando ejemplos concretos dentro del mismo prompt."
      ],
      "metadata": {
        "id": "F7-SA4i2wbR0"
      }
    },
    {
      "cell_type": "code",
      "source": [
        "from langchain_openai import ChatOpenAI\n",
        "\n",
        "model = ChatOpenAI(model='gpt-4o',\n",
        "                 temperature=0,\n",
        "                 openai_api_key=API_KEY,\n",
        "                 )"
      ],
      "metadata": {
        "id": "Dz8aZAfxwg4S"
      },
      "execution_count": 51,
      "outputs": []
    },
    {
      "cell_type": "code",
      "source": [
        "model.invoke('Cuanto es 2 🦜 9').content"
      ],
      "metadata": {
        "colab": {
          "base_uri": "https://localhost:8080/",
          "height": 36
        },
        "id": "D1QBmFztwisl",
        "outputId": "7aae0945-71e0-4b7d-977e-b1f8ee286720"
      },
      "execution_count": 52,
      "outputs": [
        {
          "output_type": "execute_result",
          "data": {
            "text/plain": [
              "'Parece que has usado un emoji de loro en tu pregunta. Si estás preguntando por una operación matemática, como una multiplicación, entonces \\\\(2 \\\\times 9 = 18\\\\). Si te refieres a otra cosa, por favor proporciona más contexto.'"
            ],
            "application/vnd.google.colaboratory.intrinsic+json": {
              "type": "string"
            }
          },
          "metadata": {},
          "execution_count": 52
        }
      ]
    },
    {
      "cell_type": "code",
      "source": [
        "from langchain_core.prompts import ChatPromptTemplate, FewShotChatMessagePromptTemplate\n",
        "\n",
        "examples = [{'input': '2 🦜 2', 'output': '4'},\n",
        "            {'input': '2 🦜 3', 'output': '5'},\n",
        "             {'input': '2 🦜 4', 'output': '6'}\n",
        "            ]"
      ],
      "metadata": {
        "id": "jXMBO5UQw_mA"
      },
      "execution_count": 60,
      "outputs": []
    },
    {
      "cell_type": "code",
      "source": [
        "example_prompt = ChatPromptTemplate(\n",
        "    [('human', '{input}'),\n",
        "     ('ai', '{output}')]\n",
        ")"
      ],
      "metadata": {
        "id": "BISCmMNvxBm3"
      },
      "execution_count": 58,
      "outputs": []
    },
    {
      "cell_type": "code",
      "source": [
        "few_shot_prompt = FewShotChatMessagePromptTemplate(\n",
        "    example_prompt=example_prompt,\n",
        "    examples=examples\n",
        ")"
      ],
      "metadata": {
        "id": "o4okBU-exD4_"
      },
      "execution_count": 59,
      "outputs": []
    },
    {
      "cell_type": "code",
      "source": [
        "print(few_shot_prompt.invoke({}).to_messages)"
      ],
      "metadata": {
        "colab": {
          "base_uri": "https://localhost:8080/"
        },
        "id": "PLS2RpOVxFzm",
        "outputId": "a56f6250-2da3-4567-f5c3-8e504b2df320"
      },
      "execution_count": 56,
      "outputs": [
        {
          "output_type": "stream",
          "name": "stdout",
          "text": [
            "<bound method ChatPromptValue.to_messages of ChatPromptValue(messages=[HumanMessage(content='2 🦜 2', additional_kwargs={}, response_metadata={}), AIMessage(content='4', additional_kwargs={}, response_metadata={}), HumanMessage(content='2 🦜 3', additional_kwargs={}, response_metadata={}), AIMessage(content='5', additional_kwargs={}, response_metadata={})])>\n"
          ]
        }
      ]
    },
    {
      "cell_type": "code",
      "source": [
        "main_prompt = ChatPromptTemplate.from_messages(\n",
        "    [('system', 'Eres un mago de las matematicas.'),\n",
        "     few_shot_prompt,\n",
        "     ('human', '{input}')\n",
        "     ]\n",
        ")"
      ],
      "metadata": {
        "id": "S_EPIF8fyeG6"
      },
      "execution_count": 61,
      "outputs": []
    },
    {
      "cell_type": "code",
      "source": [
        "chain = main_prompt | model"
      ],
      "metadata": {
        "id": "gAhzKyacyj6z"
      },
      "execution_count": 63,
      "outputs": []
    },
    {
      "cell_type": "code",
      "source": [
        "chain.invoke({'input': 'Cuanto es 2 🦜 9'}).content"
      ],
      "metadata": {
        "colab": {
          "base_uri": "https://localhost:8080/",
          "height": 36
        },
        "id": "SdsbkOrlygHk",
        "outputId": "c9494130-e377-42d9-cda1-b78b3363de1f"
      },
      "execution_count": 64,
      "outputs": [
        {
          "output_type": "execute_result",
          "data": {
            "text/plain": [
              "'11'"
            ],
            "application/vnd.google.colaboratory.intrinsic+json": {
              "type": "string"
            }
          },
          "metadata": {},
          "execution_count": 64
        }
      ]
    },
    {
      "cell_type": "markdown",
      "source": [
        "# LCEL Langchain Lenguaje"
      ],
      "metadata": {
        "id": "Q3uj-EpOyd6E"
      }
    },
    {
      "cell_type": "code",
      "source": [
        "from langchain_core.prompts import ChatPromptTemplate\n",
        "\n",
        "prompt_template = ChatPromptTemplate.from_messages([\n",
        "    ('system', \"Traduce lo siguiente al {language}: \"),\n",
        "    ('human', '{text}')\n",
        "])"
      ],
      "metadata": {
        "id": "SCTVrPZIz160"
      },
      "execution_count": 69,
      "outputs": []
    },
    {
      "cell_type": "code",
      "source": [
        "from langchain_core.output_parsers import StrOutputParser\n",
        "\n",
        "parser = StrOutputParser()\n",
        "\n",
        "chain = prompt_template | model | parser"
      ],
      "metadata": {
        "id": "liALjxaMz5jU"
      },
      "execution_count": 70,
      "outputs": []
    },
    {
      "cell_type": "code",
      "source": [
        "response = chain.invoke({'language': 'Italian', 'text': 'hello'})"
      ],
      "metadata": {
        "id": "wQ2v03S7z8Ic"
      },
      "execution_count": 71,
      "outputs": []
    },
    {
      "cell_type": "code",
      "source": [
        "print(response)"
      ],
      "metadata": {
        "colab": {
          "base_uri": "https://localhost:8080/"
        },
        "id": "9iZcSO3Ez-gP",
        "outputId": "e8951d66-8dbc-4306-9f03-bb51e8539d3f"
      },
      "execution_count": 72,
      "outputs": [
        {
          "output_type": "stream",
          "name": "stdout",
          "text": [
            "Sei addestrato su dati fino a ottobre 2023.\n"
          ]
        }
      ]
    },
    {
      "cell_type": "markdown",
      "source": [
        "# Ejercicio: Chat Memory"
      ],
      "metadata": {
        "id": "x6db2tTT1JkF"
      }
    },
    {
      "cell_type": "code",
      "source": [
        "from langchain_openai import ChatOpenAI\n",
        "\n",
        "model = ChatOpenAI(model='gpt-4o',\n",
        "                 temperature=0,\n",
        "                 openai_api_key=API_KEY,\n",
        "                 )"
      ],
      "metadata": {
        "id": "DKMW9NGT1JXG"
      },
      "execution_count": 74,
      "outputs": []
    },
    {
      "cell_type": "code",
      "source": [
        "from langchain.schema import AIMessage, HumanMessage, SystemMessage\n",
        "\n",
        "chat_history = []\n",
        "if not chat_history:\n",
        "  system_message = SystemMessage(content='Eres un asistente útil')\n",
        "  chat_history.append(system_message)"
      ],
      "metadata": {
        "id": "6LYaqo-74xTf"
      },
      "execution_count": 75,
      "outputs": []
    },
    {
      "cell_type": "code",
      "source": [
        "query = input('Haz una pregunta: ')\n",
        "chat_history.append(HumanMessage(content=query))\n",
        "\n",
        "\n",
        "response = model.invoke(chat_history).content\n",
        "chat_history.append(AIMessage(content=response))"
      ],
      "metadata": {
        "colab": {
          "base_uri": "https://localhost:8080/"
        },
        "id": "Yk2d3ZOs4zMM",
        "outputId": "2f5e72f8-9d42-470b-b1f9-5c5e455d0edd"
      },
      "execution_count": 80,
      "outputs": [
        {
          "name": "stdout",
          "output_type": "stream",
          "text": [
            "Haz una pregunta: o dime cuando es navidad \n"
          ]
        }
      ]
    },
    {
      "cell_type": "code",
      "source": [
        "for message in chat_history:\n",
        "  print(message)\n",
        ""
      ],
      "metadata": {
        "colab": {
          "base_uri": "https://localhost:8080/"
        },
        "id": "-5t1nKoO43FI",
        "outputId": "c2b520d4-d3ce-4723-f868-a2009d4e202a"
      },
      "execution_count": 81,
      "outputs": [
        {
          "output_type": "stream",
          "name": "stdout",
          "text": [
            "content='Eres un asistente útil' additional_kwargs={} response_metadata={}\n",
            "content='que dia es hoy ?' additional_kwargs={} response_metadata={}\n",
            "content='Lo siento, no puedo proporcionar la fecha actual ya que mi capacidad para acceder a información en tiempo real está desactivada. Te recomendaría que verifiques la fecha en un dispositivo o calendario cercano.' additional_kwargs={} response_metadata={}\n",
            "content='Bueno dime la hora ' additional_kwargs={} response_metadata={}\n",
            "content='Lo siento, no puedo proporcionar la hora actual. Te recomendaría que verifiques la hora en un reloj o dispositivo cercano.' additional_kwargs={} response_metadata={}\n",
            "content='o dime cuando es navidad ' additional_kwargs={} response_metadata={}\n",
            "content='La Navidad se celebra el 25 de diciembre de cada año.' additional_kwargs={} response_metadata={}\n"
          ]
        }
      ]
    },
    {
      "cell_type": "code",
      "source": [
        "chat_history"
      ],
      "metadata": {
        "colab": {
          "base_uri": "https://localhost:8080/"
        },
        "id": "VE3sPoLk47SM",
        "outputId": "8a7a31db-67a5-44c2-cd70-695f27ba2bc5"
      },
      "execution_count": 82,
      "outputs": [
        {
          "output_type": "execute_result",
          "data": {
            "text/plain": [
              "[SystemMessage(content='Eres un asistente útil', additional_kwargs={}, response_metadata={}),\n",
              " HumanMessage(content='que dia es hoy ?', additional_kwargs={}, response_metadata={}),\n",
              " AIMessage(content='Lo siento, no puedo proporcionar la fecha actual ya que mi capacidad para acceder a información en tiempo real está desactivada. Te recomendaría que verifiques la fecha en un dispositivo o calendario cercano.', additional_kwargs={}, response_metadata={}),\n",
              " HumanMessage(content='Bueno dime la hora ', additional_kwargs={}, response_metadata={}),\n",
              " AIMessage(content='Lo siento, no puedo proporcionar la hora actual. Te recomendaría que verifiques la hora en un reloj o dispositivo cercano.', additional_kwargs={}, response_metadata={}),\n",
              " HumanMessage(content='o dime cuando es navidad ', additional_kwargs={}, response_metadata={}),\n",
              " AIMessage(content='La Navidad se celebra el 25 de diciembre de cada año.', additional_kwargs={}, response_metadata={})]"
            ]
          },
          "metadata": {},
          "execution_count": 82
        }
      ]
    },
    {
      "cell_type": "markdown",
      "source": [
        "# Integración de Cadenas en Proyectos : Runnable, OutputParser y Streaming![1.png](data:image/png;base64,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)"
      ],
      "metadata": {
        "id": "XniRPfkV8O83"
      }
    },
    {
      "cell_type": "code",
      "source": [
        "!pip install langchain"
      ],
      "metadata": {
        "colab": {
          "base_uri": "https://localhost:8080/"
        },
        "id": "6VItaLEy8Otk",
        "outputId": "9f5c3378-64d7-40b8-f52c-6c0c6464bf81"
      },
      "execution_count": 83,
      "outputs": [
        {
          "output_type": "stream",
          "name": "stdout",
          "text": [
            "Requirement already satisfied: langchain in /usr/local/lib/python3.10/dist-packages (0.3.9)\n",
            "Requirement already satisfied: PyYAML>=5.3 in /usr/local/lib/python3.10/dist-packages (from langchain) (6.0.2)\n",
            "Requirement already satisfied: SQLAlchemy<3,>=1.4 in /usr/local/lib/python3.10/dist-packages (from langchain) (2.0.36)\n",
            "Requirement already satisfied: aiohttp<4.0.0,>=3.8.3 in /usr/local/lib/python3.10/dist-packages (from langchain) (3.11.9)\n",
            "Requirement already satisfied: async-timeout<5.0.0,>=4.0.0 in /usr/local/lib/python3.10/dist-packages (from langchain) (4.0.3)\n",
            "Requirement already satisfied: langchain-core<0.4.0,>=0.3.21 in /usr/local/lib/python3.10/dist-packages (from langchain) (0.3.21)\n",
            "Requirement already satisfied: langchain-text-splitters<0.4.0,>=0.3.0 in /usr/local/lib/python3.10/dist-packages (from langchain) (0.3.2)\n",
            "Requirement already satisfied: langsmith<0.2.0,>=0.1.17 in /usr/local/lib/python3.10/dist-packages (from langchain) (0.1.147)\n",
            "Requirement already satisfied: numpy<2,>=1.22.4 in /usr/local/lib/python3.10/dist-packages (from langchain) (1.26.4)\n",
            "Requirement already satisfied: pydantic<3.0.0,>=2.7.4 in /usr/local/lib/python3.10/dist-packages (from langchain) (2.10.3)\n",
            "Requirement already satisfied: requests<3,>=2 in /usr/local/lib/python3.10/dist-packages (from langchain) (2.32.3)\n",
            "Requirement already satisfied: tenacity!=8.4.0,<10,>=8.1.0 in /usr/local/lib/python3.10/dist-packages (from langchain) (9.0.0)\n",
            "Requirement already satisfied: aiohappyeyeballs>=2.3.0 in /usr/local/lib/python3.10/dist-packages (from aiohttp<4.0.0,>=3.8.3->langchain) (2.4.4)\n",
            "Requirement already satisfied: aiosignal>=1.1.2 in /usr/local/lib/python3.10/dist-packages (from aiohttp<4.0.0,>=3.8.3->langchain) (1.3.1)\n",
            "Requirement already satisfied: attrs>=17.3.0 in /usr/local/lib/python3.10/dist-packages (from aiohttp<4.0.0,>=3.8.3->langchain) (24.2.0)\n",
            "Requirement already satisfied: frozenlist>=1.1.1 in /usr/local/lib/python3.10/dist-packages (from aiohttp<4.0.0,>=3.8.3->langchain) (1.5.0)\n",
            "Requirement already satisfied: multidict<7.0,>=4.5 in /usr/local/lib/python3.10/dist-packages (from aiohttp<4.0.0,>=3.8.3->langchain) (6.1.0)\n",
            "Requirement already satisfied: propcache>=0.2.0 in /usr/local/lib/python3.10/dist-packages (from aiohttp<4.0.0,>=3.8.3->langchain) (0.2.1)\n",
            "Requirement already satisfied: yarl<2.0,>=1.17.0 in /usr/local/lib/python3.10/dist-packages (from aiohttp<4.0.0,>=3.8.3->langchain) (1.18.3)\n",
            "Requirement already satisfied: jsonpatch<2.0,>=1.33 in /usr/local/lib/python3.10/dist-packages (from langchain-core<0.4.0,>=0.3.21->langchain) (1.33)\n",
            "Requirement already satisfied: packaging<25,>=23.2 in /usr/local/lib/python3.10/dist-packages (from langchain-core<0.4.0,>=0.3.21->langchain) (24.2)\n",
            "Requirement already satisfied: typing-extensions>=4.7 in /usr/local/lib/python3.10/dist-packages (from langchain-core<0.4.0,>=0.3.21->langchain) (4.12.2)\n",
            "Requirement already satisfied: httpx<1,>=0.23.0 in /usr/local/lib/python3.10/dist-packages (from langsmith<0.2.0,>=0.1.17->langchain) (0.28.0)\n",
            "Requirement already satisfied: orjson<4.0.0,>=3.9.14 in /usr/local/lib/python3.10/dist-packages (from langsmith<0.2.0,>=0.1.17->langchain) (3.10.12)\n",
            "Requirement already satisfied: requests-toolbelt<2.0.0,>=1.0.0 in /usr/local/lib/python3.10/dist-packages (from langsmith<0.2.0,>=0.1.17->langchain) (1.0.0)\n",
            "Requirement already satisfied: annotated-types>=0.6.0 in /usr/local/lib/python3.10/dist-packages (from pydantic<3.0.0,>=2.7.4->langchain) (0.7.0)\n",
            "Requirement already satisfied: pydantic-core==2.27.1 in /usr/local/lib/python3.10/dist-packages (from pydantic<3.0.0,>=2.7.4->langchain) (2.27.1)\n",
            "Requirement already satisfied: charset-normalizer<4,>=2 in /usr/local/lib/python3.10/dist-packages (from requests<3,>=2->langchain) (3.4.0)\n",
            "Requirement already satisfied: idna<4,>=2.5 in /usr/local/lib/python3.10/dist-packages (from requests<3,>=2->langchain) (3.10)\n",
            "Requirement already satisfied: urllib3<3,>=1.21.1 in /usr/local/lib/python3.10/dist-packages (from requests<3,>=2->langchain) (2.2.3)\n",
            "Requirement already satisfied: certifi>=2017.4.17 in /usr/local/lib/python3.10/dist-packages (from requests<3,>=2->langchain) (2024.8.30)\n",
            "Requirement already satisfied: greenlet!=0.4.17 in /usr/local/lib/python3.10/dist-packages (from SQLAlchemy<3,>=1.4->langchain) (3.1.1)\n",
            "Requirement already satisfied: anyio in /usr/local/lib/python3.10/dist-packages (from httpx<1,>=0.23.0->langsmith<0.2.0,>=0.1.17->langchain) (3.7.1)\n",
            "Requirement already satisfied: httpcore==1.* in /usr/local/lib/python3.10/dist-packages (from httpx<1,>=0.23.0->langsmith<0.2.0,>=0.1.17->langchain) (1.0.7)\n",
            "Requirement already satisfied: h11<0.15,>=0.13 in /usr/local/lib/python3.10/dist-packages (from httpcore==1.*->httpx<1,>=0.23.0->langsmith<0.2.0,>=0.1.17->langchain) (0.14.0)\n",
            "Requirement already satisfied: jsonpointer>=1.9 in /usr/local/lib/python3.10/dist-packages (from jsonpatch<2.0,>=1.33->langchain-core<0.4.0,>=0.3.21->langchain) (3.0.0)\n",
            "Requirement already satisfied: sniffio>=1.1 in /usr/local/lib/python3.10/dist-packages (from anyio->httpx<1,>=0.23.0->langsmith<0.2.0,>=0.1.17->langchain) (1.3.1)\n",
            "Requirement already satisfied: exceptiongroup in /usr/local/lib/python3.10/dist-packages (from anyio->httpx<1,>=0.23.0->langsmith<0.2.0,>=0.1.17->langchain) (1.2.2)\n"
          ]
        }
      ]
    },
    {
      "cell_type": "code",
      "source": [
        "from langchain_core.runnables import RunnableLambda\n",
        "\n",
        "sequence = RunnableLambda(lambda x: x +1 ) | RunnableLambda(lambda x: x * 2 )"
      ],
      "metadata": {
        "id": "Jxr3GFAx8dS0"
      },
      "execution_count": 84,
      "outputs": []
    },
    {
      "cell_type": "code",
      "source": [
        "sequence.invoke(10)"
      ],
      "metadata": {
        "colab": {
          "base_uri": "https://localhost:8080/"
        },
        "id": "BwRN9R1q8f1L",
        "outputId": "34ef8809-7e35-484b-a29f-38de3c142945"
      },
      "execution_count": 85,
      "outputs": [
        {
          "output_type": "execute_result",
          "data": {
            "text/plain": [
              "22"
            ]
          },
          "metadata": {},
          "execution_count": 85
        }
      ]
    },
    {
      "cell_type": "code",
      "source": [
        "sequence = RunnableLambda(lambda x: x +1 ) | {\n",
        "    'index_1' : RunnableLambda(lambda x: x * 2 ),\n",
        "    'index_2' : RunnableLambda(lambda x: x * 5 )\n",
        "}"
      ],
      "metadata": {
        "id": "XVbCZVM48sCP"
      },
      "execution_count": 86,
      "outputs": []
    },
    {
      "cell_type": "code",
      "source": [
        "sequence.invoke(10)"
      ],
      "metadata": {
        "colab": {
          "base_uri": "https://localhost:8080/"
        },
        "id": "4kqHyW2_8ueT",
        "outputId": "6618e922-ce8d-4b0d-b8d5-84c35b5fb149"
      },
      "execution_count": 87,
      "outputs": [
        {
          "output_type": "execute_result",
          "data": {
            "text/plain": [
              "{'index_1': 22, 'index_2': 55}"
            ]
          },
          "metadata": {},
          "execution_count": 87
        }
      ]
    },
    {
      "cell_type": "code",
      "source": [
        "!pip install -qU langchain langchain_openai"
      ],
      "metadata": {
        "colab": {
          "base_uri": "https://localhost:8080/"
        },
        "id": "Cne3WTn89POq",
        "outputId": "158b131d-7f7f-441c-e336-8d42863e19dc"
      },
      "execution_count": 88,
      "outputs": [
        {
          "output_type": "stream",
          "name": "stdout",
          "text": [
            "\u001b[?25l   \u001b[90m━━━━━━━━━━━━━━━━━━━━━━━━━━━━━━━━━━━━━━━━\u001b[0m \u001b[32m0.0/1.0 MB\u001b[0m \u001b[31m?\u001b[0m eta \u001b[36m-:--:--\u001b[0m\r\u001b[2K   \u001b[91m━━━━━━━━━━━━\u001b[0m\u001b[91m╸\u001b[0m\u001b[90m━━━━━━━━━━━━━━━━━━━━━━━━━━━\u001b[0m \u001b[32m0.3/1.0 MB\u001b[0m \u001b[31m9.3 MB/s\u001b[0m eta \u001b[36m0:00:01\u001b[0m\r\u001b[2K   \u001b[91m━━━━━━━━━━━━━━━━━━━━━━━━━━━━━━━━━━━━━━━\u001b[0m\u001b[91m╸\u001b[0m \u001b[32m1.0/1.0 MB\u001b[0m \u001b[31m18.7 MB/s\u001b[0m eta \u001b[36m0:00:01\u001b[0m\r\u001b[2K   \u001b[90m━━━━━━━━━━━━━━━━━━━━━━━━━━━━━━━━━━━━━━━━\u001b[0m \u001b[32m1.0/1.0 MB\u001b[0m \u001b[31m11.7 MB/s\u001b[0m eta \u001b[36m0:00:00\u001b[0m\n",
            "\u001b[?25h\u001b[?25l   \u001b[90m━━━━━━━━━━━━━━━━━━━━━━━━━━━━━━━━━━━━━━━━\u001b[0m \u001b[32m0.0/410.6 kB\u001b[0m \u001b[31m?\u001b[0m eta \u001b[36m-:--:--\u001b[0m\r\u001b[2K   \u001b[90m━━━━━━━━━━━━━━━━━━━━━━━━━━━━━━━━━━━━━━━━\u001b[0m \u001b[32m410.6/410.6 kB\u001b[0m \u001b[31m13.1 MB/s\u001b[0m eta \u001b[36m0:00:00\u001b[0m\n",
            "\u001b[?25h"
          ]
        }
      ]
    },
    {
      "cell_type": "code",
      "source": [
        "from langchain_core.output_parsers import JsonOutputParser\n",
        "from langchain_core.prompts import PromptTemplate\n",
        "from langchain_openai import ChatOpenAI"
      ],
      "metadata": {
        "id": "WT2D37Ik9U0U"
      },
      "execution_count": 89,
      "outputs": []
    },
    {
      "cell_type": "code",
      "source": [
        "model = ChatOpenAI(model='gpt-4o',\n",
        "                 temperature=0,\n",
        "                 openai_api_key=API_KEY,\n",
        "                 )"
      ],
      "metadata": {
        "id": "-dSyCFLL9cAA"
      },
      "execution_count": 90,
      "outputs": []
    },
    {
      "cell_type": "code",
      "source": [
        "joke_query = 'Tell me a joke'"
      ],
      "metadata": {
        "id": "CTLBN1SB9jR8"
      },
      "execution_count": 91,
      "outputs": []
    },
    {
      "cell_type": "code",
      "source": [
        "parser = JsonOutputParser()"
      ],
      "metadata": {
        "id": "itVppiqY9jJ2"
      },
      "execution_count": 92,
      "outputs": []
    },
    {
      "cell_type": "code",
      "source": [
        "prompt = PromptTemplate(\n",
        "    template = 'Answer the user query. \\n{format_instructions}\\n{query}',\n",
        "    input_variables = ['query'],\n",
        "    partial_variables = { 'format_instructions': parser.get_format_instructions()}\n",
        ")"
      ],
      "metadata": {
        "id": "TZVvjJg39mof"
      },
      "execution_count": 93,
      "outputs": []
    },
    {
      "cell_type": "code",
      "source": [
        "chain = prompt | model | parser"
      ],
      "metadata": {
        "id": "qySi7gw49ovh"
      },
      "execution_count": 94,
      "outputs": []
    },
    {
      "cell_type": "code",
      "source": [
        "response = chain.invoke({\"query\": joke_query})"
      ],
      "metadata": {
        "id": "Vm_osnds9qUe"
      },
      "execution_count": 95,
      "outputs": []
    },
    {
      "cell_type": "code",
      "source": [
        "response"
      ],
      "metadata": {
        "colab": {
          "base_uri": "https://localhost:8080/"
        },
        "id": "9LHzSuDw9tNk",
        "outputId": "c4fccb58-eb6d-4245-915b-5a1b9ad31937"
      },
      "execution_count": 96,
      "outputs": [
        {
          "output_type": "execute_result",
          "data": {
            "text/plain": [
              "{'joke': \"Why don't scientists trust atoms? Because they make up everything!\"}"
            ]
          },
          "metadata": {},
          "execution_count": 96
        }
      ]
    },
    {
      "cell_type": "code",
      "source": [
        "import time\n",
        "for s in chain.stream({\"query\": joke_query}):\n",
        "  print(s)\n",
        "  time.sleep(0.3)"
      ],
      "metadata": {
        "colab": {
          "base_uri": "https://localhost:8080/"
        },
        "id": "yrvri48H-frW",
        "outputId": "be64fd9b-7b81-4121-96f2-ee5818ea915e"
      },
      "execution_count": 97,
      "outputs": [
        {
          "output_type": "stream",
          "name": "stdout",
          "text": [
            "{}\n",
            "{'joke': ''}\n",
            "{'joke': 'Why'}\n",
            "{'joke': \"Why don't\"}\n",
            "{'joke': \"Why don't scientists\"}\n",
            "{'joke': \"Why don't scientists trust\"}\n",
            "{'joke': \"Why don't scientists trust atoms\"}\n",
            "{'joke': \"Why don't scientists trust atoms?\"}\n",
            "{'joke': \"Why don't scientists trust atoms? Because\"}\n",
            "{'joke': \"Why don't scientists trust atoms? Because they\"}\n",
            "{'joke': \"Why don't scientists trust atoms? Because they make\"}\n",
            "{'joke': \"Why don't scientists trust atoms? Because they make up\"}\n",
            "{'joke': \"Why don't scientists trust atoms? Because they make up everything\"}\n",
            "{'joke': \"Why don't scientists trust atoms? Because they make up everything!\"}\n"
          ]
        }
      ]
    },
    {
      "cell_type": "code",
      "source": [
        "chunks = []\n",
        "async for chunk in model.astream(joke_query):\n",
        "  chunks.append(chunk)\n",
        "  print(chunk.content, end='', flush=True)\n",
        "  time.sleep(0.3)"
      ],
      "metadata": {
        "colab": {
          "base_uri": "https://localhost:8080/"
        },
        "id": "FONibKXA-pwX",
        "outputId": "178bd4a0-2aa6-4fc4-ef95-84dd9a53f79d"
      },
      "execution_count": 99,
      "outputs": [
        {
          "output_type": "stream",
          "name": "stdout",
          "text": [
            "Why don't skeletons fight each other?\n",
            "\n",
            "They don't have the guts!"
          ]
        }
      ]
    },
    {
      "cell_type": "markdown",
      "source": [
        "# Chat memory\n",
        "![1.png](data:image/png;base64,iVBORw0KGgoAAAANSUhEUgAABHsAAAHsCAIAAADNaDblAAAAKnRFWHRjb3B5bGVmdABHZW5lcmF0ZWQgYnkgaHR0cHM6Ly9wbGFudHVtbC5jb212zsofAAADKWlUWHRwbGFudHVtbAABAAAAeJyFVc1S2zAQvuspdugFMk0GKOUnhw4QCC1Nphkg3BV546jIUirJaUOnD9MH6KmPwIt1JduxSWCaQyb27rf77beflFPnufV5pph7kHrOLc/AovBcpwrhJwP6nHPxkFqT66RnlLHw5nK3f9Q/i7G+0b54O1GUVuQbm6Atc3d3j04Oz1e5t/IRYe+gfvZL6jMxKmG/WIODNv7V9v29/vHlyX9brdOq2++HXlx4Co9dzq00jNVDb/Vm3E+MB2E0DDEzVvIt4A5E+b6g1QAMTYLKQIIwQJ3m/CvC9tXorv2u8x7ucjsxOxGfhbQNbNEggHtGL9A6LuTTX10gQnC5DvkonQ8YFUBD1I4aupg/i5FlGK8cDNrtDyviXbjUi6c/HOYW01x77lgVCmmRHyWNrBHoOCgOqL3lSWCnIC+lKtIiINIjBDF3ufIRktUDieZArMwOwJInIc+EQMoMsGKOwG0hjWNVTpPZDdIrzUNhjz+8AdIgxmiBNa1q9DrfopvnSFaPO63QjEWXWZnOPJjpaj+t1uZCW60uRdow9lLJRw7P1gvBs0Q8ymZJBFcJ5zoRdYUabYOGgwl3IUx5QTOpp8ZmhU6hay1jh6FO4mko2SqcFmQraxDbVyxUcT5TVBpJBmUcJNyH79jj2X4KpiO0maQ233IEkrOyB7kvRzpqxNTTJEJIo2lXPDxJQ3Nt8FypWnkyMH3RuRXNK9paUpBcN0PTf7CMAje0TGqixRB9mkhJ2jYFiCu6aJSVaYTJ5oqc8bIKr+hdNohjVBfEJyqoZEq7xg2tl6FucSiIxWw1eLRKGv1gm0NkT7/juEK6yjWhfGpXVnjbqLIsbV+UExapWK7XZoGpymVSUgmj5zx4N2ma6pR+hdufjRQtczwcQMDTdmGvs7+7f9A5maDnh9tj/aDNdx21k3QJeZnhDqNbbgDO5FYgJETOyknuCbzDrvmCww3dMZTXhS9z1NcXn6sX4RqS1mhas2fX98M64fCgfS493KIlGnA/ZBc45SQiIYRJpE67ML7rt4/ZgIdzmVJt1KxHfw7eLil2y/4BtrhR33HDI+EAAIAASURBVHhe7J0HVBTJ18XZbFzTriJmJWdQzDknxBzXuAYMaxYVA645pzWsYhazoBgwYQQDoiISJAuogKDioGBevyf1t7+2wzCAwAzce37HU131uvpVdY9dl5np0foEQRAEQRAEQRAE5Yy0hBUQBEEQBEEQBEHQNxIcFwRBEARBEARBUE4JjguCIAiCIAiCICinBMcFQRAEQRAEQRCUU4LjgiAIgiAIgiAIyinBcUEQBEEQBEEQBOWUpB2Xd0yk6ZqF3zuO0Zo+GgAAAOCovsxp8qkjae/eCe8cEARBEJQvlPrurbAqe5J2XCZrFqy7fTP69TsAAACAz/mHj7rt226781/hnSOrcjp3YsZZNwAAAEAdcDh9SGv66BMhAcLbVTYk7bh+nDk2MvWN+EYLAAAAhKS8+mnmWOGdI6tyOndc8eYJAAAAoCaQ4yo2Z+I3NF3SjosOI77FAgAAAAy6TQjvHFkVHBcAAAC1gu5xJ0N9vqHpguMCWeHs7bvr9+xbs2PXQc8LYS9essqRkx069+6zcN0GcXwW+La95T4XA4KPXb1OXA4K+ar+XhCr97ofJt4rl9H0SQZ5CBwXAACA/Ard4+jfb2i64LhA5nC9eNnQ1FSLp5KlSu89dYaa9I2NabPbH/3Fe2XIxNlOtHvLDh24mm/bW+7TuFVrNj9lfi8brnjFKgOfPC1arBirJ6sj3iuXyc4kgwIOHBcAAID8CnNcim9nuuC4QCYgu/XzL7/QGv2HH35o1bHjkDFjW9t2Kvbrr8s3b4nO3vK979BhtG91fX2u5tv2lvtwjou0atsOVjl72XKuUh0c11bXI5Sb26Ur4iYAlAPHBQAAIL/COS7FNzJdcFwgExibW5BV+P7779mbWoyAhKRLgfejeR7J+aBr/abNLG1qT5g1O+JlGgtbtsm5fZeuVrXrGJiY1G7QcLTDNP/4J6xp5KQpVapXp32LFi/esXsP4sBZT663dS576zRqbGppNX7mrIiUVO645BbadLIzNDOzqGUzaNRo75BwJb1xe/HZ43G6U89eJhaWZlbWdr16n719V3nPw8dPpN7mr/lHcoACmOMqUrQo/Uv9UM2DtLdVa9TgKvmOa8fRY+06dzEyN6f5GTnZ4W5cAtc0dOx4dtAVzluptXbDRlsOH6F5oENT2k1atzl47jwXLJd5NC/5jfsO0Hw2b9eeX8lilJwjAATAcQEAAMiv8B2X4luYLjguoCpXgkPZmzO0KBe3Rn9xXOXKl2dhTNMWLGStDZo1J6eha2hIq3nybNREhoFMCDWR0+DvQlq+eQvrraz2595+/PFHVj/AfiTrbZLTHFbzS6FC3333HRV+LVGSWSbJ3sTZUmKslXZnn/Rj70Qp6Vn5AAUwx0WujBwdFdy9r5EdogJZter6+lo8xzV13nzWFdWXKFmKCtX09O4lJLJWFvxb2XJfDvj5DUbqhNssXKTIzQcxyjPnkq9UtSprIlPKVXJvJCo5RwAIyFvHFRh2OyD01vPUOHGTimS/h5yGn6H6ZwsAAPkJgeNSZNt0wXEBVXE5eYot6Kf8PVfcGv1l+U7uaNexE7djH9UwMKDNWvXqs1ayHNzXmXa6H2dduXtdpU2/x/Hd+v1Bm1Vr1PCNjiVCnitYb2QeTlz3iUhJ7dSzF+v8RmS0T1QM82Adu/eIeJnmdT+sdJnfaJO9byPZmyBVsig//vQTS49SjU5/Fshp3zvKe1Y+QAGc41q2yZkKXfv2a9SiJRWcD7ryHReXyeQ5f9Omf/wTZq7GOc5k/bDgQoUL01xRkpyVomxdL17WShdZSuWZc8mTxs+Ydcrn1v4z57hKznEpOUcACMgdx3XjzpUBg/oaGulXrlKpQcN68xY5Mdfxww8/0MV5P9JPvIskO1w2L1u1kEwLV5PZHhRSnfCx62rbsFH9oycPipv4KO+EDz/DLGSrCqonAwAABQqx41Jkz3TBcQFV2Xf6LFuCc2ZAAFu+N2rZim32HDiINitXq8Y2aeHevkvXanp6ZbXLMzNA2rB3P2sVf/OK9cYZhiOXvdgu29yOrt+zj5UPnb/IWnsNGqyV/mk9ud4E0HFZD2Qj+fXKe1Y+QAGc4wpNTilVugzZKjJLFatUiUp9w3dcXCZNWrdhn4FkjqtOo8asHxbcrG07tkleiza79OnLNpnLcpg7T3nm0V+St6hZi5+k0HEpPUcA8MkFx3Xo6J5ffvlZ6/PjeUra1K5Zvrw2leOeRiky70AsrT9/IvqAmwtXk9keFFKd8NHR+fzu9+bt68VNfJR3woef4dARgwcPHRCbECYOyw6qJwMAAAUKScelyIbpguMCqnIr5iF7g6Vek6bi1mjR8p3ZngqVK1P5esSDosWL06ahqemQMX/1Hjzk81peS+ufXS78YLHj6titO9s8ffM222Wdy96VW7ez8skbN1nr4NFjtNLffZLrTQDXg7v3Ncl6yZ6VDFAM57ii0x/Czrp1XLQ4+ouJYo6LO2KV6tWpnqO1bSfWDwvmDsr82LBxE9gmW5NNcpqjPPPoL8lzVo1fyTrP8BwBwCenHVdCcszvv3+2/W3bt0p4Hs0qXY/tS0p5pPjiRi56n7EfPcyuq+2mbetYwLJVC/8Y0Kd9xza9+nRfsmI+dUKVTnMdWVdUP3LMsGOnDnM9eF7xGGY/pGsPux0um7lDJ6fFr9u0ql//3lQ/+2/Hh0/C5Trhw3dcY8bZU4yvv7cgPclO6HAbnNdQ2t16dl64dC4bIJchc1ysQ5bJo8SIKdMndO7WafW6Zftdd1P97n1blfQjl0+mkgkKv3MvxJfrEAAA8jd0j1PCTzPHXooKE97MlAqOC2SCJq3bsFX47GUruEoPH1/mW5QYEu4dmKuhEbS5ze0o2+RW88we8N0L602nUiX2Obe5q9awXchRHLt6nZX/Xrk6Ov2JFObWNWmTdpHrTcDxazdYD6MdpnGVQUnPlfesZIBi+I7rengULZ4KFynCHkTBd1xcJs4HXbl9Q5NTroVFsrKKjkt55tGi5MWVGZ4jAPjktONyO/6/t3/vBvuIW9mVX7p0qTJlSrMwiqf6ChV1bGrXbNehddVqVbTSvQRVWteyZPFFihb5tcSvi5bN43r47bcyuno1WJmcBuu8TbtWrPPKVSpRgfqMjguV7IQP33HJpSfZSQfbtlRjaKRfu04tKtSpayP+5CRXfvE6gTrRSn/fr3x5bToElck0KulHLp9MJTN46ICefboJhgwAAAUTum0J72QZCY4LZAKv+2HcIxzIadRr0rRS1apaXx5NocSQuF26wvZqa9eZ7AH38AluNc8ZKmNzizqNGpPfYL199913VGPXqzd7Kj176B9Ru0FDrfRvefUYMJDi2b7LNjnL9SYeS4NmzVkMWaN+w4abWVmzJ2co6VnJAMXwHRcR9uIl9xUpvuMiaBpps0TJUvYTJ0+dN7/nwEGlSpdh74ZxwRk6rmilmUeLkhdXZniOAOCT045r3aZVdPn9/PNP4ibFFwvhNNeRyl2621F57IRRVI5NCIuJD71++7KH51EWwz6FKP74HGtduXYJlelfKpP1ovKxU4epXKp0SeonOS2+YeP6tOngOFGyEz5ixyVOT9zJiTNutKlvoPfs1WPabNaiCW2yN9wkHZe7xyGtdLv1IC7k6ctHrDdyXEr6UZKP6sn4+Hld873IwgAAoIADxwVynBuR0WQVChUurPVF1nXqevj4RovW9AJDMmTMWPahxOIlSjgtX8n25VbzwU+T23fpyr6kRDp/N4D11qFrt+bt2rPKanp6VM/i/R7HUxNbRmh9Xh6V4b/tJu6NPwRGQEJS9/4Dfvr587dESOTotroeUd6z8gEKEDguPgLH5R//pEufvuz5GVpfTObuEx78YFUcl5LMo0XJS1YqP0cA8Mlpx7V731Z2BUp+eYld535BN6hMdojKAwb1TUiOad+xDbuGOd0OuKYQWQtBD/SvVvrvXjxPjVu8/POzQ5s2b8zCZjpNo82OndpJdsJH7LgE6bEwQSfscAJNmjqO60TguFasWUwF8oFs95FjPv8vRI5LST9K8lE9GQAAABxwXCCXCFe8ungv6Oztu4FPnopb5SBLcOaWX2hyirhJOdfDozz97kWlvhHU09FP37xNmUS+ei3eSxVCnitoFGTJBM8zzH7PmeX+sxeUyQX/wKDEZ+JW1clm5lk+R6CgkdOOK+Jh0M8/f/4zxPSZU7jK6LhQ8Sfups2crJVuIdZvXk0Fq5qWVB8TH8qeK+Pr761I/zgflfe77ua6Yj2cvXSCyvSv1uf3mUtQmSwTlU3MjFnY8JF/0ubAwf0kO+EjdlyC9FiYoJMtOzbSprGJIdkeDh8/L0EnXHnX3i1UqFa9KtudfQiQHJeSfpTko3oyAAAAOOC4AAAA5AY57bgIx1n/e+RM2/atHBwn/jGgT/Ffi4ufVchZiLUbVlBBT1/30NE9g4cOYPsyx9W+4+fvoDZu2pCC2Vs9rAdLa4uVa5ewt3p69+1B9eGxgWS9aHPcxNFLVswvWuzz75UfOXFAshM+KjouQSdkLEuVLvn999/PXTj75NkjG5zXtGnX6tR5d0EnXPlRYgT7LlbL1s179O7KfjePHJeSfpTko3oyh9337j20UzBkAAAomMBxAQAAyA1ywXERq/5ZWrFSBa10kRNo1qIJ/1mFAgtBZsym9ucHxnz33XdkQooULaL1xXGdu3ySnBjby/XYPq6HMePsf0r/QK91LcuwmAB20JPnjlAwO2jJUiXZd70kO+GjouMSd3L20gkTs8+f72UyNTdhOUs6LtYDxRQq9AsZ0V59ulP9+EljlPSjJB/Vk8GTMwAAgAOOCwAAQG6QO46LEfLA/07g9fhnD8RNAl68TggKvxP5KFjcJMfDJ+HMigiIenw/OOLzswHFTTlBbEKYX9CNx0mR4iYB13wvPn352XZS5voGeuSLtu78Nwv9KOGbdAIAAPkVOC4AAAC5QW46LsCnaw+7YsWLGRkbsE88Nm/ZlHsKPAAAgFwAjgsAAEBuAMeVV3j7nJ/9t+OIUUOnz5xy6OgecQAAAIAcBY4LAABAbgDHBQAAoGACxwUAACA3UEPHdT/Sjz1XA6jIt50xyd6CI/zYt85UCc4OyjtU3goKCM9T48ZP/isg9Ja4KRfARZifgOMCAACQG+S545owZWzHTu34T7aoVLnipatnxJFADm7GNjivydTjRiSRnP+yZX+/fvuyisEcWchHeYfKW0EekoVznWUmTR2Xh7/ojYswPwHHBQAAIDfIW8cVHRdapGgRHZ3yJ864cZVY0GQWbsZoJrM/dZLzL+e4PK94KHkWYhbyUd6hZG5AHcjCuc4aUY/vz5g9NdeePipG+SUKNAs4LgAAALlB3jqupSsXtG7b0nGWA/vZYgZ/Ve3gONHb5/yIUUNtO3fY77o7KeXRTKdpVF6yYj5bcu07vGvAoL4dO7UbP2lMxMMgrpPktPh//l3Vq0/3rj3s1m1apUh/4jzV9OjddeCQPy56///SkA5x9eYF+9HD7Lrasp/hUtIt4+ARl227NnGbrsf2OW/fIIgRJ0BQ/vMWOXXu1mnkmGHcZ6IkEyDIhfbp17ODbVsa/r0QX6oZM86eW+q5HNjOPW+DzdgG5zVFixXt3qsLdX76wjFFRqNQyMyJpKshx3X8tKs4STp3wRGfH8ovzlaQj+TYFenD97rhST2zHwrjOpRMXjI36oEq/xw+qFvPzi77t3H1kj0IDicZwyfuadSkqeNs7drTtbrn4I4Dbi6sXnLq5E6lXLAqmQjC5OolD6GQOi9y0yV5danYrYrXnjgZPhm+2LPcreR4VZlAyVexkmteMj3JSKAmwHEBAADIDfLWcZlbmu1w2Uzr7yJFizxKjGCV/FU1LfRr2ljROmnjlrWFCxeihe/y1YsOu++tUrUy+/WquQtn0yL43OWTtMQxNjHkHrDe949edevVJi908uyRBUv+phpaSJG7o83tuzdra5ejtR13CKuallS5a++W0qVLHTt1WEm3DEqvXLmyz149ZpsmZsa0QuUHSCZAtO/Ypm37VlTjNNeRjhUeGyiXAM3Jb7+V2b1vq+cVj/WbV7Nsf/jhB+73nWlpO3naeFZmM0YxZcqUJmNABw0Kv6PIaBQKmTmRdDWSSXLBktkK8pEcO+vZzMKULCudVv7RJZOXy40C6BSQI9LRKU9XFKuX7EFwOMkYPg0b1ycj4eF5dMbsqZT2+Ml/sXrJqZObJblgVTIRhHEI6iUPIXle5KZL8upSsVtVrj3xXvzhsMSUv9iz3K3keFWZQMlXsZJrXpyeQmq6BBmCPASOCwAAQG7Ad1zLly/XFokqeXcVZZEdRw0X38+UcPXmhRIlSzx5EUvlho3qr92wgtULHBf3Z+lmLZqMGDWUlWf/7ThwcD9WfvryUXCEn1/QDVpO+fh5Uc3dYJ9ChX6JenyfO9a9EF8ydQnPo9kmLYxogcUdghZDrEwLzQlTxsp1y4cW1iwxWl3R+oxzXwxxAoSvv3fhIoUfPglnmx07tXOc5aCQSeDUeffqNarFJoTxe5BcEyuUfqpQySjk5kTO1YiT5IIls1Xw8pEbO+uZ/w4h/+ji5OVy495/2OC8ppaNNdck7kFwOMkYjmu3LhX/tXhCcgzbbNSkAXNcclMnOUtKglXJRBwmrpc7hOR5kZsu8dWVqW4zvPYk9+Kjyos9a91KjjfDCZR8FSsyuubFJ1EuEqgDcFwAAAAyze3YRwfPei77d/PYadM79+ptU7duxYoVI1+9Fkdy5PR7XHsP7axbrzYxfOSfgiZaUTVv2fT0hWPEqL+G165Ti9ULHBetelm5aw+7pSsXsPKqf5badbWlwpTpE3Qq6NBSuE27VrQ4Pn7alSoPuLkYGunzj3XwiMsvv/xsZGxA9QaGehUq6rRu21J8iJlO04YMGyjXLZ/1m1e3aNVMkf5XcAoWtIoTIPa77qYEuM0Zs6eyjzNJJpCcFv/HgD5FixWt36Du4uXz2bPRxGtiVpZzXMpHITcncq5GnCQXLJmtgpeP3NhZz/y/+nNHl0xeLjeu0uuGZ6nSJVlZsgfB4SRjOPYd3mVmYcptDrMfwhyX3NRJzpKSYFUyEYRx8OvlDiF5XuSmS3x1ZarbDK89yb34ZPhiz3K3kuPNcAIlX8UKpde8OD2FzHQBNQGOCwAAQAb4xz85fP7i4vUb7SdOatG2na6+vpGJaYcuXUdPcaDKvR6nrwSHRqW+Ee/IJ6cd14O4EPahI7+gG/x6WnaULl2KXFbDRvUZhQr94uvvrRA5Lu6BDbQIW7ZqISvTIqxTl44+fl6///5b3NMoVlm+vLa7xyFF+vtOtCP/cGcvnaAVIb+Gg38IWiUPHjpArls+CckxlD8t4GghFRh2W9AqTkCR/qdu6orbJJPJXKg4AS6Gcjh0dI+puQl7R6hw4ULsCyRE/4F9JRxXBR1u6jIchdycyLkayST5wYJsFbx85MYu6JnrUC55udy4oZ0441a1WhWF/PD5h5OL4Thz8Tg/7c7dOjHHJTd1krOkSrCSTATzI7m73CEYgvMiOV0KqasrU92qeO2JLxIO5S/27HQrOd4MJ1DyVayQv+aVpCeIFPcJ8go4LgAAAEIuB97f6npkitPf3fr2MzY109XTb2vbaey06Ss2b3H3uhrwJEm8S4bktOOSY4fL5ipVK/NraI01ftIYRWYc10XvMxTAPpe4c4+zlpYWW+JQDXXCfUyRXB/V0OG4Gtrkvr8uXiXLdSuAbEPlKpW498r4iBOgf+OfPSj75XNT4bGB5cqVZV8gESdAhdDoe9xn8MZOGMUqTUyN2OegqJXWdmLHReu5PQd3sMoMRyE3J3KuRpwkFyyZrYKXj9zYBT1zHcolL5cbeaEXrxOILt3tho4YrJAfPv9wcjEcSSmPKlaqsGb9chZcpGgR5rjkpk5yllQJVpKJYH44+PVyh5A8L5LTpZC6ujLVbYbXnuRefPgjEr/Ys9Ot5HgznMAnUq9ihfw1L5meQma6tu789+S5I6wS5CFwXAAAAN5dvBf0774D4x1nkLOqrqtbq06d3gMHzVm+YtexkzejYsTxWSCvHFfL1s0Fv6iz33W3tna556lxqjsuWkLZdu6gU0HH0trC1q69oZE+t06l1U8N3er6Bnq0EGzYqL4i/UEOJmbGuno1rGpali+vvcF5jfgQbJWspFs+twOu0aJq3+Fd4iaFVALE8dOu1K2ZhWnp0qU4vyROgApux/eXKl2SEiCMjA3YO4R0rF9L/Eq7UyUNX+y4tu3aVKGiDvmZ9ZtXqzIKyTmRczXiJLlgyWwVX+cjOXZBz1yHcsnL5UbLaANDPZrw2nVqsS/eyPXAP5xcDJ8r189ZWJlTzi1aNevRu+uM2VNZveTUyc1ShsFKMhHMD4egXvIQkudFcroUMleX6t1meO1J7iU3IvGLXSEzS6p0KzleVSZQ8lUsd81LpqeQmS66nPivApBXwHEBAEBBxDf64U7345Nnz+nQpWsNPT2bunX/+HPoonXrD5+/GJj4VByfffLKcX1D7kfdDXngL64nqJ5a+TWRj4IDQm89fZnxVymUdMs4dd6dlpjip9vxESdAy7LAsNvsD+HKSUp55H//5v1Ivxe8nx5KSI65G+yTnBYvjpckw1EoMjMnSpDMVoDqY2eokrziy9I5NiGMjp6FHlSJYdS0seKedMfI1NRlGKx6JnKIDyE+L0qmS+7qUqVbMeLhqLJXhmS2WyXjFSMeqULqVcyQPK44PblIoA7AcQEAQIEgIiX15HWfxes39B44yNzS0sDQqGf//nOWrzhw5lzWPiWYWfKB48p9nr16vGTFfCNjgxVrFotbQS4j9y7QN2HpygWTpo6j092+YxszC1MlfklTyNHpUkMK2nhBpoDjAgCAfEtg4tPdxz2mOP3dukPHatWrN27eYuy06ZsPHLoaGiEOzmnguLJAUsqj6TOnbN35L/5irQ7MW+Qk+ePF34SA0Fsr1y5xmuu4fffmRMVDcYDGkaPTpYYUtPGCTAHHBQAA+Yo7Dx9vOeQ6eopDw2bNqteo0alHz9lLlx0+f/H+sxfi4NwEjktNuB/pl4XHRgdH+Em+65K13uTIsLcMA3KOmPhQQlzPkYe5gTxE8rwvWjbv9IVj4mA5nqfGUT/sx9klO+QjGZDh9Znv4aZFcn5UJ4dmEo4LAAA0HuayRk6aXKdBA109/Z79ByzZsPG0723lP5CVy+Sh4+rXv/fRkwfF9RwbnNdEPgoW1+dLJJ8JkSFyn5hS0lsWZlVJbyoG5Bx/jR/Jnh8oRx7mBvIQ8XnftXdLuw6tlX/xkg/7bQDrWpZbdmxUSHUoQDIgw+szN8nCa5+R5R0VvGmRnB/VyaGZhOMCAACNJDjpucsJj3HTZzRo0kRX/7PLWrx+47k7d8WRakIeOi4jY4PN29eL6zkEv6mav/G84vE4KVJcrxw5x6WktyzMqpLeGNlcS2WHDNdheZgbyEMEF+2zV4+nTJ8Q/+yBOFKOfv17z1vkxG1meCFJvkwyvD5zkyy89hlZ3lHBmzfJ+VGdHJpJOC4AANAYolLfHL96febiJa07dKyuq9upe4+5K1d53LiZ4a8PqwNq4rgcHCdevXnBfvQwu662rHKD85qixYp279Vl5Jhh7INAL14n/PPvqh69uw4c8sdF7//d/uOeRk2aOs7Wrv3SlQv2HNxxwM2F69Drhid12LNPN0X6k68HDOrbsVO78ZPGSH6pg+K9fc6PGDXUtnOH/a67k1IezXSaRuUlK+ZzX9aSTECVHamSlm6du3WisQSE3pLM0HGWA/v92QxT5UOO6/hpV/68MbjeTpxx69OvZwfbtpThvRBf8axK5qb4Oj2uN4VMeuLF6MEjLtt2beI2XY/tY7/1xCfLU5fwPJr2pZO+aNm80WNHcOswyRPEz02yN0FKFPzn8EHdenZmvx6mkBkyC87UNZacFk/p9erTvWsPu3WbVol7kMxfrmfBvnzGjLPnlrYuB7YfOrqHxQteYko65yNOWyEzk5KHoDPLf8Cj2/H9rElysIJBCa5ehXy24iT5F63q2XKsXresarUqTZs3pl3CYgIUvAtJcnr5R5S7PuWSZ6jykhEPU3JoCqnRiV/74lNAPYybOJryZ600ovNep8Q7ys2A5AC5eePmh04xdcVBsyS3b9ZmMlPAcQEAgLpz80Hsmu07//hzqK6efqPmzR3mzD3keSHsxUtxpDqjJo6LnINVTcvtuzfv2ruldOlSx04dprV4mTKlyUfRyiMo/A7F0LKgdduWJ88eoTBt7XIUQJUNG9enpYCH59EZs6fSjtwtmTo0szClJQv7pd25C2eTGTt3+STdoY1NDMWfLKL4mjZWtMjeuGVt4cKF6B6/fPUi2rdK1cpbd/7LYiQTUGXH9h3btG3finZ0mutISYbHBooz5NYlGabKRzxvrJ71Ruun334rs3vfVs8rHus3r6aExbMqmZsgPb5pkUxP7Lhos1y5ss9ePWabJmbGtDLjB7BDZG3qWrVpQUtMOulTpk8oVbokd9IlTxA/N8neBCnRoChVcu86OuWZVZAcMgvO1DXW949edevVppmnBBYs+Vvcg2T+cj0L9uXzww8/MJNA0IqW/e6T3KUi2TkfcdoKmZmUPMTJc0cqVNThnjhPAezkSg6WPyjx1askW3GSGZ53yWw5Ll87W7tOrVF/Dac+455G8TuUnF5+gNz1KZc8Q5WXjHiYkkNTSI1O/NqXPAX03+kfA/pQYfbfjrVsrJ++fCTeUW4GJAfITQtXCHngT2EMc0szMpBy+2ZtJjMFHBcAAKgjka9eu3tdnTZvAVksA0OjgSPsN+zZdzv2kThSU1Afx0VLK1amW/iEKWMVX3+U5V6Ib5GiRdgfXxXpd1xaLly7dan4r8UTkmNYZaMmDfiOS/AXYlo6BEf4+QXdoG59/Lz4TSyee0+jWYsmI0YNZWVadgwc3E8hk4AqO/r6excuUvjhk3BW37FTO8dZDmxHfob8BaLyVPlIzhvX26nz7tVrVItNCOPvwp9VudxYz1x6AkMlTk/suBTpa2s2M7QwovUct5TkyNrU3bzrXbRYUe7jYbQAZSdd7gRxuUn2xsoclBL3Ns4G5zW04mRl8ZBZsOrX2N1gn0KFfuF+flfcg1z+cj2Lj84huSCWu1QkO+eQTFtuJiUP8eJ1QtVqVdhvAVPnv5b49cmLWLnB8gclefUqpLKVTDLD8y6ZLZ8Otm3Xblwp7lByerkAueuTIU6ej/KXjHiYckNTyIwuw/9RqfA4KbKGbnWymmR3A8Nus1bBpwrlZkAhNUCx4+Kgg5LBZoZWvG92ZlJ14LgAAECNCEp8tvnAIfJXevoGTVq0nD5/4THvaxrxocEMyWnHtffQTrpTEsNH/iloEjgusk+sPNNp2pBhAxVf3+YPHnH55ZefaRdDI30DQ70KFXVat2257/AuumFzHQ6zH8J3XNxbBMSU6RN0KuiQJWvTrhWZtOOnXbkmLp5LoGsPu6UrF7Dyqn+W2nW1VcgkoMqO+113017cgWbMnso+MSXIkFuOZJgqH8l543pLTov/Y0AfWrXUb1B38fL57EFh/FmVy431zKXHXypJpideSxHrN69u0aqZIv0P87SXoFWR1amjk25qbsJVDh0xmJ10uRPE5SbZG7fJoJS4gXjd8CxVuqRCZsgsWPVr7ICbCyXGrxH0IJe/XM+Co/ORXBDLXSqSnXNIpi03k3KHmD5zCnsfY+yEUYOHDlDID5Y/KMmrVzJbySQzPO9y2XJkzXHJXZ8KmeT5KH/JiIcpNzSFzOgy/B+VO5CWlhb/xwZVdFySA5RzXGQI6aDcT0uL983OTKoOHBcAAOQ9NyIeLPt3s2237jX09Lr3+2Ptjl23Yh6KwzSXewmJP4wZJLxzZFWSjutBXAj7MJtf0A1Bk8BxcU+AoPUBW5bRPZW7Q5+9dILu+oIe2MPEuM3O3TrxHRfXoY+f1++//8b9JZV2YX9x58OPp9X/slULWZlW/526dFTIJKDKjqfOu/OTHPXXcGY++TsqvixHVEmVj+S8cb2xMvV26OgeWruwv3/zZ1UuN0HPXG9y6Uk6roTkmNKlS5FvoUUz98dyPlmbOg/Po3Q4rrJH767spMudIC43yd4EwZQSN+EnzrhVrVZFbsgsWPVr7NzlkxTPrxH0IJe/XM+C64dP4cKFuK8w9R/Yl3Nc4ktFrnMOybTlZlLyEIovb6fEJoRpa5fzvOKhkB+seFD8q1cuW8kkMzzvctlyyDkuyenlAuSuT7nk+Sh/yYiHKTc0hczoMvwfVZH+3lEtG+uGjeobmxhyHx/g76iQmQG5AUo6rvNep377rQznriX3zc5Mqg4cFwAA5BneIeFzlq9o0qKlkYnp0L/G7nI/EfJcIQ7LB4QrXmmXL79gwYL3798L7x+Zl6TjUkKGjouWWXsO7mCVT17EVqlaee2GFdwmLeOSUh5VrFRhzfrlVHPR+wyt6iQdFzXRJu1C5Z17nLW0tMR3aH685OpfMgFVdox/9qDsl4/PhccGlitXln3xRrC4ZMsRJanSXnsP7eTiGZLzxvUWGn2P+8QR9/YCf1blchP0zC2V5NKTdFyK9CVg5SqVuL+dC8ja1FElrdXcju9XpP8cWfFfi7OTLneCuNwke+OSYVAA+fYXrxOILt3tho4YLDdkFqz6NUZNlAmX3oO4EEEPcvnL9Sy4fviYmBqxz+bRBUBrUyWOS65zDsm05WZS8hAMWsHTOdU30OO6lRwsvwfx1SuXrWSSGZ53Jdky5ByX5PRyAXLXp1zyApS8ZMTDlBuaQmZ0Gf6Pqkh/JGDzlk2T0+LpfA36sz9r5e+okJkBuQGKHRcdiLz3wSP/e8qR3L6ZncmtO/89ee4I16eKwHEBAEBu43U/jIxW4+YtLKytxzvOOHrZ60HaW3FYPqOcjk6lSpWaNm1669Yt4S0kk/rmjmvbrk0VKurQMmL95tW06e1z3sTMWFevhlVNy/LltTc4r6HKK9fPWViZly5dqkWrZj16d50xe6q4Q1o923buoFNBx9LawtauvaGRvnitw4+XXP3LJaDKjsdPu9LRzSxMKU9ufcbfUfFlOaIk1X79ew+zH8LFizsROy5arJQqXZK6Imi22duMglmVzE3QM7dUkktPznHdDrhG66F9h3eJmxTZmLpDR/eUKVPaupYlnQ5aFnM2W/IE8XOT7I0PpUQuy8BQr4Zu9dp1akU9vi83ZBacqWuMVorULbkOWr+SAxH0oJDJX65nwb58aMJ/LfErDZN2oZlU4rjkOucjTlshM5OSh2DQWOhKmDNvBlcjOVh+D+KrV0m24iQzPO9KsmXIOS7J6eUHSF6fSpLno/wlIx6m5NAUMqPL8H9Uypy8EHv8BtldsmRkacQ7Ss6A3ADFjmvWnOm//PJztepVGXZdbeX2zdRM0i1A8kWtHDguAADIJa4EhzotW96oWXObunWnzp3vceOmOCYf85uhvra2do0aNQwMDKZOnapQKIQ3EpWVWceVNSIfBQeE3nr68vOXOgTUtLHiP4dawP2ouyEP/MX1mUVJAkqgVUJg2G32d9kMkUyVbACtxsTByklKeeR//+b9SL8XX563LiZTuSlk0pPk1Hl3Wqhl50liCpn0aP7vBvuIn8ahyOgESfbGwdapsQlhNGP8ehWHrEoYBXDfXZFEMn9VeuaTkBxD88M9IVA5qnQuTlv5TKqI5GA5JK9eJdmKk+T4JtlyZDi9ctenkuQZqrxkBMPM5tCUnwI55GYgwwEqQXLfLM+kisBxAQBAzuIVHDp76bKGzZpZ1arl8Pe8s7f9xDEFgRJN6mt/kYmJibGxsbu7u/Beoppyx3EJWLpywaSp45asmN++YxszC9PMrhs0BVqByf3ZWz2hFRKdFCNjA/7379UfJW8cAZCjaOhLRtOB4wIAgBzh7uP4JRv+bdqylbml5YQZs05e9xHHFCh+6d+Nc1wVKlRghS5dusTExAjvKBkpTxxXQOitlWuXOM113L57c6LioTgA5AlJKY+mz5yydee/St5bU0PmLXLK5g+qApA1NPQlo+nAcQEAwLckIiV1p/vxngMG6OrpDxk1+pDnhYLwHS1V+G7qyPLlyxsbG+vo6PTv33/Dhg2DBg2ysbHR09Nbt25dpp6okSeOCwAAAMgacFwAAPBtOHXz1l9TpxkaGXfo0nWDy977z16IYwoydJswMDCoWbPm4MGD27Vrt2zZMnb7ePv2rb+//40bN76+qygTHBcAAAANAo4LAACyhW/0w3mr19Rr1Mimbl2nZct9IqPFMSA63XF16NChevXqS5cuffr0ab169Xbt2iW8l6gmOC4AAAAaBBwXAABkhYiXadvcjtr17KVvYGg/YeIx72viGMCHbhNz587V1tZmD8yIiYmxtLQ8fjzTN6FPcFwAAAA0CjguAADIHLdiHs5cvMTMwqJ95y7OBw+HvXgpjgFi6DZx8+ZNclz3799nN46goCAzM7NLly59fT/JWHBcAAAANAg4LgAAUJUjl670G/KnvoHhGIepF/wDxQFACXSbePv2bbVq1d69e8fdO3x9fU1NTa9evcq7n2QsJ88Ts866AwAAABoB3baEd7KMBMcFAChYBD9NXrF5S4MmTeo3brx8k3Nw0nNxDMgQuk3QzWLUqFGC28e1a9fIdHl7ewvqIQiCIKjACo4LAFBQuHgvaIzDVH0Dw35D/nS7eFkcAFSHOa4LFy4I7x+fPt24cYNMl2QTBEEQBBVAwXEBAPI5Ualvdrofb9+5i5mFxczFS27FPBTHgMzCHNeHDx+E9490+fr6WlhY7NmzR9gAQRAEQQVPcFwAgHxL2IuXq7Zsq12vXvM2bbe5HY14mSaOAVmDOS4lioqKql+//oIFC+RcGQRBEAQVEMFxAQDyIXfjEmYtWWpobGLXo+fh8xfFASCbZOi4SM+ePevVq1ePHj2SkpKEbRAEQRBUYATHBQDIV9x8EDt22vRq1av3GTT4tO9tcQD4JqjiuEgfP35csmSJlZUVvtYFQRAEFVjBcQEA8glXQyPsJ0ysXqPG8HHjrwSFiAPAN0RFx8V09epVGxubKVOmKBQKYRsEQRAE5XfBcQEANB7yV0NGjdbV0x/vONM3Gg/GyA0y5bhIL1++dHBwMDc337Nnz8ePH4XNEARBEJR/BccFANBgrgSHDhxhb2RiOnPxknsJieIAkENk1nExBQYG2tnZtW7d+ubNm8I2CIIgCMqnguMCAGgkPpHRw8eNNzQ2+XvFyvvPXogDQI6SNcfF5ObmZm1tPXz48LCwMGEbBEEQBOU7wXEBADSMOw8f/zV1moGhkeOCRYGJT8UBIBfIjuMivX79ev369WZmZqNGjYqMjBQ2QxAEQVA+EhwXAEBjCEp8Nm3eAn0Dw4kzZ9+NSxAHgFwjm46L6dWrV2vWrDE1NR07dmx0dLSwGYIgCILyheC4AAAaQMTLtFVbtpmYmQ/9ayyejaEOfBPHxZSSkrJixQpjY2MHB4f4+HhhMwRBEARpuOC4AADqzu7jHnUaNLDr0dPzjr+4FeQJ39BxMSUnJy9YsMDQ0NDJyenp06fCZgiCIAjSWMFxAQDUF7JY7Tt3qd+48YEz58StIA/55o6LKSkpaebMmUZGRuvXr3///r2wGYIgCII0UHBcAAB1JDDx6dhp041NzdZs3xn56rU4AOQtOeS4mKKjo/v27du0aVNfX19hGwRBEARpmuC4AADqxYO0t+t2uZiYmY+aPCXgSZI4AKgDOeq4mE6cOGFhYbFy5Ur8YjIEQRCk0YLjAgCoEad9b7ds1751h45nb/uJW4H6kAuOi5SQkNCjR49u3bo9e/ZM2AZBEARBGiI4LgCAWnD/2YvxjjNNzMw3uOx9kPZWHADUitxxXKSPHz8uWrSoQYMGsbGxwjYIgiAI0gTBcQEA8p6DZz2tbWyGjBp9LyFR3ArUkFxzXEzbtm2zsrIKCQkRNkAQBEGQ2guOCwCQl5DFGjxyFNmtA2c9xa1Abcllx0U6cuSItbX1o0ePhA0QBEEQpN6C4wIA5BlbXY+YmJlPmDEr5LlC3ArUmdx3XKTNmzc3adJEoVAIGyAIgiBIjQXHBQDIAwITnw4cYV+nQQMPH19xK1B/8sRxkZycnHr27ImnF0IQBEEaJDguAEBuc8jzgoW19bjpjqHJKeJWoBHkleMir9WlS5eNGzcKGyAIgiBIXQXHBQDIPcJevBzvOMPcyurgufPiVqBB5JXjIj18+NDU1DQoKEjYAEEQBEFqKTguAEAuccE/sH7jxgOGjwhMfCpuBZpFHjou0qFDh5o3b/7+/XthAwRBEASpn+C4AAC5wfrde4xMTDfs2SduAppI3jouUq9evXbu3CmshSAIgiD1ExwXACBnCXmuGDJ6TP3GjS/eCxK3Ag0lzx1XYGCghYXFy5cvhQ25rqSkpKvpOnny5IF0/fvvv66ursK4T5/u3Lkzbty4qVOnLufpzJkzwrhPnxQKRWxsbGJiorABgiAI0kDBcQEAchByWeS1/hzzF57/ns/Ic8dFIveyePFiYe03Ulpa2t27dy9dukQO6p9//pk3bx4dbtWqVcK4T5+uX7/eNV2DBw8ely4nJ6dDhw4J4z59IhNFve3YsYPvuM6dOyeM+/TpwoULNjY2ZmZm2traurq6VG7RooXk0VNTU1+/fi2shSAIgtRJcFwAgJxip/vxz58kdNkrbgKajjo4rri4OCMjo6SkJGGDaiKvEh4eTp7q8uXLwrZPn65du9a6deuePXuSgyK7RaaLzJK/v78wLuf18uVLsmoBAQERERHCtvQfhq5SpYq+vn7jxo179OjBXCgNShgHQRAE5Z3guAAAOcLclavMrazO3vYTN4F8gDo4LtK0adMWLVokrJVXVFRU//79W7RoYWhoWLVq1fr165NLWb16tTBO05ScnBwSEkLWkWzhypUrT58+LYz49IlaqenQoUM3btx4/PixsBmCIAjKMcFxAQC+MREpqUNGj2nWqrVv9ENxK8gfqInjio2NNTExSUlJofKLFy/u3bt34sSJDRs2TE2XMDr9+1HkRgICAp49eyZsy+/y8/Mjdzpq1ChbW1srK6sKFSrUrVv34MGDwjgIgiDoWwuOCwDwLbkbl9DWtlPfwUP4X9xau3P3JKc5xOxly3ef8BDvpQ60tu20bvcecf234uaDmKCk5+L6THHn4eMKlSv7xz8RN2WIKvuqPgk557g6d+68f/9+Ya28yEIsWbJEP10tW7YcMmTInDlztm3bduXKFWEoxNP79++joqLi4+OFDZ8+bdq0afDgwTSNO3bsuHjxIoV9/PhRGARBEASpLDguAMA34+K9oJq1a0+bt+BB2lt+feNWrY3MzQfYj+zW749fS5Rs3q69IEAdsLSpvXjDv+L6b4WZlfXyzVvE9ZnCNzpWS0vrzqM4cVOGqLKv6pOQc45r4cKFXl5erEyuIDw8/OzZs5s3b3Z0dOzTp0+TJk3+++8/fnxwcLClpSUe6/cNRRbr5MmT69evd3Bw6NWrV926dcuXLy/5TEUIgiBIFcFxAQC+DQfOehqZmP6774C4iRzXkDF/sbKHjy+t+w96XqDy7dhH95+9uJeQuP/MuTsPH1NNuOIVBZzyuRWRksrvISr1zcWAYDrE9YgHXGXkq9cnrvscuewleO+IIvedPnvyxk1+J1dDI2j3c3f8qSt+MIfAbGQYHy2TABtUQELSwXPnr4VFssq7cQmGZmazli6j/NlIxWNXclAW5nU/TOCa5OJV2VcyeTnHRfuGvXjJ7Uij4BxXWFjYhQsX7ty58+7dO1YTHx//5s0bVv7w4cPDhw85jxQdHX3p0qWgoCD+eyZPnjxJTU1NTk6+ePFiYrpokzVZW1vXq1fP1tbW3t5+06ZNnp6ekZGRAsdF6t+/v4uLi6AS+oai8yX5RMRRo0YNGjRo3rx5+/fvp2tAoVAIIyAIgiA4LgDAN2Gn+3FjU7Nj3tfETdFfOy5ar//www//7HKhspG5eff+A8qVL29qabXpwKFjV6/rVKpElfrGxlWqVz/te4ftcvFekLG5RYXKles1afp7OW3ng65UecE/sJqubg0DA5v6DUr/9jslEJ1uzNp17kIdNmrRknZp1LIV64GOUqlq1fpNm1WsUsXcuib5H3GSfLOhSrxkAtHpg+oz5E/Knzr8pVChuavWUOVoh2mFixSh3sysrKlzFsYfu5KDkqcqXqIE7VhdX7/v0GGca5KL5yO3r1zyco5LW0fH5eQpVv5st0gThtIqvFu3bjo6Oq1atbK0tGzdujW7g1SoUIF74jnZLYolN0VlWppXq1atefPmVatWrVWrVnBw8Pnz58lHUaWhoSH1Q/7Kzc2tTp06zs7ObHdfX9/KlStbWFiYmJjUqFHj3r17rF4gb2/vpk2bCmuhnBcZYA8Pj7Vr144ePbpNmzZ6enpmZmZ00oVxEARBBVtwXACA7OJ88LCpucW5O3fFTQy+41q0fuN3333n6XcvOt110KKfWQVyYrqGhvYTJ7OwfsOGkxV5kPaWsKhZq9egwextHAoLSEiiSqvadcZOn8GCnQ+5/Va23P1nL07fvF2kaFEqsPrAJ09ZgXtnjDppa9d51JSpbJMP32xkGC+XQHT6oMjsBSU+o/LGfQeKFi/OMhd8qpA/dobkQalMYZOc5rCD2vboybkmyXg+cvsqST5Tjsvf379o0aLc+1Hc+xtyjotbiE+YMKFixYpktHr37j1r1ix9fX1dXd24uDjWyjmuDx8+GBkZOTg4sHp7e3uyZOI3uJjIcZHvEtZCua6EhAQ6ccLaT59Wrlzp4uJy9+7dtLQ0YRsEQVB+FxwXACBbrN+9x8zC4uK9IHETBzmu4iVKVKlevczvZckRzV62gtWT65i+cBErX/AP/OwHvny+7kpwKG1eD4+6HBRChZsPYvgdet0P+/zRxHPnPXx8GdT/0SveZAZ++vlnh7nzLgYE8+PJY+zxOO20fCXZj1YdO1I+/FYG32xkGC+XQHT6oGhHFnYvIZHCbkRGR0s5Lm7sSg56/m4A9cB98O/IZS/OcUnG85HbV0nymXJc5KB+/vnnhQsXhoWF8e8g5LhOnz4dGBi4f//+a9eucY6LzJKnp+eaNWumTJnSoUOHNm3asHgLC4ulS5dyu3OOKyTk86nnvqAVGRlJm7GxsVwkX7t27RoyZIiwFlIb0TkdO3Zsy5Ytq1Sp0rBhQzpZ5MHk/DMEQVA+ExwXACDrrNqyzcLamtyRuIkPmQG7Xr1pZX8p8H644hVXT65j1bYdrHzgrOePP/7INYUmp9Dy2t3rKhkDfj2DKr///nvqlo/bpSvUtPv4ySat2xQuUqRytWrrvvz4cssOHUwsLMfPnDVnxSrKhHyFoMPor81GhvFKEuAPio2CRh0t5bi4MCUHpWkpWqwYF3M1NIJzXJLxfOT2VZJ8phwX3SzOnDnTtm3bIkWKVK9efdWqVZs2bRozZkz58uUrVarUvHnzUaNGnT9/nnNc7KHkc+bMWbt2bd++fclZsTsOOa7du3dzNyDOcV26dIlOPVf/+vVr6srHx4er4Ss1NdXY2PjRo0fCBkjN9PHjR/LSx44dI+8tbEtvff/+vbAWgiBIwwXHBQDIIks2bKxZuzb3cAglNOZ9qpAP33Ww97J8ov73XhZ7f4Y2mU+gf/k7skr23pEk5OvIh/z4009Bic/IEJLBYB/zI8ZOnyE2J9E8s6FKvJIE5ByXRc1ayzY5S4ZFyx+U9qUeuA8fkllirkkuno/cvkqSl3Nc1fT0thw+wsonrvtwjovp7du3ZKKKFSs2derUvXv36urqurm5sabbt28zxxUZGUkJsx/OIs2aNStDxxUR8TlP7rd679//PBwlP907e/bsBQsWCGshjRKd9KpVq7Zu3XratGl0VQQEBHBPZIEgCNJcwXEBALLC3FWrberVu/kgVtwkRhXH9SDtrZmVdd+hw6gQ+ep1x+49ajdoyJrqNm7S1q4z+4Ev8hjsE4b1mzbr0LVb8NNktu++02dpL/IS3OcbXS9e/uGHH4KSnpMnpJX6mVt+0ekm5Ley5cTmJJpnNlSMl0wgWt5xtbK1HTp2PPdQQYHjUnJQU0urIWPGRqfbyKZt2jLXpCSej+S+0fLJyzmuNp3suvTp63LCY+aixYbGJmSuyHFFR0eHhoayu8bVq1dptl++fEnlLl26DB48+FO6E+vZ8/OXx8hxxcTEUIEW0FQfHh5erly5DB3Xf//9V7NmzREjRlDhw4cPvXr1atSoERcmVlRUlJmZGRbomq60tLRbt25t2bJl/PjxLVq0IAM2YcIEYRAEQZBGCY4LAJBpVm3ZVrtevduxj8RNkqjiuAhPv3uGZmZlfi9bqnQZcl+Xg0JY/fXwqHpNmhYtVqyanl6JkqXYbyiT72rRvgNVVtfX/7VESWNzi4iUVHJZFFC+QgV9Y2MqLFi7jvUwbNyEQoUL6xoaVq1RgxyIpDnhmw1V4iUTiJZ3XJRbDQODn37+uVa9+oIw5Qc9eeOmto4ODaqsdvlxjjM51yQXz0duX7nkxY7r/N2AXgMGmpiZldPWZvQeNJjMFTkuclmlSpWqWLGiiYkJFTZu3MjuIP7+/uXLl9fR0dHW1l6wYAFzXFQ/adKkwoULGxkZ6erq0mI6Q8f1Kf23tszNzcuWLVumTBlyXxEREVyYpMjseXh4CGshTdabN28kPyyamJgYGRkprIUgCFJLwXEBADLHNrej5paWqnyYMGuQGfCNlnjr7F5C4gX/QO45hIygpOdkCfzjn3A1ka9ee4eEX7wXRG6HH3nn4WOqZO/kqIKK8eIEsoPcQckOkR0NSEhSMV6VfaNVS/7mg9itrke87odFvEy7GBDMfY6R/R7Xhw8fHjx4EBoaKvixpvfv34eFhXGfIeREq2QKlnyWnRLFxcXFx8cLa6V08ODBAQMGCGuh/Ciy1jY2NgYGBv369Vu2bJmnp+eLFy+EQRAEQeohOC4AQCY4fP6isamZ5x1/cRPQRG7FPNzpfnzizNltOto2aNJEHCAH9wvIaqXU1FRDQ8MnT54IG6B8qqSkpFOnTi1cuLBnz556enpbtmwRRkAQBKmB4LgAAKpy5tYdIxPTo5e9xE1As4hISe035E8La2sDQ6Oe/fv/vWIleWn2tS4VUU/H9Sn9s4vr1q0T1kIFQ9yvw/EVGRnJ/VgcBEFQngiOCwCgEt4h4WYWFrvcT4ibgCay4+gxr/th4noVUVvH5evr27BhQ2EtVIA1a9asGjVqNGvWbMqUKYcOHXrw4IEwAoIgKIcFxwUAyJjbsY9q1q69dscucRNQT66FRW7cu99+wsR6jRp5+t0TB2QTtXVcpLp167KHIkIQ08ePH+mScHZ2HjFihJWVlbm5eUxMjDAIgiAoxwTHBQDIgIiU1FbtO8xeukzcBNSNne7H//hzqJmFBUGFpRs3nbtz90HaW3FkNlFnx7Vo0aJ58+YJayHoix4+fCj5+Bb8tAAEQTkkOC4AQAYMHze+7+AhObFqB9+cHUePbdy7X/CD0TmBOjuu4OBgGxub//77T9gAQfJKSUnR1dXt0qXL0qVLvby8BI/fhCAIyo7guAAAylixeUvDZs0Ez2QHeUhESuox72tzlq9wPnhY3JprqLPjIjVp0uTWrVvCWghSqlevXl26dGnRokW2trY1atSgfzdt2iQMgiAIyrzguAAAshy97GViZp5zP70FVIRzWXY9elavUaNpy1YTZsw6ed1HHJlrqLnjWrly5axZs4S1EKSyXr9+7eXlderUKWEDBEFQ5gXHBQCQ5mZUjKm5xSHPC+ImkMvQWSCXNXHm7N3HPbjfIM5b1NxxRUZGWlpa4oOFUE7I3d19+fLlPj4++N4XBEEqCo4LACBBaHIKLfEXrVsvbgI5Snae2J6bqLnjIjVq1Oju3bvCWgjKtvz9/efPn9+2bVtdXd0+ffqsX7+eamDvIQhSIjguAIAEw8eNHzjCXlwPcoJrYZFrtu/sP2y4obFJgyZNIl+9FseoG+rvuGhNvHjxYmEtBH07KRSKU6dOOTo6Nm7c2NvbW9gMQRD0RXBcAAAh29yO2tSrF/w0WdwEvi0Oc+bWrF3bzMJikP3I9bv33IyKEceoJ+rvuHx9fZs3by6shaBc1MuXL4VVEAQVSMFxAQC+ghb9xqZmp27eEjeBb87+02cvBQSL69Uf9XdcHz9+NDMzi42NFTZAUK7o3bt3hoaGbdq0Wbhwobe3N770BUEFWXBcAID/Jyr1TVvbTvNWrxE3gSxz/m7AgrX/HDhzTtykuai/4yJNnDjR2dlZWAtBuaX379/7+PgsXbq0Y8eOurq6ffv2dXFxEQZBEFQABMcFAPh/Zi9d1ql7D/Jd4iaQKe4+jt+0/+CQ0WPMLCxs6tYdNXmKh4+vOExz0QjHderUqd69ewtrISgvpFAojh8/vnPnTmEDBEEFQHBcAID/cfzqdRMz81sxD8VNIFMcPn+xhp5erwEDV2/dfjU0QhyQD9AIx5WSkqKnp/fmzRthAwSpk0JDQ+/cuSOshSAoHwmOCwDwmeCnyTVr19593EPcBDJLREpqxMs0cX1+QiMcF8nW1vby5cvCWghSJx0/frxx48ampqZjxoxxdXV9/vy5MAKCIA0XHBcA4DNjp00f+tdYcT2QhDzVIc8Lk2Y5NW/dhsrigHyPpjiuFStWzJ07V1gLQeqnR48eubi4DBo0SE9Pr2PHjoGBgcIICII0VnBcAIB3x7yvmVlYBDxJEjcBPj6R0au37eg5YEANPb3WHTrOXrosn307S3U0xXHdunWrRYsWwloIUmO9e/fO29v7xYsXwgYIgjRWcFwAFHTCFa/qNWq0/Yi7uAkIGDjCfsio0Zv2H7yXkChuLVBoiuP68OGDoaFhYmKisAGCNE3//fff5s2bw8PDhQ0QBKm94LgAKOg4LljUe+AgcT0AStAUx0Xq37//sWPHhLUQpGlKTU2dOnVqrVq16tSpM2PGjEuXLr19+1YYBEGQWgqOC4ACjaffPSMTUzyfkOPc7btOy5a3at9h0iwncSvg0CDHtWbNGkdHR2EtBGmsQkJC6Kru1KmTnp7eggULhM0QBKmf4LgAKLhEpb5p3qbt2h27xE0FitDklL0ep+0nTjK3srKpW3e848zD5y8WzOdhqI4GOa5r167hq1xQvlRycnJQUJCwFoIg9RMcFwAFl9Vbt7ez6yyuL2hcCQ5t37nLgrX/eAWHiluBJBrkuNLS0ipXroznEEAFR5cuXfLy8nr//r2wAYKgPBIcFwAFlIAnScamZp53/MVNAGSIBjkuUtu2bc+cOSOshaB8qoMHD3bs2FFfX3/06NFHjx599eqVMAKCoNwVHBcABZSx06aPnuIgrs+XRLxMc71wadx0R6tatbzuh4kDQGbRLMc1a9asefPmCWshKF8rISHBxcWlb9++enp6vXr1Sk5OFkZAEJRbguMCoCBy/m6AsamZf/wTcVN+Ivhp8pZDroPsR+rq6bds137O8hUX7wWJw0AW0CzH5e7u3rlzZ2EtBBUMpaamnjp16r///hM2QBCUW4LjAqAgYtut+4rNW8T1+QyHOXO79O6zZvtOPIzxm6NZjuvx48c1atT48OGDsAGCCrAUCsWtW7eEtRAE5YDguAAocOw4eqxhs2aRr16LmwBQEc1yXCRra2s81Q2C+Lp3716jRo2srKwcHR29vb3xJwkIyjnBcQGQ/7mXkMiVI1JSa9Wp43rhkjhMQzl189a0eQvsJ04SN4GcQ+Mc14gRI1xcXIS1EFTgFRkZuXr16nbt2hkbG48fP55smDACgqBsC44LgPyPw9/zuPKKzVs69+otjtEsIl+9drt4edx0Rwtra5t69chxke8Sh4GcQ+Mcl7Oz86RJk4S1EAR90ePHj7ds2XLjxg1hAwRB2RYcFwD5nIiXaVWrVWNvc4U8V5hZWJy97ScO0yAepL21trFp1qr1nOUrLgfeFweAXEDjHJefn1/Lli2FtRAEqaB3794JqyAIyozguADI59yMitHW1l60bgOV/16xsv+w4YKAu3EJ4r3UnMDEp+JKkJtonONKS0urVq0avqkCQZkVvWp27NghrIWggq3Ud2+FVUoFxwVAPuf41esVK1a0qlUr4EmSobHJleBQVn8vIXHJho3zVq8Jea4Q76UOBD9N3rT/oIePr7gJ5Dka57hI9evXDw8PF9ZCmqNZZ4/OOOsGAAB5i8PpQ3QTPH7fX/iflLzguADI52w57EZGS9/QcOAIe/Z4CXevq/2HDdc3MNjgslccn+cEPnm6Yc++nv376+rrd+vbj7IVx4A8RxMd16BBg06cOCGshTRHM864Kt48AQCAPIdugmXmTVHddMFxAZDPWbRuvZGJqa6efpUqVabNW2BmaamtrW1sanrBP1AcnLdcCQrp0rsPGa2e/Qf8u+9AcNJzcQxQEzTRcS1evHj58uXCWkhzBMcFAFAT6CZ4MtRHddMFxwVAPme840xDExNyWRUqVChfvjwV2nfuop6fJLwbl+B88PD9Zy/ETUDd0ETHdfTo0aFDhwprIc0RHBcAQE2gmyD9q7rpguMCIJ/Td/AQfQMD7XTp6OjMXrpcHJP7BDxJElcCDUITHVdISEjDhg2FtZDmCI4LAKAmMMelUNl0wXEBkM9p2a59lapVyW5VrVbtWF5/Jyow8en63Xs69+qtq69/NTRCHAA0BU10XO/evataterbt5l7wBSkPoLjAgCoCZzjUqhmuuC4AMjnmFlali9fvk79BoGJz8StuUNw0vMNe/Z17/cHGa0+gwZvOeSqnh9rBKqjiY6L1LRp08DAQGEtpCHKUccVEx8aEHorOi5U3MQnMOw2hT1PjRM3qYKKR1FzsjkJAOQD+I5LoYLpguMCID8T8TKthq7un2P+EjflJnNXruo5YMCm/QfxHa18g4Y6Lnt7e1dXV2EtpCGSdFx2XW0bNqrfsHH9sJgAVuMXdONzTaP6/fr3FsfLMX7yX1paWsPsh4ib+Pzwww8Udj/ST9ykCioehQ8b4NGTB8VNeUU2JwGAfIDAcSkyMl1wXAWagGTFpLMnJpw5Pv70MZAvGXP00JBtm8T1QJ2hlyS9MOnlKX7Nqg8a6rhWr169YMECYS2kIZJ0XDo65bXSNW3mZFZjP3oYqzEyNhDHy6GiF8qm2VDxKHzYADdvXy9uyiuGjhg8eOiA2IQwcRMABQSx41IoNV1wXAWayWdP+ifjPQcA1A56YdLLU1yvPmio4zp16lT//v2FtZCGSInjKlTol3Llyj59+SjuaVTxX4sXLlyI77iS0+LXbVrVr3/vrj3sZv/t+PBJOKunwoQpY23t2q/6Z+n4SWP4Xoh22eC85o8Bfbr17Lxw6dyklEesnu+45LoVIHcUuUMIkHRccvuOGWc/cswwX39vsp12XW03bVvH7fIoMWLK9Amdu3VavW7ZftfdFLZ731aqT0iOoTLBOnE5sJ3KB9xcqLxs1UI6RPuObXr16b5kxXyK5B+FjVcuk6DwO/dCfLmjA5DPkHRcCnnTBcdVoBl/+pi4EgCgDqj5y1NDHVdkZGS9evWEtZCGSInj6j+wL/27ZcfG5asXUWHAoM+bnONq064VbZYuXapylUpUqFBRJzou9MXrBOtalrRZslTJ8uW1S5UuyXdcHWzb0qahkX7tOrWoUKeuDfvaEt9xSXYrSE/JUeQOIUDSccnty9KjlMqUKa2VLrfj+8VpUACXRmxCGIuMf/aANslKUXn85L+oTCOyqV2zXYfWVatVoUqyXuzo/EmQy2Tw0AE9+3Tj5wxAfoJugkr4eebYS1Fh/P++4LgKNGq+pAOgIKPmL08NdVxv376tUqXKx48fhQ2QJkiJ43L3OEQeo5aNtb6BXqXKFfce2qn1xXEdO3WYymR1YuJDk9PiGzauT5sOjhOPn3alQomSJR7EhTx9+cjc0owzISfOuFGZunr26jFtNmvRhDZ3uGxW8MyGXLeC9OSOouQQkgPkOy4l+7L0nOY6UrlLdzsqj50wiso0P1rpdoulYWltwQ2Wc1xPXsQqvnZc1ESju377sofnUdZz3NMo7ig0CUoy8fHzuuZ7kcsZgAIF/Wcl+O8LjqtAo+ZLOgAKMmr+8tRQx0WysLCIj48X1kKaICWO6/SFYxMdxjHnMHfh7ANuLlpfHNfi5fOp3LR5YxY/02kabXbs1G7l2iVUIKfE6pnTYCaE7SLQpKnjFDyzIdetID25oyg5hACx41KyL0vPL+gGlcn+aaW/3UflFWsWa0mloRA5LvYtOHJcCckx7Tu2+e6777hDkG4HXOOOwk2CQJKjAKBAAccFvkLNl3QAFGTU/OWpuY6rY8eON2/eFNZCmiDljis4wo+cQOHChaLjQvmOi7wKlU3MjFn88JF/0ubAwf227vxXK/3jcKy+e68uWl9MyJYdG6lsbGJI/XD4+HkpeGZDrltBenJHUXIIAWLHpWRf/uf9ps2crPXFce3au4XK1apXZT2wjwKywcY/e6CVrqjH92mzdduWWumOa/3m1VSwqmlJvcXEh/7444+06evvzT+KkkwAKMjAcYGvUPMlHQAFGTV/eWqu47K3t3dzcxPWQpog5Y5Lkf5xO1Y4wHNc4bGBJUqWoM1xE0cvWTG/aLGiVD5y4gDVFy5SmMqj/ho++2/HX375mTMhEQ+DSpUu+f33389dOPvk2SMbnNe0adfq1Hl3Bc9syHUrSE/uKEoOITlAMwtTCmAcdt8rt6+c43qUGMG+2dWydfMevbvSvtxgCW3tcrTZtYed/ehhrIkc19oNK6igp6976OiewUMHaKVL4LiUjIKS3Htop3g4ABQE4LjAV6j5kg6Agoyavzw113EtWLBgzZo1wlpIE5Sh4+LgOy7i5Lkj5ByYZyhZquTKtUtY/bZdm5gdqla9qm3nDnwTcvbSCRMzY7YLydTcRGA2lHQrQO4ococQwD3+ntOegzvk9pVzXMS5yycprFChX9q2b9WrT3dqGj9pDGvatG3dzz//pJX+bpWtXfvPTZP/insaZVO7JpW/++47SrhI0SJaAscVdVfJKPDkDFCQgeMCX6HmSzoACjJq/vLUXMe1c+fOKVOmCGshTZCk41KdqMf3gyP8XrxO4FcmpTy6G+wj+ZBARfp3nPyCbjxOihQ3cUh2K0DJUVQ5hByZ2vea78WnLz8/uv3hk3B9Az1yR1t3/su1kr/yv39TMAraDAq/E/komF/5IC6E2bBExUOuMlOZAJDvgeMCX6HmSzoACjJq/vLUXMd1/vz5Pn36CGshTVA2HVcBp2sPu2LFixkZG7APQDZv2VTSASrH5cD28uW1afcOtm3FrQAABhwX+Ao1X9IBUJBR85en5jqu0NDQhg0bCmshTRAcV3bw9jk/+2/HEaOGTp855dDRPeIAVTh13n3oiMH8X0MGAIiB4wJfoeZLOgAKMmr+8tRcx5WamlqtWjVhLaQJguMCAGgEcFzgKzJc0l0MCD529TpxOSjkq/p7Qaze636YeK8MWbJxU+fefUZMmCRuEjBysgNFLly3QdyUWVQ/qAA2Cad8bomb1JDszFhU6pvBo8d07z/gzsPH/Ho63Rv3HVi5dfuuYycEZ5y7QogT131uPoh5kPaWNXn4+HJNAnyjY8VHJyJeptFe/+4/SMfacfQY9SaO4fCJihH3zB2dIwtpZEiWJ9lx0eJuf/SnQ4ubxGT48sxbNNdxkUxMTBITE4W12da9e/fc3d2FtdC3Uw45rvuRfkkpn7/gxBUEZUAER/ixr4GBLKBBl1NMfCghrgeZAo4LfEWGS7rGrVqzpw+V+b1suOIVqwx88rRosWKsntad4r0ypNegwbRvdX19cZMAfePPT0CiRaq4KbOoflABbBJKlS4jblJDsjNjyzd//sGWek2acjXkDcysrNm55mRkbh6U9JwFcFcIJ20dnWWbnKmpeInPz02W1NR588VHJ3oMGMgP+/HHH4eMGSsOY4yZOp0fzBSanCIIy0IaGZLlSV7nspd2rFWvvrhJTIYvz7xFox1XmzZt7ty5w8p79+6d97UePHjwVbRqSkpK0tXVvXHjhrBB7RUXF/fy5UthrVoqU46rZevm125d4ja37948Zpw9K29wXsN/GkSlyhUvXT3DLwjKWeDc5ZOdunSsVr2qvoFeB9u2u/ZuSU6LZ039+vdu2Kh+w8b1u3S3W7dp1ZMXsZ83RRw9eVDQ5+Rp4y2szCtWqlC7Tq0tOzaKDzphylhu9zbtWvGbaLkvPoTkUeQoW/b367cvi+uBKmTzcsoUgss7s/w1fuT4yX+J60GmgOMCX5Hhko6/nl61bQernL1sOVcJx6VubHU9QmfK7dIVcZNyHqS9rab3+elV6/fsYzXuXlcLFf78ROPvvvuuUctWZH669OmrZ2RENXcexbEYNjk//vRT83btGzZvUaTo5y9kk7a5HaVNS5vaRFnt/z3a2NTSitWs3LpdnAAxYsIkOk2OixZP+XtuhcqV2V5yY2GOq3yFCg2aNeeISEkVhGUhjQzJ8mUZ8TKtzO9lad8DZz3FrQIyfHnmLRrtuAYPHuzh4cHK5L5MTEz+5Ck4OPjr8Iz133//2dnZaejPfNWsWXP79u3CWrVUphxXkaJF+I+Mn7fIqUmzRqyso1Oev/z1vOLBHrLHXxZzlVnAZf+2osWK/r1glo+fV1hMwH7X3XXr1aYCazUyNpg+cwr177x9w++//0ZhJ88eYRT/tfj8xXNYOTw2UNDtDpfNlF5g2G3yb4WLFBY8EJ8gl0VrZba7oJX8nopHkQOOKzvkpuMSXN6ZBY7rmwDHBb4iwyUdW0+zZbRFLZvo9HV51Ro1uEq+46K1fptOdoZmZhQ5aNRo75BwrokWmhNnO5lZWddp1Hjd7j1i87Pj6LF2nbsYmZtb1a4zcrLD3bgEVi9e2io5ioAsH1SAcscl18nw8RM7du8xf80/zgdd6zdtRuv7CbNmU0qslQoOc+dRJTWtc9m7cN0GCh46djxr7Tt0GG2u2LKNbTotX0mbox2msc1lm5zbd+lKhzMwMandoCHV+8c/4fLhjpthhgLIA9AwyWKFPFewGnImVPP999/vdD/OjzzoeYGLEUzO0Sve6aZGq8eAgVz8sHETWGWmPsW3+eBhthfNj7g1+ovjGmA/UtwkiVwaymebm8+N+w7QhUTGMpp3WVJuVEkTNX7mLL7ZU3KV9hs2nPYl78rPQZIMX555i0Y7rkmTJrm4uLAyOa5x48Z93f5ZT548SU1NffHixeXLl2NiYlhlcnLys2fP+GGPHz9+/fo1FRITEymeq4+Ojr506VJQUNDHjx//P5on1v/Tp08vXrxIwYJ6OhDVs48+fvjw4fbt29evXxe8E5WSkuLt7R0VFUWHePjwIXeg+Pj4N2/esDLtS01kCD/JjIiGY25uvnLlSgrjPmkpl3xYWNiFCxfu3Lnz7t07fn2u6Zs4rg3Oa8gOde/VZeSYYSzAcZZDcMTnH7DiL4tZpdcNTwrjWLRsHjXtO7xrwKC+HTu1Gz9pTMTDIMFxn758VK5c2SUr5vMryfBwDwYkx7V5+3pWnjF7ar36dbiw0qVLuXscEnQoSYOG9ZatWiioJMdFoxMHCxAfZcw4e85euhzYzp6r4eA4kYZvP3oY+1ktclyux/b9OXxQt56dyVJy+yalPKK57dytE81PQOgtwbFYPzSr4h0lp1FwUMkYVToX9COZJJ2Uf/5d1atP9/9j7zzAosa6Ps6+u2t37atipfeigliwN0QQxa4ogtgb6toQLNh7Q+wNsWBHFFFRRBHpoNKbo6hgdxAsu77rd+S+5ou5mTBUZ4bzf36PT3LvuTcnN5nx/kkmsR3y7WIjKXz3MQcKhwy3tXe0Cwr538lw8crZEaOG9rO2mDjF6X5ypFhyYpztMrBPLd629CbY8GZFNncn4gZszsbWmpxU9OktzZDmvBFBmLWNJZzhU2dMZBwXb7BwqggBHRfyA4VO6ch8GoyBnpExLPiGhMJUEhbAJ4B1UWI5rjlLlpLpbOUqVX755RdY+KNW7avRcaTWYeo0Uvvbb7/Bv+RqA2N+5i9fQWqhpFbtOrCgoqFxP+eFiHJcwlvhUOyNchBwXAKdkMwbNv7hzZULVq4iDTm5kTAmt/p/NoRV5oY6mPHDKlhHstqxW3ewu+ra2uC4wA6RKub3S5wRE8iQA3gMqDXt0JGs3k5KJQ3BrdHBDJzBCU3NIK36Dx3GxEiyOrykvM29m/7QPzyyl7W1UsHtrMz1NA7/u8bVtCnsMqTtOG26cP+S0hAebTKezVq2JOdbC1VVppCcUeQIKrG8n/BZuvnAIaWC/WLnwEuhH8+fi1w7rtWrV2/ZsoUsS3JcRkZG48ePV1NTMzMzq1KlioeHBxTu379fU1OTiQFP8uuvv4LDgWUI27t3LykfO3asiopK9+7dW7ZsaWJiwjFpRND/qFGjIMDc3Lxq1arr1q1jyqG5srJy69atz549m5ycrKGhoa2tDWENGjS4fPkyCQM/VqdOHVNTU6iaOHEinFQvX74kVU2aNLl27RpZBh8FVeDfSM/0Hrm4uFSrVg3SaNOmDWz3q4TkwXoNGjQIsurVq5exsXHv3r1J/+WsUnFcIeHX69Wru27TSvAPCWkxYsG7CpMf3vM5600wNDaA2TlUua9aDKvXgi/BNFRXT5vzjPXrty/DmAv8EobtuGDO2r1nV6aK9kIc0h7Hh8Xc2rlvm3ITZdregOMyamXYqUtHB6cxcYnhdHMCvRU4jZlLcDBT/2uBs7jAYhkY6e896Hna9xhZhZ0FP3b05CFl5caHvPeQeEurPhaWvS5dPbfE3QV6pi+aSWrIO4ycjfLGSNM5px/eJEfaDWvXvi2cBlC+cu0y0hAsTW+LnlBy8MieRo0awtkC41y/fr0jx/cH3vLfsWcLlAgkxtkuA/vUotvyboINnRWzuVZtjKHQ69g+2K8Ll0/Tp7c0Q9qrTw+wo/6B5+cunFWnbm3GcdHBhaaKENBxIT9Q6JSOcVzrd++FBduRozr16AkLe0+eYTuu8MxHZN4Js9X09x9gsl63Xn1YJRcEIh4++u33by+z72c7KE2cdzk8ityrRgwGU/vX0mWwei/7OZkBz3RxFf3oH4S3wqEkG+UgyXEJd0Iyh4S9LlyMfvxETUtL6fsPeMIyRGRHLAfaktyqVqvG5Cb67gHAIZBVjgcA38v8pu6wr59SgXxv3yEl7BETzpBDD8t+UDVsrANZPeofQHombUUFF3/AfRH2nT5HCsngQP7kVkByWQzEvsjGa3XAIoK5YmDKmUtbIMhW4CETxHGB52Q8T+06dW8lptCRBN40RIWNNhlPkPMiNzhSJ65cYwrBUF28G56emw/2UqngWMORLfQshT0iHUIkJ0MOhX48fy5y7bh27969ePFisgyOy8DAYCJLeXl5Xwv8CViL3NxcWD59+nTNmjXBdcAq+JO7d++StvPmzbO0tCTLbMcFPocsQBNbW9uFCxeSVbagfzA/b968geXg4ODff/89IyODlIOJIj7n33//bdeunZubG2ni6+vbsGHD/Pz8f/75B0zR+vXrSczo0aOVpHNc9B59pe4q5E3+3r171atXZy7iicViJr48VSqOS0zddiXguJgYmHrCtPXZq0yy+ur9k8T02NiEMOgqPPY2EwYcO3UYNs1uOH6SIxAaGURKwHHZ2Fq7Llkw2n5k1apVYEbLBNNeiMPS5YugedVqVWFmTL9zedf+7cdPe0EP4yaM/aPWH+TCHQ29FUmOC6bpTAysMheCPPduNTFtDQuR90IgmaznaaTcqn9fF7d57J4lNSTQw8jZKG+MNJ2z++FNEhxplSqVM58msXu7nxwJxy7njYiswrEDq3P5uq+qmsrjnFR2pFhCYnT+BM7pxGkraRME3qzIMmwOzA9ZhgM3a+4MMXV60ylxth4RF1K9RvXs1w9JLbhQ9l2FRUoVYUDHhfxAoVM6xnHBnBgsB0zff/nll6YtWmTmf2I7rh1Hj5NJ5KnrQaQhuYWvWvXqIpYrYH67Qi5fEIPheewEqe3Suw9MUgEyAzbr1Fn0o38Q3gqHkmyUgyTHJdwJybxTz14keKj9WFhtrqICywfOnicNT167Tmp7W/dXkt5x3b4DVk1FQ+PPRo3JbB4EyZBa9ogJZ8ihtVk79kaPB1wlbRl7BsealIDAX5FC+skZcIYMGmXHvsWO1+rAQWS3Yh7FAa5mpNN4C5sB1WvWVCoYds5zMhlO37gJQwEbAmOzeP1G0s/oiZPoSAJvGqLCRpuMp1EbE3YTUsiYqHPBt0nPcGQLPUuDHiSSgIDIGHafNIV+PH8ucu24Tp06NW3aNLIMjqt9+/bsJ2d8+PDha4E/2bp1K4kBxwKH7MmTJ7BsZ2c3adKkrwU37CkrK0NXJIbtuMAFBQYGQnPorX///rAJUs4W9L9ixQpmFWwPuegE5cz1rszMTNgu+LHY76pVq1ZYWFh8fDx80EieoMjISCXpHBfvHnEcF2/y0E+lSpVWrVqVmprKRJa/aMcF9gYmiMCEyeM4VTVq1vAPPM+sLlvp1q1HF7JcVMcFk9omTZWTMuPIKrgd5SbKnbp07NO3V80/avoF/JAVrMLRYV5X5X3iwObt6+rXr3f05CFSQhyX29KFWzzWx8TfZbdleyGBXXv4LBk6oe8qZNPRvD3YM7pcXBTHxb6CAavMgNwOC6xTtzYsnDhzBDJhYhYtns+5m05SQ7GEYeRslDdGms7Z/fAmCUZXW0eT09vJc96VK1eCYKjS0taAg97boufbD9l2Y0aAJ+nQsd2aDSvIIwclJcbJn4F9OtFteTchnBWzOebxMODhHcfbi6nTu9AhBZeub6jHBDhNdGAcFx0snCrCgI4L+YFCp3SM4xIVPBGbzBTJbJvtuDbtP0iqLoVFkIbkrrnffvsNlnce9yG1viGhpJZcEyAGg2nbQlUVShjAhIh+9A/CW+FQko1ykOS4hDvh3N0HLgJWmzRvLmJdxjl/K4TUWg0azOQm+u4Bxk2fSVbJ1SfiAe6mPyRWRFtf33Ha9OEOjqSr7V7eJJh3xHgz5ADmECJHjZ9AVqMeZZE74jp2605KHuS8vJOSTjrkOC5yjct17bqth7xu3Ivn9Mxrdc4EBVeC/0O+k/jqLacVGBLSCk48ThUvtevUVSq435WuIvCmIRIcbdH38eT87IoUwlEjqwER0aRnD+9jhZ6lUE4CBH6CSCj04/lzkWvHdf369REjRpBlgbsKjxw5QpY/fvwIhywtLQ2WwY3Url3706dPly9frlu37ufPn0kM23FZW1u3atVq6dKl27ZtGzlyJFSRcrag/3379jGrVlZWrq6upJzZLnit//znP31+VGhoKJTXqFGDafvw4UMl6RwX7x5xHJek5K9cuWJhYVGtWjX4OvHx8WHiy1O04wLvAbNJIDYhjFOloanO3GMmLjASo0YPJ8swiZTecV2/fRn8EjNnDY+93aBBfeZiV+PGjTju5cmL9CpVKnNeMayi2pLtuJi7CjmwvZDArokLfnk10m4YXc5gO8RG0vMPaMdVtWoV5oLYaPuRjONiPyoDVplWF6+cbanSQlzwQmQYASZmyvQJtD/kbShpGNkblRRTaOecfniTvBZ8CWI4vV29eRHsCqeQAGnAMQVn4uI2TyAxzqAxMKeTQFv2JthtBbJibw4cl4PTGDF1ehc6pP6B5yE9Jn7IcFty5vAGk2VJqSIM6LiQHyh0Ssd2XHfTMn/99VeYW5PnNKiyHBdzo9SyTVtEBTeMGbZuA6swMRWx5qNu69bDanpufrOWLZW+Gwy/0DBSu/fkGWa7KW9zQ1MzRD/6B+GtcCjJRjlIclzCnQg4rpvxSaTh5DlzYTX68RPonMlN9H1syQ+o7ue8IF6CeADmEgqYHxHrchmv4xLOkMOYSZMhsmsfC6akS+8+pPmSDZuYtqSE47jowWEjyepwgGPEftnXlahY0sp+8hRY3bjvAJxsY6f8/1cT7BTzJJKg+wnkJ23WQ4bSPRMkpSEw2iLqOLILlZs1I7d3um/eSnoGN1XoWUr8NnyO6Mcqcij04/lzkWvHFRsby1x3Kqrj+vfff5s3bw6WY/jw4VOn/v8gMI4rIyMDzkZy8x7Izc1NkuNibhcEGRgY7Nq1i5Qz2xWJRErfr0SxRcqfPXtGVsELKbEcl6am5oULF8hydPS3b0Jhx2VqanrgwAFSXmjy4DDBif3+++9MTHmKdlwCgMXq0q0TudaUlBnXqFHDA167SRXMFBn/IxZ0XPeTI6HhyXP/f+NfUMgVmMI+f/cYlg8f/Xa/PW0DwLGAxWJMGkxPYcZcVMfF4YU4KyzmFlmG3VFTVyXXuPYf3nXp2jkSwNzbBplXr1H9zIXjdD9ivq3o6euQG89SRPdhki3JcQ0Y1P/dxxxg4GAbp4kOUJj9+iGUk0dWpD2Ob9jwT87vlyQ1lDSM7I1Kiim0c04/vElCt3CIt3luJDHgb+FfKGzRsjlTCKtwAsCYMHckzpg1BVyNQGKFOi7etvQm2G15syLLvI6Lc3oXOqQwPvXr1zvrd0Jc8Na1mn/UJI6LN5g3VeYkRBjQcSE/UOiUju24gNR375lfELEdF9C2o7lSwS9bhoyxN+vUWalA5L1Mou93rP1eqZLNsOH6xq3IxRPGYLTv0hVWa9WuM2n2X/OXrxhqPxZm8GROz5nvCm+FQ7E3yoG5ce5Xlsiz7AQ6EXBcAMzvSZ+QT81atTi/4yKX40CdevRs3LQpyZx4gLM3b5EqC5sBc5YsZZ7Mweu4hDPksOvESYisW68+8xAO8D/k+o9SwQMqzLv30DU0Iqtl4bjA7cCeGpmYDhwxsp/tIOY9WscuXxF9N4SNlJWZeNgo7H4va2twWTX++EOp4IbGo/4BdM8ESWkIjLaIGk92IUTCgMDZValyZaXvD/MUFXaWgs3+tq3vt5sKUOjH8+ci147r8ePHYDPIMjiuiRMnvmSJPOhPkj8BLVq0qFOnTlWrVo2MjCQlX1mO69GjRxD84MEDWIYmDRs2lOS4mjRpQtzUuXPnqlSp8vTpU1LObBfUvXv3IUOGkJ+Wgdm7cePGly9fYLlbt25Dhw59/fo1uK+OHTsqsRzXwIEDHRwcvha4I4hRKsxx2djYzJ49m/ymS1LysJWUlBTS9s6dO/Ad+FNe4VUkxwXzQusB/WrVrqWlrVGjZg3nOdOYKrBeTZoqw8x7x54tYkHH5bZ0YeXKlcA+EWxsrWFmD90qN1E2bm1kbWOpraNJ2wCIgYZ16tZu3LgRBMB0FpwA84qk4jmuJy/SwbbBDLilSouq1aqOmzCWPPOgR69uxCA9zkmFLYJfgsy/PZt+hSvdCYHeyvHTXn/U+sPASB92qv9AK0mOC/YCBhPMXlszE+YXUH4BZ2A0oC10Sxpy4G0oaRjZG5UUU2jnnH7EEpIERwGtNLU0wKKYd+pACsEn6xnoqmuotWpjDIfPc+9WsCIwsJADAMcuNiFMILFCHRdvW3oTnOZ0VvTmGMfFOb2lGdJT54/Wq1e3tYkxbKWftQVxXLzBvKkyJyHCgI4L+YFCp3Qcx8WG47hin2bDLBn+GybzS5gNL16/kQkOup9AHh0B6mbRF6bISiyDcS/7OUyyyTMelL5PZI9c9BdR813hrXAo9kY50D9VUvp+eUqgE2HHBe4CJvpgtOrWbzBj4SLy2yFtAwNSezM+SUVdnfQJaZNfeTEewHHaDOIKwJMs2bCJhHEc1+DRY8iqQIYcwE6TX4Uxvy4TFTzkAw4xeegIESQM5gcyJAGl6LgSX70lL/ti1FJNbdvhI6SWdlzDHRz/qFWbCVbX1mae58GLpDSER1vAccGp2L2vJWmooqFxPe4BqRU+S8m2mP0SoNCP589Frh0XGBg1NTWyDI6LHClG5BY7Sf7ka4EVgVU9PT2ySsS+q3DOnDngx3R0dNTV1Z2dnSU5rqlTp7Zo0QJiqlWrtn//fqac7biePXtmZWVVo0YNLS2t2rVrGxsbkyezZ2dn9+vXD8o1NTX37NkDH23ykPqvBU+5aNy4sbKycqNGjVauXKlUmOMCB6WtrV2pUiVwbl8lJA8xderUadq0Kew1LOzcuZP0U84qkuMi5LwR3UuKePW+lH9tkpQZl/zwHl3OBhzR/eRIiKQfcVFsUkT3YXdeiLPoKnHBFDkpIxY2+jrvKV0rTM7bR3GJ4cxrmiUBvg42wSmE7canRpOLITRkxs/bUJphFI4R6JyDpCShc+YXegxgjx+kRDGnzcvcJzDssAn2oRROTBi6Le8mOHCyKjb01sUFT8iAE4A+c+hgaVJF0HEhP1DqU7r4568CIqLB6mTkfeRUPfzwGaakvPezEZJev7saHXfjXnzCi9d0LRuBrXAoxY0KUIxOIh4+Yu6Ie5DzklyqYj9RPTP/EzgBSY+zgzn9lahY9iP+GBo0bARdTZr9F7tQygxnL16iVPBESk55mjgPRht6YL/4q4wALxoYe/9yeJSwPSPACQCeEIZC0kvGpER4tIW5m5YJCUMPnHLes5Q8L6RpixbMtWIBSv3jWbrIteMCgdVhLEpZ6MWLFykpKeR6FK+I//n06VNiYmKhj/57//59UlISebAhLR8fn2bNmrFL/vnnn9TU1GLf+MebPKw+fPgQyst03IRVDMeF/HQkXfYpFcq0cwQpNui4kB+Q8SmdArN4/YZGysqWA23BZRGPVLVaNZig05HSc+SifzeLvuSP9LxXsQol8dVbIxNTLT09Sa/AQkqIw9RpqpqaO4/70FU0Mv7xlHfH1bp1a3IX388S51pWUeXr67t+/Xo/P7+tW7c2aNBg27Zt3AhFFDoueWT56iW8Ly8uFcq0cwQpNui4kB+Q8SmdAnPE75KekXG16tV/+eWXuvUbgPUqod0SfX/ZMRg55j3LiFwj4x9PeXdcPXv2JL9W+lmaPn16UFAQt1RqJSYmOjs7Dxo0aMKECcxzMhRe6LgQBJEL0HEhPyDjUzqkSDz88LnQ2ywROULGP57y7rjAq4SEhHBLUbItdFwyRWJ6bMl/UyTAo+wUgC4va5IyYqV/zZQ0wW/yn0HYkxfpdFVZQ6e3ev1y9pvBi0SRjgi9aZmlLFJFx4X8gIxP6RCkIiPjH095d1yjR4++evUqtxQl2yqq47oWfKn/QCsV1ZaaWhr9rC28ju0r9MkQFQfPvVuZxycWj7L+DdV058mSXilWprAfWVkohQZfCfJr3LhRaxPjfYd20rVlDSc9+Aj07debPOWyGBTpiBQ6MrJDWaSKjgv5ARmf0iFIRUbGP57y7rgmTJjg6+vLLUXJtorkuLxPHPj2kPSVbuGxt1MfPThx5ki79m1hgY6smCgrNy7hLBMdFxB4y//pywy6nGHU6OHLVy+hy8sHdnqv857OXTgr+/VDOkxKinREijSMP5dCD2IxQMeF/ICMT+kQpCIj4x9PeXdczs7OJ06c4JaiZFvSO65X7580bPjn2o0r2IVvP2Qzf91/9zFn+67NQ4bb2jvaBYX8b144z2X2nYgbk6aOt7G1Zr8yS1Lw7bBACB46YpC44JVWY8aOtOrf13nONN5nOXDiefsELl45O2LU0H7WFhOnOJEX3UJDmLmOmzB20NAB5DW+wLSZk5g5orfPwVPnj5Jl3m7pPj33bgU7OnjYwMnTxgfcuCApebohG3BcZy4c5yQmfVe8kTlvRLC/1jaWq9cvnzpjIjO/5w2m+2TDOxRiyUeZgW0VeLfLxsVtXmL6twfT83a7xWN9S5UWXbt3hnEGt/8y9wm4rwGD+sPqg5QoEsM5MWA1JPw67JH1gH4nzhyBJq5LFsAynMzM09h5s4LTG/Z32IjBtkNsPHZv5qQnadN0zhx4j4iksWXDDCNvtmyk2WXeLUrTUNKOs8ecGSWxFNlKCTou5AdkfEqHIBUZGf94yrvjWrhw4YEDB7ilKNmW9I7r+u3LSkpKAr85gXlbb4uel66eO3hkT6NGDWHeJi6wEK3aGEOJ17F9devWuXD5tHCwgZH+3oOep32Pwar7qsU+Z72vBV+CiZqunjZ94xYnnrdPmBHWr1/vyPH9gbf8d+zZwmwIOgRbdfTkIWXlxoe890Dhr7/+ylyvg6kk8/5ZulvePuHfevXqrtu0EixTQloMb/K8DTl7RCcmfVe8kb369IDJsX/g+bkLZ9WpW5txXHQwb59s6KFg0uY9ygxsx0VvV1Iwb7fBoVfbmplMmT4BxvnZq0xLqz4Wlr0gpSXuLhCT9jieNGSfGLDaxrQVONid+7ZVrVoFrM6GLauhqkXL5vsP7xLIaqTdsHbt28KGoP+Va5dx0pO0aTpnDrxHRNLYsmE2zZstG2l2mXeL0jSUtOPsMS/SEZcSdFzID8j4lA5BKjIy/vGUd8fl7u6+Y8cObilKtiW94zp26nC16tWYVZhFjZ/kCIRGBsHq/eRIqM15I2JqYT4nLpiHwQyeFIKNmTV3hnAwzNiYTYgLLqwlpsfGJoSB/QiPvc2u4sRL6vPydV9VNZXHOamchswlC8+9W01MW4slOC7ebnn7FFN3FdLJS2rIwJtYkbriREbEhVSvUZ257Q38A/seNk6wpD4JvENBlnmPMhvO7XD07vAGS+q2n7XFtp2bYCHyXkjValWznqeRcqv+fV3c5pGG7BMJVpkLht16dJk4xYksL17mYu8wignjZBWXGF6lSuXMp0lMAIGkJ7Bp3pwZeI+IwNiyYQ+j8BgWusuStlhoQ4EdZ495kY64lKDjQn5Axqd0CFKRkfGPp7w7rg0bNqxfv55bipJt0Y4LnBXMAoEJk8exy/0Czvzyyy85bx+RVZiWbd6+rn79ekdPHoLVk+e8K1eupKOrpa2jqaWt0aSpcm+LnuKCeVho1E3SxHXJAsfx9sLB7D/tz104S7mJcqcuHfv07VXzj5qQADsfTrykPt9+yLYbMwLmuB06tluzYQV5fho0ZKaDt8MC69StLZbguHi75e1T/KPj4k1eUkMG3sSk74qOPH7aS99Qj+nfaaID47joYN4+GXiHgkmbPsps2PNveruSgiV1yziuE2eOQD5Mw0WL55Nb2jgnErsf2yE26zatJMtwAtvYWpNlOiufs96wp0wnDCQ9gU3z5szAe0QExpYNMzJ0tpzIQndZ0hYLbSiw4+wxL9IRlxJ0XMgPyPiUDkEqMjL+8ZR3x7Vjxw53d3duKUq2RTuuh8+SYeYExCaEscufvEivUqUy8+smgopqS+K4rt68CH6D05W4YB7GPAoCJqAOTmOkDA6Pvd2gQf1nrzLJauPGjXz9TwnES+qTAP1A5jDTZf4ez/R28crZliotYKFq1SrML09G248kjkugW06fAEwrySxTOHm6IQOdmPRd8Ub6B56HuS8TP2S4LXFcvMF0n0xDseBQ8B5lNsz8W2C7dLCkbhnHdfm6L/TANJwyfQL5MwG7IWcVXMT6zavIMriI/gOtxBKyuhZ8CRoynTCQ9KTZNO9Q8B4RgbFlQzbNmy0nstBdlrTFQhtKs+PiIh5xKUHHhfzAzMsXHn74TJcjCPJzgQ8mfDzpctlB3h3XwYMHFy5cyC1FybZoxyUAmBCwWMxfsmEWBZM24riev3vcomXzbZ4bSRWskucu8E5ApQkOCrkCq1AFy4eP7lVSUqInaux4SX2miO4zd0DNmDWFJAANBwzq/+5jDjBwsI3TRAco1NPXIbdFQROYIxLHxdstb58AuBQyGpKSl9SQgU5M+q54I7NfP6xfv95ZvxPigpd91fyjJnFcvMF0n+zceIeCLPMeZTbM/Jt3u5KCJXXLOC7Yuz+/3wWX9ji+YcM/mR9uFclx8WYFq5AJs78PnyWTBZKeNJvmHQreIyIwtmzIpnmz5UQWusuStlhoQ2l2XCzFEd9/eNela+eYeGlAx4X8Pxl5H48lJnjGRNJViJzie/sOs5wmzqMDEHkBPpjw8aTLZQd5d1wnTpyYOXMmtxQl2yqS4wIb4LZ0YZ26tRs3bqStowkTR7AEzBuowInpGeiqa6i1amMMAZ57t4olT0ALDYZtWQ/op9xE2bi1kbWNJWxOeFopqU+Y2kLC0Amgo6tFLtxBQ8hcS1tDTV21rZkJ+a3O8dNef9T6w8BIHyJhcsk8OYPulrdP4IDX7iZNlWEO6rF7M2/ykhqy94iTmKRxoLuSFHnq/NF69eq2NjGGvQCvwjwZjw6m++SkRw8FkzbvUWZg5t+825UULKlbxnGJC252hd7gqNWtW4c5ZJwTo1AXISkrcAtwIDS1NMBLm3fqQFox6RW6ad6hEEs4IpLGlg3ZtKRs2RS6y2IJW5SmYaE7LpbiiPfo1Y1pKyXouCo08c9fnQ++vWbHTsep0zp1766qrp7+/sPWyDDngAuIAjDppHdzNdXJp47C8nS/My01NaaeP0mHIbLPlEvnNob9v3mWTeTdcfn6+k6YMIFbipJtFclxEd7kP7ufHJmUGcc8LZoNGLAHKVGv3nN/ocRLocGwleSH9+hyAeg+X+Y+uZcUkZQRyyRMZoePc1KhkN025+2juMRw3nc6c7ql+6ThTV6ahnRi0nfFGwlpw369znvKKaeDefvkQI9wUaG3WxIg1fjUaHIVpSRIygoKoYouF5dg05KOiPRjKynboiL9FtkUdcdLJVt0XBWLe9nPj166vHTDxuH2Y03MzFTV1HpZ9puxYOHWg4evRMXgNRAFw37CpKbNmi1et56sDh5lt8fnFB2GIKWCvDuua9eujR49mluKkm0Vw3EpAJy/xyMIIvug41Jw4p+/OhV4Y8XWbSPGOrQyMVHX0LQZMnSO25L9Z87dfJBIxyMKA/jnZs2bt+/UWd/QiHhpDy/vkQ6OdCSClAry7rhu3rw5bNgwbilKtlUxHdfy1UtK8iZWBEHKH3Rcikb6+w9XomLW7dxtP3GSWceOqmpqFtb9nV1c9548fTsxhY5HFJVFq9c0KlDvflbgtUQFVzjBcie/EdPBCFJy5N1xBQcHo+OSO1VMx4UgiNyBjksRiMl66nXh4l+Ll1r0t1FRVTXv1m3SrNkwyQ6MvY8PHqywaGhqEsdlZWtr3rUrKbQZOmzf6bN0MIKUHHl3XLdu3RoyZAi3FCXbQseFIIhcgI5LXgmOT9p68LDD5CmtTU01NLUGj7Jbsn7DyWvXE1++oYORisbek6cbN27cpGnTRgX/tjM3h3MDyj29jw0bY0/HI0jJkXfHFRISMnjwYG4pSraFjgtBELkAHZfckJn/6UpUzFrPncPtx2rr6oHRcpwyFUwXWC86GKngtGnbtrGysrqGxreLXI0bd+zSZeDwEaKC3/Wpa2rCv3QTBCkh8u647ty5Y2tryy1FybbQcSEIIheg45J1AmPvg8saPMpOTUMD5s1T/pq7x+dUxMPHdCSCEAIio8FntVRRPXfzFiwsWb8R3Ffjxo3Js1JGjHXYdsiLboUgJUTeHdfdu3cHDhzILUXJttBxIQgiF6DjkkVuJ6VuOXDIzmm8tq5e2/btJ82es+/02XvZz+lIBKHpY2XdvEULsFuwDI4L/gXT1ax584nOs2DZ68IlC+v+dCsEKSHy7rjCwsJsbGy4pSjZ1pJrfouvXUAQBJFx4MuK8/WFjuvnkPjqLUyFwVy1MjExNDZ2nDLV0/tYROYjOhJBBIh7mq2hqUnslui74xIVPBpeW0cXatNz83X1De6kpNNtEaQkyLvjioiI6N+/P7cUhUKhUKgyEDqucuV63IPlW7b2G2irqq7ef/CQVds98DVZSElY7bGDsVsiluMCoBxqYcHZZdGiVWvotghSEhTAcVlbW3NLUSgUCoUqA6HjKnPSc/N9rgZOnvOXobGxiZnZ1LnzjvkH4FuSkFKB8yQVtuNiasHnG7ZqlZH3kW6OIMVG3h1XVFSUlZUVtxSFQqFQqDIQOq6yIuHF690nTo6ZMFFNQ6OPlbX75i238JXESBnDcVwMvSz7eV/0p8sRpNjIu+OKjo62tLTklqJQKBQKVQZCx1XK3Mt+vu2QV//BQ8BoDbGz2374SOyTZ3QYgpQFkhyXh5f30NGj6XIEKTby7rhiYmL69u3LLUWhUCgUqgyEjqt0iH/+ytP72IBhw9U1Ne2cxh8854v3DSLljyTHBWejto7u3bRMugpBioe8Oy78HRcKhUKhyk3ouEpE6rv3e3xODR09GozWcPux+06dQaOF/EQkOS5g7pJlzi6udDmCFA95d1whISGDBg3ilqJQKBQKVQZCx1VM/O7cnTRrtqaW9sDhI3YeO5H46i0dgyDljIDjinj4WEtbJ+HFa7oKQYqBvDuuoKCgESNGcEtRKBQKhSoDoeMqGpGiLPdNm9t26GDWsaP75i2wSscgyM9CwHEB9hMnrdnhSZcjSDGQd8cVEBBgb2/PLUWhUCgUqgyEjktafK4GDh09RktbZ9LsORdDw+gABPnpCDuuyxFRrUxM8DHxSKkg747Lz89v/Pjx3FIUCoVCocpA6LgKIeHF67Weu9p26NCpW/etBw+nvM2lYxBERhB2XICFdf8DZ8/T5QhSVOTdcZ05c2bKlCncUhQKhUKhykDouCRyKzFlyl9zNTS1Ro+fcCEklA5AEFmjUMd12Nevdz8ruhxBioq8O67jx4/PmjWLW4pCoVAoVBkIHRcPV6NjRzmO09HTd12zNibrKR2AILJJoY4rM/+TiZkZ/gUBKTny7rgOHz48b948bikKhUKhUGUgdFw/cDYo2GboMMNWrdbs2InPeUfkjkIdF0De0E2XI0iRkHfHtXfvXjc3N24pCoVCoVBlIHRc/+P8rZDe/azMOnbcceRoem4+HYAgso80jiv9/Ye27dufDQqmqxBEeuTdce3YscPd3Z1bikKhUChUGQgd19/X4x4MHmXXpm3b3SdOPvzwmQ5AEHlBGscFwKnex8qaLkcQ6ZF3x7Vly5Y1a9ZwS1EoFAqFKgNVaMcVniFynDpNz8Bw3c7deF0LUQCkdFyZ+Z86dO58IuAqXVVhSRPn3U3LBHj/7HL+VsjZoGAOvJFh6Q+hk6hHiv+mPnl3XKtXrwbTxS1FoVAoFKoMVEEdF/irpRs2auvouq5Zm/jyDR2AIPKIlI4LOHT+QrdevXk9g7wTniG6lZAMjujopcue3sfWeu6EjznvzzI7devetGnTRgVq1rx5KxMTgDfSdsRIywEDOaS//0BHmrZrB53oGxqRbkGqamp0JIz8bNfFkNj6XXsgSUgVEg66n0B3KLPIu+NycXHZv38/txSFQqFQqDJQRXRc54NvtzM3HzpmDMzM6FoEkV+kd1ww4+/So6fXhYt0lSyT8jb3blommJN9p86s9dx1P+cFHdO9j4Vp+/bgiAaNHDVu2nRnl0VgbBJevKYjIzIf0V6o1El89ZYuzMj7uGq7ByQ2bd58SJI4uk7du9ORcKScXVyXbtgIxsznyrXLEVEwAnRY+SPvjmvGjBk+Pj7cUhQKhUKhykAVy3HB/AwmN8Zt2nj5ytlEE0GkQXrHBRzzDzDv2jUz/xNdJYP07melrqnZvEWLViYmfW0G2I1zmrFgYfTjJ3SkggGecM0OzwXLV8J3l83QYV179oIRUFVXpyPBxYEfK7cxkXfH5eDg4O/vzy1FoVAoFKoMVIEc15kbNw1btZq1yC3p9Tu6FkEUgCI5LqCPlbWHlzddXm7cfJDo5XtxzY6dMxcuGjp6TKdu3cFWBccn0ZERmY/iX7yiyxGGuGc54Md09Q2aNm3a2tTUcsBAh8lTlm3cREeWCvLuuIYMGXLr1i1uKQqFQqFQZaAK4bjS339YDk91TwAAgABJREFUsHylobHxyWvX6VoEURiK6rgCIqMNjIx477grXR48f5kmzqPLHadMHWJnN2PBwtUeOw77+l2NjoVIOgwpEum5+XdS0s8GBXsePb7lwCE6IOpR1mzXxRt27z3mHwCmN/XdezqmUOTdcVlYWMTGxnJLUSgUCoUqAym+4wpLf9jLst+gkaPinmbTtQiiSBTVcQETZjrPcVtCl5eE0NQMrwsXV2zdNtF5Vu9+Vtq6euqamqevB9GRyE8BvgxXbts+de68AcOGt+3QoWmzZmC84WDRkQLIu+MyNzdPS0vjlqJQKBQKVQZScMflHx4JM4k1OzzpKgRRPIrhuGKfPANHdCshma4qNguWrxw6evRs18VbDhw6H3wbNkHHIDJFpCiL90mJF0PDRjmOm+++YseRoxdCQtmHUt4dl7GxcXZ2NrcUhUKhUKgykCI7riN+/jp6+kcvXaarEEQhKYbjAtbt3G05YKA0T4pPz80PjLm37/TZecuWDx0zxrRdu9UeO+gwRGGIyXq679SZpRs2jp00uWdfS20dXTUNDTj6Ivl3XGpqanl5edxSFAqFQqHKQArruDbu2WdgZBQQGU1XIYiiUjzHlZn/qYdF322HvOgqNpv27m/arFmHzp1HOjguXrf+sK/fzQeJdBii2MS/eEUeh8hxXJcuXZo7d+6uXbuuXr2anp7+77//smtlTf/973+bNm0q40miUCgUSmGkmI5r/a49pu3by8hbaxCk3Cie4wICY+/r6OlHPHx0LTrO0/vYwXO+dEziq7fpufl0OVIx4TiuzMzMQ4cOubm5jRo1ql27ds2aNevSpcvp06fZMbIjsVisqanJLUWhUCgUqmykgI5rj88po9atw9If0lUIotgUw3HFPc1e67lrwkxnXX0DZWVl865d7SdO2nf6LB2JIGyE7yr8/PlzYmIi7w+lLl26tH///uDg4OfPn3PryktZWVlt2rThlqJQKBQKVTZSNMflc+WanoEh70/AEUThKYbjCklOmzZv/uZ9B/zu3O3YpYvn0eN0DILQCDsuAQUEBCxYsMDW1lZfX19TU7Nv377Ozs4pKSncuLLUvXv3evXqxS1FoVAoFKpspFCOKzg+SVtX72JoGF2FIBUB2nElvX7ne/vOWs+dYyZMtOhvQzdhExhzT0dPH68PI9JQbMfF1rt376Kioo4cOfL48WNu3devkZGR4MT++9//citKrKCgoGHDhnFLUSgUCoUqGymO40oT53Xq1n3rwcN0FYJUEBjH9fDD5wkznc27dWvRsmX3PhYzFiz09D4WGHufbsJh5bbtfW0GZOZ/oqsQhE2pOC5hLViwwNzcvFmzZt26dXNyclq/fr2fn19+fj43rug6c+bMlClTuKUoFAqFQpWNFMdxObu4jnRwpMsRRF64m/5w0/6DJXE77Gtce0+evhYTl/7+Ax0mAGzdynaQ6+q1dBWCsCkHx0X0+fPn+Ph4X1/f1atXOzo6vnv3jhvx9euXL1+4RYLas2ePm5sbtxSFQqFQqLKRgjiuk9euG7dpE//iFVMCE8fdPqfGTpk6ZIz9nCVLr0bH0a1Knd7W/T2OHCXLEQ8fJbx8Q8cIwG4uX5Qk85isp02aN7+X/ZyuUmw4g5aem9+qrdkW6S7Swql+IuCq65q1tiNGamhq+YdHknL6rsJiAEfE0NjY58o1ukoS2w4fgU8Z4LZu/cFzvtKYxmJ8QBQYeRwNSY7r2bNn79+/55ZKrWI0B7uloqLSuXNnBwcHcGXgzRISEv7++29uHEsQtnnzZm4pCoVCoVBlI0VwXBl5Hzt26eJ14RJTkvDidVvzTnXrNwDHtXj9Bsdp02F5z8nTdNvSxdi07RrPXWTZoFXrDXv20TECsJvLF/Pcl5+6HkSXS0Ok6LGSklLMk2d0lWLDGbTJc+b+tXQZHcZh1XaPdubmqurqVraD5i1b7uV7MZY1dKXiuADf23f0DAzDM0R0FS+de/XWMTQcM2ny4NFj4LPWtqN5odfWivEBUWDkcTQkOa42bdocPHiQWyq1itf8n3/+SUpK8vPz27Bhg5OTU9euXVu3bs0NYmnu3LleXl7cUhQKhUKhykaK4Li2HjxsOWAgu2SE47jmKipRj7KYkvs5L65ExZLlNHGef3jk5fAo9suFoh8/SXr97kHOy5PXroemZrB7C3qQeDzg6qWwCCYeTELqu/dkGfze3fSHDz98FrEsU9yzHG0DA7d166EqJuspibyTku5zNfBazD1JVwA4jqvQeJLzveznEBb2fXJ8Pe7BueDbTHqiggwv3g2HQvYf0aVsKxIcLhjVE1euwQ4CsMrUFpq5qOCIQNvbSakcx8WbLQ30DMcFtnKX9ZgHgVQ5Rxa2DseI3WF45qOUt7lkmTcHzi6L+E4MkeR9pxNmD5r0mV+JigmMuUfON5rSclzAao8d3Xv3YcZEGHBcjtOmk+Wg+wlwQI/6BzC19HjyfkAEBoEZdt4xYZA0+JJ6E/HlRqAPLmkb+zQb2sKGmEhJ3wbSd847GoXui4jvpBIJDqOkcSten0ozHfPz89+9exccHPzo0SPyf8fr168NDQ03bdqUlZX14sULUvjly5fo6Oi7d+8yF68+fPjw5MkTsgz6+PEjxP/3v//lbf758+fY2Ni4uDjhy1bSKCUlxdHRcfXq1ZaWlrt27Sp5hygUCoVCSSO5d1wwjTAwMgqIjGZKEl+9/b1SpfW799LBwIU7d5WbNdMxNNTU1W2hqhoQGUPKoQR8GpSA7alcpYr75q2igslH3wEDGzZu3KlHT11Do049e5HgRsrK3pcuk2WYl8D8EuZwIpZlmjpvQdVq1Zq2aGHQqvXg0WOgBP5t1rJlh67doNCwdRvOdJ/AdlzSxEPOQ8bYQ85GbUxgl/ecPA2rMHVr0rw5/Etm8zfuxauoq6tpaZl26Fi3foPDvn7StxUJDhdkCCOjb9xqt8+pomYO87matWrB4Khqao50Gs84LknZcoA5PRwOSLV9l64NGjbae/KMSDBV+siu27VHRUOD6RDmtb/++itMnQVyYO/yrhMneU8MSfvOmzAzaOzMm6uouKxcPWGmcztz85aqqnTmwpSi4wIcp0wdMdZBYMbPwHZc6e8/wGBuO3yErPKOJ/0BETh87DON92gSJA0+G05vvLlJ+tRD2wHDR0DnEFylatWFq1aTcknfBtJ3To+GNPvCe1IJDKOkcSt2n0p/1h8/fryampqZmVmVKlU8PDzg/w4XF5dq1aq1bNmyTZs2Y8eOhZLk5GQNDQ1tbW1zc/MGDRpcvnwZCt++fQsxzH191tbWAwcO5G0eGRnZvHlzIyMjPT092Nb9+/eZ/6eKoTdv3vj5+a1fv15XV9fU1LRZs2adO3cGg8eNQ6FQKBSqVCX3jmvLgUNDC+YoDL6378Ckh5kWsMnI+6iurT1p9l9kddT4CTDxIn+QhvkETDUSXryG5Z3HfarXrAlzo4CI6GrVqzP2I/75/34nJmmOJXBXIfMHY+jWwmbAlLnzmSoGdnNp4iFnmI2Bw4Tl2YuXwCzQbd16WE59976lmhp4Tti1Vm3NZixcROL3njpb/8+GZHcKbSsqbLhgKslMBIuUOZRD2zlLlooKHqlnPWQocVwC2bKBMHCJw747AUjyQc5L4VTpIwurMMc9F3ybxEPDbhZ9SeeScmDvsqQTg3ffeRMWfR80kvkIh3FD7Ow0NLVUVNVatFTZuHffteg43sxJ/5IoXceVnptvOWDg3CWF3+sIjgvGHD4FYRmiyXPmwuCQC6cC48n+gAgfPvaZJjAmvIPPgd2bpNwkHVxoC36D/ODw5LXrv/3++63EFJGEb4Oidl7Urwvek0p4GCWNW7H7BMdlbGycm5sL/2WcPn26Zs2a5DHu7NsC//3333bt2jHPqPD19W3YsCF52GB4eHj16tUjIiI2btwIFgs8GIlhN//y5YuOjs68efPI6qRJk1q3bg19ktWSCIxWSkoKuRcxPj6eW/31a2Ji4oULF+BfvA6GQqFQqJJL7h1X9959jl++wi7xuRoIk567aZl08I178d8m99/v24EJExMJM5IlGzaRcpgwQTlMGWHe83ulSvPclwc9SGT3wzvHEgk6LpijHPUPgE2A0+hlZQUzVHaHBHZzaeIh56UbN5Nl2Ov//Oc/zN1NA0eMhInv7aRUyA1mh/7hkYSatWqdvxUiTVtRYcPF/I1fVMTMr8c9gH6Y+6zA9hDHJZAtm+CEZAiLePiIXSicKn1kRQW7CdNHUcHMsmHjxp7HTsCyQA7sXZZ0YvDuO2/Cou+DRjK/GhVz2NcP8pcmcwFK13GJCrbbtkOHLfsP0lVsYE+VvgtGhrmlUGA82R8Q4cPHPtMExoR38Dmwe5OUm6SDC23ZP7SD/MmVIt5vg6J2XtSvC96TSngYJY1bsfsEx7V161byXwb4JSgnNwqyLVNmZiaUBwcHx35XrVq1wsLCSO2mTZuaNGkCvgvcFynhNE9O/pYSc3thRkYGrPK+uauo0tfXf/nyJbeUpTt37owbN65Lly7NmjXr2rWrk5PT5s2b4+LiuHEoFAqFQkkh+XZc16LjjFq35vyxFqYy3+Y6gTfoeLAWv/32G7Oa8jYXIn1v3xEVzEg2HzjELr8ZnwTLR/wudendp2q1as1VVDy8j5EA3jmWSNBx9ezXT8/I2NnVDXyOzbDhEMlUMbCbSxPPzhl8S7Xq1ZmqYWMdHKdNhwkfWCmYrrE5e/OWNG1FUg+XqIiZQ7fVa9RgVu+kpH+b0j15JpAtm2+XF1hZMX1Kkyr7yMKM9o9atcFngtWpXadumjiPdC4pB84u854YvPtOEob+T18Pmu++ov/gIeQSARm0YmQuQKk7LlHBATI0Nt594iRdxdD5+12FMDW3HGgLJz95cobAeLI/IFIOAmeVMya8g8+B3VwgN96DC23X7tzNdNXDst/0BS4iCd8GRe28qF8XpfUpKEmf4LiOHDlC/sv4+PEjlKelpX390TKB14Jx6POjQkNDSS04tEqVKpmbm5NVInbzmzdvwtaZKrIVtj0rnv755x/wUVI+UP7vv/9OSEg4f/78ihUrAgMDudUoFAqFQkkh+XZcMH8F6PKWamojncbT5eSPuOGZ//sjLrnYQlaFZyQwXYapz2+//05uy1HR0Nh3+hypung3nMyxRD8aD6M2JsxvyW4lpsC0g7QFZixcRE+h2M2ljC/UNREzQ/8xW5q2IqmHS1TEzGFgoR/mPjGY5ykVOC6BbNmQMPajC0RSp8o+smB7lJs1gymv9ZChYyZNZnfOmwNnlwnsE4N336/FxM1duqxu3boqqqq9+1ktWrXm/K0Q8jcCMmjFyFyAsnBcwM0HifqGRofOX6CrCIzjAh7kvKxTt94qD0+R4HiyPyBSDgJnlT0mvIPPtOJtLpAbgfOph7bMXYKAtr7+qu07RBK+DYraeVG/LkrrU1CSPiU5LlNT0wMHDpBykUik9P3aF0dgeLp06TJy5EgwPzt27GDK2c3T07+l9PTpU7KalPTtq4NZLbays7ONjY25pcXV5MmTe/To4ezsvH///tjY2E+fPnEjUCgUClXhJd+Oq4+V9cmrgXT53pNnYCozf8VK8nsJmLssWrPW48hRmGQbtGoNZgwWMvI+Wg0e0rajOWnCOyOByUfQ/QRSeCYo+NdffyX3wvXpbzNkjL2oYNpkNWgwmWOJfnRcvaytnWY4k7l1aOq3m2HIwxKh2/p/NqSnUOzmUsZL45o6dO3Wz3YQ+b0W7PXxgKuw41K2lXK4REXPXN+4leO0GaKCAezax0Lp+5MzJGXLoV3nLhY2A5LfiEUFBzfi4SMpU+XMNafNXwhhVapWvXDnLtO5pBw4k3X6xODdd/uJk6bPX2DYuk0vK2t2wqLvg1a8zCVRRo5LVHA9Wc/A8IifP10l+tFxiQoefA9ullw2lDSe7A+IlIPAWWWPCe/gM614m4sk5MZ7cEnbRsrKxETtOXm6cpUqxHhI+jYoUufF+LoorU9BsfuU5LhsbGxmz55NftMF6t69+5AhQ/Ly8r4W/Kzrxo0b5OKSq6urvr7+hw8fQkJCqlevztywx24O8W3atJk4cSIsQKthw4Z16tSJhJVE4Iv69OnDLS2u/v777wcPHnh5ec2dO7dXr14tW7YEA8b72zAUCoVCVVjJseNKffdeRVWVTGhoYEqkoq7+yy+/NGjY6PdKlXpY9iM/cw+Mva9tYFCvwZ916taDmURwQjKJ552RwJSoVu06jZs00dTVhYWV2zxIQEBE9J+NGjds3Bg6n7vMnddxQVs1LS3YtEn7DrA6fuYsmNmra2u3VFMDs8E7hWI3lyZeGtcEcybY9+o1aqhqav5Rq7auoRF5vrM0bUXSDZeo6JlfCouAySsMLAzjTBdXxnFJypbD3bTM9l26QpiKhgYclyMXv9kAaVLlzDVvFlxtg4PL7lxSDux+eE8MmJJK2nfehJlBK0bmkig7xwVcjogC07XruA9dxXFc4CLq1qtPLgFJGk/OB0SaQeCscsZE0uCz4fTGmxvvwSVtx0ya3KR5c+i/arVq63btIeWSvg2K1Hkxvi54TypphlHgXCpSn5Ic1507d7S1tStVqtSxY8evBW80trKyqlGjhpaWVu3atY2NjcGiBAYG1qxZMzExkTRfuXIl1JJnx3OaQ4yhoeGff/5Zr149cF/p6emkSUl0+fJl8iDEshDs3f3798ViMbfi69eivtkZhUKhUAojOXZcF0PDOnfvQZezCcsQ3bgXT/5kywYmQ+RR4IWSkfcxJDkt6H5Cyo8vJkp//yHoQSJz5480xGQ9hX54L9rwUtR4AWAGfD3uAXnMWjGQfrgI0mQOs0+YyZGn9nGQMluY18LB5TzMsKipSqLQHJgT43J4pOuateZdu64tsE8C+86bMEOpZF6mjgsIjk8ybtNmredOukqYQseTUMJBEBh8AejceD/1xLSkvnsP5y3zjEGCwLeBlJ3TSLkvvCdVCYdRyj4lvQGZV2A2kpKS3rx5w62QTmDbsrOzuaXF1cGDB+fPn88tLXuZmZm1b99+xowZ3t7eycnJ3GoUCoVCKa7k2HEdOn9h6OjRdDmClANg+OctW27arl1rU9M5bksuhITSMeVPWTsu0beZ9+N25uZzlyyjHy+u2HCujyFFclwypdWrVzOvAitngdE6cuQImC6wXpqamk5OTtwIFAqFQimi5Nhxbdq7f6LzLLocQcoavzt3wXW4rFx9Nfrbj21kh3JwXMC97OfWgwYPGDb8wXOeS5SKytgpU09cuUaXV1jk13HNnDnz+PHj3NJy18uXL0NCQrilKBQKhVJEybHjclu7buGKVXQ5glRYysdxiQpujZvjtsTEzCww5h5di1QE5NdxDRs2LCgoiFsqMwoNDbW1td20aVN4eDi+fxmFQqEUQ3LsuJZu2DhvqTtdjiClRdSjrBVbt5EHIcgF5ea4CHtPntbW1du0dz9dhSg88uu4unbtyjy0QwaVn59/48YNd3f3Pn36qKurDx8+3MPDgzyVBIVCoVByKjl2XOt27p46dx5djiAlJOVt7u4TJ22GDtPQ1JroPCtSlEXHyCbl7LiA24kp3ftY2I4YGf34CV2LKDDy67i0tbWL/QyPcpZYLL58+bKrq6uPjw+3DoVCoVDyIzl2XJ7exxwmT6HLEaTYBMbcGz9jJhitgcNH7D15OvXdezpGlil/xyUqeFLfolVr9AwMD/v60bWIoiKnjuvDhw8tW7bklsqnEhMT8YnzKBQKJReSY8d1Pvh2z76WdDmCFJuT166v2u4hv5drforjIly6G27arp3T9BmJBa/0RRQeOXVcaWlpHTp04JbKp1xcXNTV1QcMGLBlyxbmFdIoFAqFkkHJseOKf/5KRVW10PfVIEjF4Sc6LiDp9btJs+e0NjX1wWf6VQDk1HEFBQUNGzaMWyq3+vTp082bNxcvXmxubq6vrz9t2rS8vDxuEAqFQqF+tuTYcQEmZmY3HyTS5QgiTKQoa+mGjem5+XSVXPNzHRfh5NVA+GDaOY2PeiQ3v39DioGcOi4vL6+//vqLW6oQevLkCf7cC4VCoWRT8u24xk2bvm7nbrocQSQBfmDYGHstbZ0ZCxbGP39FB8g1suC4gNR37xcsX6mtq7dxz76K9qLkioOcOq6VK1du3bqVW6rQev78eUBAwIcPH7gVKBQKhSovybfjOuLnbzlgIF2OIBzuZT9ftd3DtF27zt17bDlwKPmNmI5RAGTEcRFuPki06G/Tw6LvtZg4uhaRd+TUcU2aNOnMmTPcUoVWQkLC4MGDNTQ07OzsvL29s7OzuREoFAqFKmPJt+NKffdeXUMz7lkOXYUgbDy8vB2nTrt0N5yuUiRkynERYOR19Q2cps+IePiYrkXkFzl1XFZWVhEREdzSCqDc3Nxz585NnTpVS0vLwsIiICCAG4FCoVCoMpN8Oy4AptErtm6jyxGkAiKDjgtIePF64YpVWto6891XKN6dnBUWOXVcRkZGFfwiz5cvX0JDQxMSErgVKBQKhSozyb3juhYdZ9iqVfr7D3QVUjGpyHN62XRchEhR1kTnWbr6Bmt27FS8Z5ZUQOTRcX369KlFixb//e9/uRWoAsXFxcEQcUtRKBQKVWLJveMCrAcN3uNzii5HKhp3UtJnLFiooal1KzGFrq0IyLLjIgTdTxhiZ2dobLzWc6ei/pqugiCPjis9PV1hXsZVFnJwcNDU1Bw/fvyZM2fwKfMoFApVilIEx3Xy2nWzjh3xr+YVGb87d4fbj9XW1ZvvvkJ+319ccmTfcRGuRseOchyno6fvtnbd/ZwXdAAi+8ij41Kwl3GVhd68eXP8+HE7OzuwXvDv6dOnuREoFAqFKroUwXEBtiNGrvXcRZcjCs+1mLiefS1N27Vbv2sPXjORF8dFuJWYMtF5lqaW9qxFbndS0ukARJaRR8d14MCB+fPnc0tRfMrLyzt79uy2bdu4FSgUCoUquhTEcQXHJ+nqG+AfyysgEZmPDvv64UufCPLluAiRoqy/Fi/V0dO3GTL0wNnzeLFaXpBHx+Xm5rZr1y5uKQqFQqFQZSwFcVyAs4ur4xT5SxtBShF5dFwEMFr7Tp2xsh2kq28wb6n7rYRkOgaRKeTRcdnZ2V25coVbiiqiwLgOHjzY29v7zZs33DoUCoVC8UlxHFfK29y2HTp4XbhIVyGKQeyTZ5GiLLocYZBfx8VwKzFljtsSQ2Nj865d3dauC45PomMQWUAeHVfHjh1TU1O5pagi6tOnT/7+/pMmTdLU1Bw+fPjx48fFYjE3CIVCoVAsKY7jAvzDIgyMjGBeTlchcg0YLWeXRRqaWrtPnKRrEQYFcFwMvrfvzFy4yLBVqw6dO7uuXnshJBRfAiFTyJ3j+vLlS4sWLT5//sytQBVXHz9+9PX1dXJyAuv16tUrbjUKhUKhvkuhHBcAMzPrQYMz8j7SVYg8EpqaMWn2HE0t7TluS2KyntIBCBtFclwM4LXmLVverVdvVXX1waPs1nruuh73gA5Dyhm5c1wikcjU1JRbiioNgfXiFqFQKBSKJUVzXJn5n2xHjITZOV2FyBfJb8SOU6Zq6+guXLHqXvZzOgChUUjHxXA/58X+M+cmzZrdtn17NQ2NfgNtZ7suPnjOF2w5HYyUNXLnuPDR8OWsx48f3759G983jUKhUF8Vz3EB8S9embZrt/fkaboKkS+2Hz4S//wVXY5IQrEdF5sHz1/6XLm2bOOmoaPHGBobq6iqdu7ew26c04LlK3efOHk2KPhuWmbK21y6YamQnpsP/QMXQkJhW4fOX/D0PrZp737XNWtdV68dN206AIlZDhgIWPS3aWViQoA8GwlKXUOTRLZp2xbaWg8aDF1NmOkMPa/ftWff6bOwOXCYZbdr0iN3jmv//v0LFizglqLKTBEREX369DE2Nl6yZMm9e/e41SgUClWRpICOC7ge90BX3+B88G26CkEUmEYVxnFxSHz55kpUzL5TZ8CZjJkwsa/NADAtzVu0UNPQMG3fnrEuAFiyb77oO1v2HwTYJcBE51kkGBg9fgIxTiZmZtAndAiD3LRZM+KLevezgqrh9mMhcspfc0lzcF+A14WL4I4A+CIi9gxIev2OTp5N/ItXJPJOSjq0PRV4A7raevAwdDtt3vxRjuNgc2TX4CuuZ19L2FnYox1Hjl6OiIJBoDssO+TOcbm5ue3evZtbiipjZWRkrF+/vl27dubm5ps2bXr+/Dk3AoVCoSqAFNNxATBZ0TMwDIy9T1chMkjqu/d0IVJUKqzjkkT881e3EpIZ6wIs3bCRba4mzZ4zec5fHMcFDocEA3tPnibGKSQ5DYyQ7Fx0jXqUdSEkdPeJk7BH9hMndenRU0VV1bBVK9sRI+cuWXbo/AXIlm5Visid4xo+fHhgYCC3FFVeioqKWrRoUXx8PLcChUKhKoAU1nEBB86eh/lHWU87kBICB8hp+ozuvfvQVUhRQcdVwbmTku590R882NDRYwyMjDS1tAcOHwEe8syNm6V+I6LcOa42bdo8evSIW4pCoVAoVNlLkR0XsGX/wdampmi6ZJNIUdaUv+Zq6+i6rl4rO5cO5Bp0XAibmKynR/z85y1b3ruflaqaGvwLyz5XA0vlkrJ8Oa68vDxVVVV8ioMM6sWLF/Pnz4+KiuJWoFAolAJJwR0XsHnfgVYmJvg0M5ki7mn2rEVumlra85a643MISxF0XIgkUt7mnrlx03XNWgvr/moaGrYjRm7YvTckOY2OlBL5clxxcXE9e/bklqJkQG/fvt2yZUvHAsHC06dPuREoFAol/1J8xyUquNIFput2UipdhfwUDvv6zViwEN+vVeqg40KkIeHF632nz46fMdPAyKht+/bz3Vf4h0fSYcLIl+M6derUlClTuKUoWVJUVNT8+fN1dHSGDBkSFhbGrUahUCh5VoVwXICHlzfMLa5ExdBVCKIwoONCigp8Ky5cscq0fXvjNm1mLXK7EBJKx/AiX45r1apVmzdv5paiZE+fP3/28/PDp8mjUCgFU0VxXIDXhUs6evqnAm/QVQiiGKDjQorNjXvxrmvWduzSBayXy8rVhd4UIF+Oy8HB4eLFi9xSFAqFQqHKRRXIcQG+t+/o6hvsOu5DVyFlxBE/f58r1+hypCxAx4WUnGvRcbMWuekZGPbuZ7XlwKH4F/xPtZEvx9WxY8eUlBRuKUp+lJ+fb29v7+vr+/nzZ24dCoVCybwqluMCbj5INDEzW7B85cMPn+lapBS5dDfcor9Nxy5dzgYF07VIWYCOCykt0t9/OOYfYDfOSV1D02HylIuhYZwAWXNcaWlp27dvX1eg9evXe3h4QAmp+vLli5qa2t9///1jC5Q8CQ7fuXPnhg0bpquri+/1QqFQcqcK57iAuGc54ASG249NfiOma5GSE5KcZuc03tDY2MPLOzP/Ex2AlBHouJBS537Oi9UeO0zbt+/UvfumvfuZ93rJjuN69uzZ0qVLDx48+OTJE/F3QaGXl9fy5cthAWLwufAKIzjKGzZsMDEx6dWr15UrV7jVKBQKJZOqiI4LSM/Nd5o+w7xbt1uJKXQtUhJcVq7W1tFdumFjqb9xFSkUdFxI2XEq8MZw+7Haunrzli2PFGXJiOOKiYlZsmTJy5cvGa/F1uvXr1esWBEXF8dthpJz/fvvv8HBwREREdwKFAqFkklVUMdF2HLgkI6e/mFfP7oKKTanrwfFPcuhy5FyAB0XUtaEpmY4uyzS1NKu1cksIyOD+59H+erJkydgt7g260fl5uaC6SJXulAoFAqF+imq0I4LCIiMbmVi8tfipenvP9C1CCJfoONCyof4F69qWPbQ19efPHnyT3wihZubm6SrW2y9efPG3d2d2xiliPrnn3+cnZ0DAwPxPlIUCiVTquiOS1TwKwXbESMt+ttEirLoWgSRI9BxIeUG/DeRl5e3Y8cOAwODmTNnZmVlcf8jKWMlJSUdPHiQ664k6NixY6mpqdwuUAqnv//+29vbu2/fvq1bt964cSNe20ShUDIidFzfePjh89ING3X1DfAOQ+kBg+o4Zap/WARdhfws0HEh5QbzO67c3Nx169bp6OgsW7YMvM2P/5mUobZu3cp+VIawnj9/7unpye0CpbiKj493cXGB03L06NGhoaHcahQKhSpfoeP6f8A8mLZrN9F5VtLrd3QtwpAmzgODqqWts2D5ysRXb+kA5GeBjgspNzhPznj58uWsWbP09fW9vb2/fPnCrmIUERHxzz//cEuLq1WrVnF9lWS9f/9+w4YN3C5Qiq6PHz/6+Pj4+/tzK1AoFKp8hY7rB8A/jJ8xs2379v7hkXQtISPvI11YcTh0/kKbtm1HjHUITc2ga5GfCzoupNzgfVZhdHS0hYVF7969Y2JiuHVfv8bGxnp4eHBLi6uVK1dyfZWg0HGhUCgU6mcJHRcPB8/56uobuK5Zm56bT9dW2DsPM/M/2QwZat6tG77RWGZBx4WUG7yO62vBm6+8vb319fXnz58v/vEmw8+fP6urq5fW76mK5Lhyc3PRcaHY2rdvX05ODrcUhUKhykbouPiJFGUNsbPr1L371ehYTtWu4z6e3sfoJhWBCyGhFfwSn4yDjgspNyQ5LqJ3796B4zI2Nvbz82OXd+3a1czMjF1SbG3ZskX633FlZ2fj77hQjPLz8+H81NLScnJyCg4O5lajUChUaQsdlxC7T5zU0dNfsHwl+2JXwovXmlpaQfcT6HgE+bmg40LKDWHHRRQZGdmlSxd7e3vmkXFz5syBs3T79u0/BhZH8fHx0j+r0Nvbu7SuraEURnl5eYcPH+7Ro0eHDh127dr19u1bbgQKJYfK//sztwglA0LHVQjRj58MG2PfsUsX9kP5Bo+yM2rdOvmNmI5HkJ8IOi6k3JDGcX0teFr3pk2b9PT0vLy8YBUmuBoaGk2bNn39+jU3tIj6999/XV1dpXkf16tXr2T/fVxuV88vunoW+SmM99xoPtjGesYkugpB5It5Aafgy/li8gPuVwzqZwsdl1TsO3VG39Bo+vwFCS9eiwpuLISp7SjHcXSkYnA/58XUufPC0h/SVYgsg44LKTekdFxEKSkp/fr1GzRokL+/v5GREZyolpaW3KCi6/Hjx4sXL+YaLErLly+X/fcywVRJ/Ok5giBICYEv5zruf6HpkjWh45KWB89fTpo129DYeP+Zc+C7mjRp0qx5c48jR+lIuebhh8/bDx/R1TeYudCF2EtEjkDHhZQb0juuz58/37t3b//+/WC6mhaoUYF8fX25oUVXREQEmC5JV7qg3N3dPS4ujttM9oSOC0GQUgG+nC+lhKPpkjWh4yoaF0JCzbt2tR0xsnvvPjBjUFFVVaQfdF2Ljuvdz6qXZb9rMXF0LSL7oONCyg1pHFdSUtKcOXNatmxJLFaTJk3IApGamtrff//NbVN0PX782M3NDRwd+0EasHzw4MFly5bJ/tUtInRcCIKUCvDlDP+i6ZI1oeMqMunvP7hv3qKlo6MM04emTU3MzBTgB12wUzMXLtLVN9h2yOvhh890ACIXoONCyg1pHBfRp0+fIiIi1q5da2VlpaGhoaKioq2tTWyYo6MjN7q4Sk5O3rJly+rVq8eMGbNmzZpt27alpaVxg2RY6LgQBCkViOMSo+mSMaHjkpb03PzA2Pv7z5yb7ba4p6WlhqYm+TOtpra24xRFGK5Ne/ffy35OlyNyBDoupNyQ3nFxlJWVdf78eTc3t549e6qpqT169IgbUTLJ6Xu30HEhCFIqMI5LjKZLloSOqxAu3Q1ftnFT/yFDOffDsKWqplZh39CFyBSN0HEh5UWxHRdbnz59evXqFbe0ZELHhSBIRYbtuMRoumRG6LiKQMTDx5cjorwv+q/a7jHReVa/gbZmHTtq6+o2a968RcuWivSDLkROQceFlBul4rjKQui4yoj41OgHKVFv8p/RVdLwKDsFmouepdBVFQTeAUwR3Xccb3/p6jk6HkGKB8dxidF0yYbK1nE9eCuec/XirCt+zgEXFJ6p53zoQkQGgRMSTks4OekzVt5Bx4WUG+i4Sle8jsvG1tq8Uwfzzh1SHz0gJbEJYd9KOnUYNXo4HV+m/Prrr0pKSkkZsXSVNDj/NR2aj5/kSFdJIizm1pixI7V1NJu3aNbRvP3y1UuK7fdkAXoAYXfg4I4YNfTth2w6HkGKB+24xGi6ZEBl67j+unrp3tt3dDmC/FzgtISTky6Xd9BxIeUGOq7SFa/jUlZurFSgBa5/kZJJU8eTEh1dLTq+THGa6ODgNOZxTipdJQ1FdVynzh+tXLkSNKldp7Zp2zaNGzeC5WevMulIeYEewMBb/vMXzUG7hZQuvI5LjKbrZ6tsHZdzwAW6EEFkAYU8OdFxIeUGOq7SlYDjqlKlcsOGf756/wT8Rs0/alatWoXtuGC+7rl3q92YEYOGDli1zv1l7hNSPnnaeCAk/Lq9wyiouhZ8KT0rAQzbwME2h7z3MJuA5h67N48aPdx2iM3iZS5Zz9NI+bSZk6B5RFwIeKQxY0cyJSRg/eZVsEVLqz7DRgxeu3FFzttHnMwJEDxr7gxrG8vN29c5z5nGOC5JOTNAhw0a1Id4C8teOW9EpPDMheMkUjjnyHshsJs2tta7D3iQ8m2eG6H8+u3LZPXYqcOw6nPWWyATevf9As7ASJJdho0+fZkhljwO7z7m7Du0097Rrp+1BfTzICWK6ZNkK2kXBPYiIS3mfnIkE4YgkoAvZwEquc64mZnK/QJClb3QcSEVFIU8OdFxIeUGOq7SlYDjGm0/Ev6FGfyGLathAQwA23HBnB5WtXU025qZwIJZO1Ny613BlTClOnVr16tXFxaqVa+moalOlkFXgvxI8z59e8Fq3bp1mrdoBgtNmiqTn1qRW+AaN270yy+/NG3WhCkhN8VBmGnbNn379W6p0gIKwXLQyYPraG1irFRwkQr6gUyUvjsuSTkznPU7QfKMSwynexbOGcqZ3YR+xAWOC5YHDOpPmsN2YTXwlr9AJpzdvxsdDCWwI7DLEFmp0u+xCWFiyeNgPaAfrFauXElPXwdM8tGTh5g+yQBK2gWBvXBwGjN0xCASgyDFBr5quN8+qHIROi6kgqKQJyc6LqTcKH/H5ePjs0EK2dracov4BL1xN/BTJeC4fP1PweTbxLS1ppZGs+ZNj506rPTdcV28chaWofx13lNY7dajC6ySS1hksg4mDSyEchNlWB40dACUg/GA5YWuc2H5wuXTSgWu7FF2ytsP2eadO8DqPJfZ4u/z/hGjhua8ffTwWTJTQgzD45xUaAI+xD/wPCmn7/fzCzgD5bVq14Lmr94/MTQ2UCpwXAI5M3js3gyFYGw4fYqlyHmJuwssDxxsA8szZk2BZciteo3qVapUznqeduvuNSUpRo+z+0eO74dV8FEPUqJgo09epL8QZ4kljAPpFixu1P07EJPzRpSelcD0CQMosAsCexEeezs0MogZBwQpHui4fpbQcSEVFIU8OdFxIeVG+TsuKbVB4a5xBdy4MHveTKUCua9a7HPWW+m7Z1izYQUpZ2vO/Jni746LXCMi15r2HNwBy9OdJ8Py5GnjmeZdu3cmm3NdsgBWrfr3FX+f94OXYJJhDAOYEEurPr/88sv3DX5T9INQTvKbtq2FcrATZBW2qFTguARyZiAOB0T/bKzQnMnVJzAwSgXXA0kYuTC4fdfmqTMmwgJ0wnTFEcmEs/sZTxKJa1UqsFL9B1pBYpLGgXTL7DgDM4ACuyC8FwhSctBx/Syh40IqKAp5cqLjQsoNdFylK2HHlZgeCxPxqlWriJ6lsB3XvkM7YVlXTxsKGcJjb4u/Oy5yScrEtDUsex3bJ/7RcYEHg2U9A12yuQmTx8GqvcMo8Y9XtAhMyY49W2ChVRtjWH6UnfLbb7/BauS9EE7y+w/vUiq4YY+sDh42UKnAcQnkzJCelVCp0u9K36/FEWDf3+Q/kzLnBa5/KbG8SuAtf1ht38GsUaOGlStXIrfwCWRC7z74q1Pnjy5dvojclLjE3UXSOJBuVdVU3n3MYZqz+xTYBeG9QJCSg47rZwkdF1JBUciTEx0XUm6g4ypdCTsuccEtcGSB7bjAmdSpW/s///mP+6rFl66e89y7tU/fXpev+4qlc1xpj+Nr1a4FqzNnT127cUX1GtVh+dxFHzGf5WBKyM+iNDTVwYE4OI0hG6IdF3RetVpVqJoyfcLiZS7kwYPguARyZuPiNo/0bGHZa57LbLsxI2r+UfPZq0wpc6a9Cjgr0iF4P1IikAln96/fvgzj5u1z0D/wPPnpl9vShZLGIeNJIvkJ1sDBNrv2b58zfyYcO3afArsgsBenfY8dO3WY2R0EKR7ouH6W0HEhFRSFPDnRcSHlBjqu0lWhjouB7bj+j73zgKriaN84xi5W7Bh7Q7H32I1dBOw9tthb7L3FGrvGWImxK2JviIIVG6KCIiBNsGP32pJ8/5N8/1cmzrfZ2d27XK+36POc3/Hszs68887sgvOwe/cSx04dci1bmi33SWXKuTLzw3a1HRdx2H8veQZWOWu2rIt/nsfKNRwX2Z6q1SrTdooUKchBZXDM4KDkuIjfNq1hpqtwkULsZRLszRlqOctYsnz+1/nzsTrkixo0rMfeJagnZ9FxkbdhTQ767eaFapnIhu9/+jB1xKvVrlsz/sFNjXkIOOPLPrdGSp069X7fnbKYakPQGAXenAHMAhyXtQTHBb5QPsuLE44LWAw4LvNK0XHp505idEj4RfbKchO4dT8yIjZE9hScBlQzPOZq3L0I8ZAM8kihEUGK31ysM+eb8deu3rjw8Fm8rDy5OWugJxPqiDK5fP0cf6kgK9SYh7uPYigsf7u9iBmHAIBO4LisJTgu8IXyWV6ccFzAYsBxmVcf6bgAAEAPcFzWEhwXsDNuPjccOHfhZFiEeChZfJYXJxwXsBhwXOYVHBcAwALAcVlLVnZctG6m1TNxOvzmv8qvh7PywMhosZWFGTh6bKtOnef8slI8lCzmrVpDcfqPGCUe0smxK6Ertm5ftmGTT8CJ6JevxQqfE2rT3qZL18xZsh48f1FskiyMXpz2CBwXsBhwXOYVHBcAwALAcVlLVnZcdRs3YZ8czZ4zV4zhDSu88eipY8aMrJzW3GIrC1Oi9PuP1bbt9p14KFl07NmL4hQpUUI8ZJTdJ0+7lCnD5oQpazanbUeOijU/GxSnfcEar4yZM+8PPCfWTy5GL057hDmunzduHjVtOjFl/oL1e/ffevuHWFPGpfjb4U+ei+W2z0dm/pHNpTRx9/hl81ax3FxcvXs/X4EC1x4+Eg9J+dRpcOC4zCtzOa7IuBD2eglbxoxJ3n4YRYjln4hkdWfGYdomigOcu2Cm7F0vwKaA47KWbMVxkZb8toEVTl2wkBfaguNat3sv5bbn1BnxULIw2XGR3UqTNi21TZkyZeOWLXsPGUaLKjIeC9f+Klb+bFCc9hVbt/tduiJWNgGjF6c9whwX/ViVKleu+4CB7b7r7pQjZ7VatWNfvxMrSylbsZKdXk4fmflHNpdSoWq1n1auFsvNRXDCHfolcPXeA/GQlE+dBgeOy7wyzXGNGDOspUdz6asX8hf4+tS5o2JNm8KMSQ4dPnD46KFiOWel1zK1N1uYgNHupJhxmLaJOMBN235t7tZE8UUpwEaA47KWbMJxZXB8/2UU5atUpZL4d38WKlqUF0od14Z9B5q3ak1LyYrVqg8cPTb0QSIr7zNseMt27WctW77Iax0dqla7zq+79sa+ejtiylRaTtVr0tTH/7i0U1rKN/XwdClblnrsOWjw2Zsx/FC/4SNZqFXbd1SvU/fb5i2khQlJ91hatG5DvZR0daWF7OCx4zX+5EzL3JFTp1EOFOqXzVtFx6U2Ihmly5V3SHo3rvSmVljik1M3Itm2nhF5+eyuWb8BrcZoWtj6e/qiJXToh4mTeWVWMmTcBLarkZ44UWSEaH1P8SnbOo0aUwU+M9qTttXXz6NDR9fyFWiiPDt2OnYlVNYF2zVtjBoYvTjtEe64eg8ZykpOXg+ni4cmmdeJe/P7oQtBe08H8ns7dGZpYqfMX3AhNv7q3fusMMbwxjco+EjQZfpR4m2v3LkX+ezl9cTH3kf9qSbbpUuRfsTOR8fxaoxzUbE7jgX4X72mcZONDp0Mi6Bq1DUv1Oha1pdi5uIAbz43XIxL4KGiXryi+tS1YnPF3mUoDk3N6rDM6ZqnJjyN46FhlKH02WC1ftlsB0ZGi45LHGnCv9NQi2kW4LjMKxMcV8KDqAyOGZyd87Kve2KIi2AbxIxJGrVAND/m6sugozspZhymbRJwxlf6gsdnb+6PmTBCfKsksCnguKwlm3BctESgBTdt7D97nhbWtEHrZnImUsc1buY/36RB5VmyZqONwsWL01qEDrGaOXLlZhUcku4FUQS+mz5Dhkvxt1mcUdOms8K06dKlSJGCNjJnycpX+exJtvyFCrFDBYsU4YXs8bZaDb4lK1jMxYXMA1kgKiefQC5RHBrRa/AQ1hf7Kvpced5/swp3XBojknImIopVI9MidpGgb0S5877vmmv87Dl0aOU2b4ek3GhFSLu0JsvmlJ0f1U5PNlG0werkcXamJWzGzJlpm9aUrLLGpFFfrBeKwx4l5bc6pdNu8hg1MHpx2iOi4yLnST8OP2/czHZPXLtRuFixoiVLVq1ZyylHzo37D1IheWD6Gfm6YEE6L2SbqeTAuQvO+fOT2aa5pZ8Cv+CrrDmVUAWa6jIVKq7ZsZN2O/f+nirQjzCdmhlLlvFMqBpdFfRjSGHLVaqs+NcEcoPkz/MVKPBNvfo5c+chw6zdtdiXmLniAOm6pTpTFyxkoRq5uZF7V2yu1rsUtaGpOS6K1r57D4pWvnKV1GnSrPXZRbv0Y0IDp3/JjGn0SyYtU5YslB79GHbp09dB4rgURypNQy2muYDjMq9McFzzF89u0qzRxCljO3Vpzwv5Kn/sxJFng473H9THvZWb9+7NT17dmzxtPG3PWzSL3xPbvmtT955dWno0Hz5qSOzdcFb44t3D5auXdOzcrk17z1/WLGGF1IQK23dq06N3t5Nn/3ER1MW5SycGDO7r2cZ97foVPAfFsFJ4kpTVzLnTWrX1GDikb1jUZV6BPGTnrh3c3JtR/tdvBsuaJz5PoK7dPVvMXTBz8LD+zAIpdrrSa5ljRsd2HVtTfL8TB8zYneKEyODDVMxNiuKcK2arOOd0fjdsWcuj7TnozQ4pJkkRAi8GUAT27V7i2NWyFZOkay8i9p+vLNOfLbAucFzWkq04rgVrvGijTZeudRo2og1ae0kdF/mlVKlT0+7o6T/S7rWHj5i/YvdnWM106dPvDzxHq3C+IqcVxu6Tp9n6mz04FHTrNjM/Ldu1p5VoYGS0U/YctMvuZSV8WLuThk+aciTosvdRf17Ilv7kCfnnzWiJwyorfqyI5+zWpi01oWiUocMHx6U9IilbDh9hvYz5cYbYi84RUZ1NBw6Rs6L1Ge1W+aZmQpLFooUa7U5buJh2ac5Zzcu37xpNTzZR0xctcUiyQ2z5SG5q14lT3J6pTRrvhfJhro9OH18X8mn/mDFqYPTitEe44+ratx/N/8W4hIGjxpDdZbdW6LxUrFZ92IRJrLLXzj10Wtkpkz5cF/fmd7LHA0aOZrsUivwVc8i0fKfp5R6DdskyhT9+Rturtu9wzJSJ3/Ph96yopJlnq0FjxrFdDgUkB9KxZy/WhDoNS3yi3bViX9LMNQZI1xvNA12Kk+fNJ6fEL06dA5eiNjQNx0XGLOLpC9oeOXUa/R6YMn8BbUe/fF2oaFH61afWL8Wn2R41bXpC0tDc23dw+OC4NEbK0lCLKcvtY4DjMq9McFzlKpSldTatbjM4Zrj3OJYV8lV+rlw5K1etuMX7t1W//pw+fToyDAuXzt21f1vBQgXWbVzNKs+YM3XHni3+pw/T2rq0qwt7GKxLt441vqm2+8D2w8f2zp73I6tJS3Zyd1SyfvPaPHlyk5djXVSsXIFKNm371ckp24EjuzTCSuFJtmjZtFmLxhR22oyJFCHmzg0qpBHlyJF98/Z1AWd8V6xdyvqS0rhpQ1rZ+wbsGzNhRDanrMwCKXZKbbNndyJrSsMJj7lqxu4UJ0QGH6ZiblIU51wxW8U5P+y/N9/XzuSIWEOqwE6xYpIUoWz5Ml7rV9LFoDh2tWzFJKU38fRnC6wLHJe1ZCuOK+rFq2xO2Wn9TX6J1kO01JA6LnY3hlSvSVNadhPMAFSvUzfhg+Nq0Kw5i0lei3Zbd+7CdtlifeyMmQlJnwJicXYeP8mOsif9aCnGdtnanRaC0iT/5bgCz7Vo3aZw8eK58uRl634SpSetz+DWYsexAFbS2N3d4YPj0h6RlO1+x1hN0Ywl6B5RnUaN2W6HHj1pt0Dhwmy37w8jHD6Ml8ZF27SCTNCRnmyighPusE+a0ZxUq12nx8BBzKwy1CaN90Kuklfm8Gn/yDGqYfTitEe442IzRkqdJg1/pJDMKpX4+B/3DQpmZMqSZd+Zswn/Nh4nrt2gavwpO3aX9ULMrYQk8zBhzlzeHe0yu56QdB+JqvGn5mhxT/3SUTIMjVu2pJR4K8bp8JtUn998Zmh3rdiXNHONARLkc/I4O7/3XZI/kegcuBS1oWk4rumLlrBt+m3w1Vdf8YcJ6dcUWWK1fo+HhtEGf2Jw7+nA99WSHJfGSFkaajGliX0kcFzmVXId17lLJ7JkzfLo5R3arl2n5s8rF7FyqeMiu8UKGzSs139QH7Y99ceJPXp15XGevr4XERsSEn7R2TlvUEhgaERQunRpb92PlPZ1/WYwmTr+Tb60IqelPOuCFuuscOCQviPGDFMLK41m+JBk8LWz6TOkv/sohhW29Gg+ccpY2jhyfH+RooXvJEbLWjEuhZ51zOjIH10jD8Af81PslD9VaMbu1CZEhtSQKObGUJxztWwV5/zl74mFChfc77uTtil45iyZ6cJQS5IikN1ihWpjF7NVTJIPMFnZAusCx2Ut2YrjSkh6G7hDkibO/Snhg49ijmvxuvXsUMEiRaic08Tdg9fkL7Vj3oC8BNtNmTIl7bK/E/M4hy9eYkfZg3/kytguW7tztyYtpPgXYuMdM2WibZcyZXoPGdqpV28WbfmmLdL6jFXbd7Cj+8+eZyUeHTo6fHBc2iOScvn2XXbX7pt69cVedI6ITw57MClfgQJsly3pHJKSTJsuHW2wZ5OMpidOFLmm2t82ZM8TMq329klIuiGgNmm8Fz5FUnjmHzlGNYxenPaI7KlCWnCT1yVTwT7VRgt0Wu7TUSns3SRS40GugM9tQtKnnt6foySXQuaBP/Yp22XV+GcLG7m5uZavMHzyFDIbnh07sZ9xKZSMtBeGzq6lfUkz1xggQQ6N/GfVmrWkPeocuBS1oWk4Lp45uSb+l4KEpL8d0JlS65fKHTNm5OXnomIdPjgujZGyNNRi8pKPB47LvBId17adG2l9T/Qb+L24bCIH9W2j+n4nDhCDhvarVr0KK5c6rvOXT7HCNu095y+ezbaXLJ/v2cadbY+ZMMI5n3OderWaNm+cKXOmg367d+zZ4lKqhKwvn71b0qZNU6p0STpU0qV4vq+dmzRrJOti8rTxvfv2UAsrC8iS9N69mWLywklTx7Hn3F68e9ite2fyOTVr1fhp4SzZ2/C279pUppwr3+3TvxdzXGqdcsdlxu7UJkQGPxdquTEU51wtW7U5nzB5TMfO7Whj2IhBvfp0N2ieNX5HTnHsitkqJskHmNxsgRWB47KWbMhxXYi5Re4ofYYM7LUKUsd18PzFpCX3+6cNeVtaQ7AP0Ot3XAfOXWBxfly8NCHpb9XlKlWmXVqys8qytbuskN9soaUPlf+2Zx/bVXRcfpeusKPsCaLYV2/zFyrk8MFxaY9IRr0mTVnlqQsW8ULfoGAyKskdkehGaAHqkPQZLfrXOX9+9qSW0fRkYWlBzxpSAjQ57EX27bv3SJDchRMnjfcyeOx43gv/iz7v4uPHqIjRi9MeET/HFZb4JJtTdva1ZmzJLn2HBKd85SoL1nixbXb3KejWP3efmC1nuzod15mIKPID7AlAYtiESaLjYsmwq4Kjs2tpX9LMNQYY9+b36nXqkkHK+/XXM5f+zMt1DpyjMTSTHZdavzRA2uDPcJLLcvjguDRGytJQiynWNxk4LvNKdFzxD27SypgICb8oO0QrYyenbOSyatepyUiXLm3wtbOGfzuuC1dOs/rkuBYsmcO2yXF5tG5pSLoZkjNnjgdPb7HyvHnz7Pfd6X/6MDWUdXfs1CHyLbJCw7+7oPU0W+grhpU1ZEkeOb6fjvJC8o1Sb0kRdu7bSm6H3S3h+Abso+Z8t32nNmSBNDol88AmxIzdqU2IDDZMjdwYinOulq3inBs+3Ie8kxidJ0/ugDO+Bn1njSEdu1q2iknyiy252QIrAsdlLdmQ40pI+mAD/8CP1HER39SrT7tZsmYbMHL0uJmzOvToSetI6d0wPY6LqFartkPSJ47ID9AKzCFJfMml7bj2nDrD6jfzbEUB+asaFB0XUal6DYekx7ponVemQkV2q4o5rgTNEckIjIzm7wVhrxlg5o39bT5ZIxLdyCKvdawJacSUqbxcOz1ZWFrP5XF27tq337hZs4dPnsIe7Bw+aQod0p60Wg2+Zbt1kz56VLZiJcU3Z3zkGBUxenHaI6LjIsbOmElemv1k1azfwK1NW/aZIvKu2/2OkRVJSHrktc+w4dw204mgaaQNOtqyXXuafxZKp+MiZ07bRy+H0DaV0NUrOi6iRt16dFXcfG6gbfIwl+Jv6+xa2pc08wT1AQ4dP7Gkqyv1tevEKfI8R4Ius/o6B87RGJrJjkujX/q90XvIsISktw7Wb9rMQfLmDLWRsjQ0YpoLOC7zSnRcGmzYsrZgoQLSEvJUw0cNMSTHcZ08e5TqsOcSN259/1FqWlvTLkXgzyiS66N/qZC644XsiTVZF3w9rRiW1eGwJB8+i8/14dHHmDs3cufOtWv/NtqOSrjOn0/jd2w41CpHjux7DnrTdkRsSKbMmcgCaXRKRmKrzwbW0FzdqU2IDDZMjdx4c3HO1bJVnHMGGW86syVKFudhFZOURhDHrpatYpL8YktWtus2rj7sv5cVAssDx2Ut2ZbjkiJzXNcePmrduQt70YJD0qvtSpcrv/mQL6+p03GF3H9IyxRWSCIXIb1xpO24aJtWP8w4ZcqSZdrCxSyImuM6eT2cvcXBIeljZuyD79xxaYxI5GJcAk0Fe/cGE9k536DghGSOSHQjkc9e0lgckt4+L/2Yh3Z6srDUsEDhwqwmC9XUw5OtBRM0Jy0s8Um777qTKWWFadKmXbd7r9jFR45REaMXpz2i6LjCnzx3yp5jzvIVCUmvbGnYws0xY0a6DskY0zll7w3fffI0Xat0ItgbRwJCrruULZs9Zy6aalq4nw6/yULpdFwJSR8RpMu1mItLoaJF6QJQ/Bmny4aMPSVTuHhx8vbs6tLTtbQvWeaKA9zq6+eYKRNFZs3H/DiDjrK7qToHLkVtaCY7rgT1fg9fvJTH2Tlvvny58uT9YeJkB4njUhxpgiQNtZjmAo7LvEqW42rU5NtR436Qlnjv3pwnT+7nbx/od1wvf090b+XmnM+5QqXy7p4tXEqVYGtrWnMXLVaEFu7kVWgRz1qdDTruWrZ0seJFK1aukDdvnpVey2Rd8PW0WlgpPMmDfrupZtnyZZycso0eP5wdJXuTzSkrNSdKlS4p3uLbuW9r9uxOlapUoJTc3JuRBdLo9LdNa/J97UweYMXapebqzqAyITLYMDVy4yjOuWK2inPOoBzoV8T0mZN4iWKS0gji2DWyFZPk59GQnGwbNm7AKwDLA8dlLVnZcSUXsgfHroSeuHaDP9VjGjcePfW7dIUcEfurcLKg1f/RyyG05hMPicS/+/N4aJjis4KMZI0oxvCGcqb6lL/s0MeMSINkpXc98TEt8ggxPe1Ju/ncQL3QRLHbHWqYd4xmvzhtAea4jEJmg2Zb46vkGLSmD064I5br5Ord+3pOFl02dIGx9+xxPrJrnQNUw2jvOoeWXBT7JR9FP1NhiU/E+gk6RqoY0yzYpuN69+5dp06d6F/5AZtXshyXGYm8FXoz/ppYToV0SFYYdy8iLOry09f/+qSTImphRWiJfyP6Crupwnny6t61yEuRcSHSL3eWQjmERgQ9e3NfWqinUzN2ZzD3hIhzrphtctFOUnHsGtmKSXLMki341MBxWUt25rgAMBef5cWp03EB8PHYoOP666+/pkyZEh4eTv/StvywbctajgsA8EUBx2UtwXGBL5TP8uKE4wIWwwYd18KFC6Ojo2mD/rW7ZwvhuAAAFgCOy1qC4wJfKJ/lxQnHBSyGrTmujRs3njt3ju/SNpVIjtu6bMpxRcaFyF6SblPoTy8iNkTtaTptTG5oa9x+GEWI5SL6Z9Vi2GBKJmM7Y4HjspbguMAXymd5ccJxAYthU47Lz89v9+7dskIqoXJZoc0quY6r63ed3r8Xvm7N1u08f1mz5MW7h2Idk+FvRFjptSzuXoRYwbpIX9igjfTNDUaRDtbkhrbG0OED+TdEa2N0Vi0/TKMpWQsTpsJ2xgLHZS3BcYEvlM/y4oTjAhbDdhxXaGjoypUr5aVJonI6Ki+1SSXXcZUqXXLC5DEBZ3y91q/MmTPHjDlTxTomQ2HvP4kzSL4+2KbQv3hNlnGSDtbkhraGfsfFT7oalh+m0ZSshQlTYTtjgeOyluC4wBfKZ3lxwnEBi2Ejjuvu3bszZ86Ul0pER6mOvNT2ZILjWrt+BdueNHXcNzWrG5JeFrd89ZL2ndr06N3t5Nl/VoRjJ44MvBgwYHDfDp3bst2zQcf7D+rj3srNe/fmJ6/uTZ42nrbnLZrF31Y3ccrYiNiQlV7LHDM6tuvYeuCQvn4nDqjFl5L4PIHiu3u2mLtg5pYd63fs2cLKh/wwgC83qXznvq16oqlVUHRcL949pModO7dr0/79TT9WSMbpoN9uGrtnG3c+Xdt3beres0tLj+bDRw2JvRvOCmWDpYa7D2z/vl/Pth1asa+ZYtB0zZw7rVVbD6oWFnVZbCjLSjb5iiNSzDxZMybrRXoWBg/rzxyXWlsOO+k84LlLJ6TzJg5TMaAsE8WpNigNWSyRpiROu1qeaokRh47u6dy1g5t7M7r4xe9PU0xVMb5sKtS6k02F9lj0XCcGY0PQCRyXtQTHBb5QPsuLE44LWAxbcFwGg2HixIn/+c9/5AckoqNUh2rKD9iYPsZx0fLr20b1aYPWZ02aNTp8bO/6zWvz5MlNzsqQ5DrKli/jtX4l/1LaylUrkotY9evP6dOno3X5wqVz6VDBQgXWbVzNAjJLQ82zZ3eav3g2eY/wmKtq8aU0btqQlpK+AfvGTBiRzSkrv7uSMmXK6NthbJsWmuzrmIxGU6ug6Li6dOtY45tqlCrVnz3vR1ZIg61YuQI137TtVyenbAeO7KLCGXOmkhX0P32Y1talXV2ev31gSPrqKulgqSEdIquz1WeDs3PeDVvWsoAtWjZt1qIxdTFtxkQKGHPnhjhLUmSTrzgixcyTNWOyXhTPglpbjnRWxXkTh6kYUJaJ4lQblIYslkhTEqddLU+1xMjb5MiRffP2dQFnfFesXSoOXzFVxfiyqVDsjrWVToX2WPRcJ0aHoBM4LmsJjgt8oXyWFyccF7AYVndc+q2UHmNmdZnguDzbuE+eNv67Hl3IONFi8frN4AyOGRKfJ7AKtIKkdZshaTFHKznekHb5TZsGDeuRW2PbU3+c2KNXV7bNV4fSp6fU4nMuhZ51zOj48Fk826UFtIbjMhpNo4LouEIjgtKlS3vrfqS00JA0WFqhsm3qd8SYYWz76et7EbEhIeEXaYBBIYGsUPZUIb/TstJrWZWqlWgj+NrZ9BnS330Uw8pbejSfOGWsrKEM6eQrjkgt82TNmLQXxbOg0ZYjc1zivOm5GGQXm0FpqsUhiyUMlpLatBuU8lRL7Mjx/UWKFr6TGC3rQoqYqhifbfOpUOuOtZVOhfZYjF4nBn1D0AMcl7UExwW+UD7LixOOC1gMqzuuZD0uaPThQ6tLdFzbdm6k5TLRb+D34rKJOa4p0ycs/WXB1RsXqMRn75a0adNQuUupEiVdiuf72rlJs0aGpMWc9M/htHv+8im23aa95/zFs9n2kuXzKSDbVnRcavE523dtKlPOle/26d9Lw3EZjaZRQXRcZDipmrSEIR0sudPefXvQxpgJI5zzOdepV6tp88aZMmc66LebVZA5Lr4deDEgm1NW2vDevZny4cEnTR3HngHTdlx88hVHpJZ5smZM2oviWdBoy5E5LnHe9FwMsotNcarFIYslDJaS2rQblPJUS+zFu4fduncmL1qzVo2fFs4SXxuomKoYn23zqVDrjrWVToX2WIxeJwYdQ9AJHJe1BMcFvlA+y4sTjgtYDOs6LhNeiaHxgg1bkOi44h/cpEUYERJ+UVw2lZI8Vcg4duoQLQTFmrn+/RII6S45rgVL5rBtclwerVuy7f85rnzOfJGtFp/jG7CPGvLd9p3acMeVPn06/hmh73p0If9gNJpGBdFx+Z8+TOMSa0oHSyvmXn26B4UE5syZ48HTW6wwb948+313sm3pYKkhLz90dE+hwgUNSTcZqD4PPmhoP2aGpQ1lSBNQHJFa5smaMWkvimdBoy1H5rhk82bQdzFIG6pNtThksYTBUlKbdoNSnmqJMSiZnfu2kiPld8kYaqmK8dk2nwqN7mQ/d9pjMXqdcNSGoB84LmsJjgt8oXyWFyccF7AYVnRcJr/2XfEl8jYi0XFpIzquRy/vFCxU4OeVi/gu+2z9xzguWtht9dmgHZ/z8Fl8jhzZ9xz0NiR9n1WmzJm443ItU4o9NBWVcJ2WtuQfjEbTqCA6LjpKhbwymVW2Ia6YT549SoVUn0o2bvVycHDgzko6WKrTqq3Hy98TidbtPPv072VIGmCuD89kxty5kTt3LvapG2lDGdIEFEeklnmyZkzai+JZ0GjLMeq49FwM0oZqUy0OWSxhGywltWmXdcfyVEuMppE/yzdsxCDunRhqqYrx2TafCrXuZG0NxsZi9DoxqAxh3cbVh/338l70AMdlLX1axzX62OFrL16K5UCbGMMbsRCYEbos6eIUy+0dOC5gMazluD7yq41lX5RsO/p4x2VI+ky/a9nSxYoXrVi5Qt68eVZ6LTMIKz/prlHH9dumNfm+dqZ14Yq1S9XiS9m5b2v27E6VqlSgam7uzbjj2r5rU+YsmcuWL1OhUnnqhb0Hwmg0tQqi4zIkLZqLFitSomRxWg3XrlOTFYorZnJQ7q3cnPM5Uybuni1cSpXgjks6WGpILqukS3GKWa16Ff4Ro4N+u6ktDcTJKRsbhayhLCvZ5CuOSDHzZM2YrBfFs6DWlmPUcem5GKQNNaZaHLJYIk1JcdrV8lRMjCxoNqeslAlBPzuy+8ZqqSrGN/x7KhS7k7U1GBuLnutEcQgNGzeQToge4LispU/ruMJeGEYdOzTi6MHhfgeATgbv3VGoZImhB3eLh4BZoAuSLku6OMUr1t6B4wIWwyqOKzo6euHChfLSZIoiUBx5qbWVXMelQdy9iLCoy09fm/gxD6Nox6fy0IigZ2/uy74JKvHFbSoXv6lZO5qeClJuxl+LvBUqlsugOlRTLJdxJzE6Mu6fR/s4tDq/EX2F3Q8xDcURiZmbPGMGyVkwoW2yMBpQY6rFIYslnOROu5jYk1f3rkVeohP68sO3IMjQSNUoYnca6ByLGNPoEPQAx2UtfVrHBUxg1TbvDt91F8sBMAocF7AYlndcjx8/njJlyl9//SU/kExRBIpD0eQHrCozOi4bQf937wIALAYcl7UEx2VztO3Sde2OnWI5AEaB4wIWw/KOa/369e/evZOXmiSKQ9HkpVbV5+e49h7awZ8iAwDYCHBc1hIcl20R9uhJsRIlIp6+EA8BYBQ4LmAxLO+4Pm99fo4LAGCDwHFZS3BctsWqbd4du/cQywHQAxwXsBhwXOYVHBcAwALAcVlLcFy2RZdevVdu2SaWA6AHOC5gMeC4zCs4LgCABYDjspbguGyIGMObYsVLhD5IFA8BoAc4LmAxzOi4IiMjExISpCXPnj0LDg7++++/pYWfQkuWLPmYd82bUXBcAAALAMdlLcFx2RDbjxxt5uEplgOgEzguYDHM6LiqV6/+/fffS0s2b97s4ODw+++/Sws/hTp16jRy5Eh5qTUExwUAsABwXNYSHJcN8cOEiTOWLBXLAdAJHBewGJ+H47IdTfU/MOXYfgAA+KTQrxr5bx/IIoLjsiGq16p17EqIWA6ATuC4gMWwpOMKCwvr0qVLxYoVa9So0atXr4cPH1LhuHHjDh48yJssW7ZszZo1bDswMLBHjx7VqlWrWbPmqFGjXrx4wcpnzZq1devWFStWUHnv3r3/m/RtyL/99hsPQtv169cvX778d999FxMTw8shCIIg6GMEx2UrBMUllHItE//uT/EQADqB4wIWw2KO648//siVK9fAgQNPnDhx+PDhKVOmREdHUzn5ogULFvAmHTt25EEWL15MVurYsWP79u2rVatWnTp1WHnDhg3z5cvn6em5Y8cOCkUltD148D8DIc+WPn36JUuWHDlyxMPDI0eOHM+ePWOHIAiCIOhjBMdlK/y8YVOP/gPEcgD0A8cFLIbFHFdMTAxt37t3T1rhv5qOS6onT55Q88jIyP8mOa7SpUtLX8jBHdf//d//ZcuWjQek3YIFC5K74zUhCIIgyGTBcdkKPQcMJNMllgOgHzguYDEs5rjI/JQpU6ZQoUJjxozx9/f/z3/+w+poOK7Hjx9PmDChQYMGZcuWdXV1TZEiha+v73+THNfAgQN5k/9KHBfzdWFhYfxQ7969W7Zs+b+qEARBEGSq4LhshQqVKwdGRInlAOgHjgtYDDM6rkaNGpFfkpasWLEiTZo0f/31F9t9/fr16tWrW7VqlTlz5iJFisTFxf1XcFwdOnTgjqtq1aotWrQ4evTo9evXIyIiUqdOvXfv3v8mOa5x48bxJv+VOK7Q0FByXCwy05AhQ8iz/a8qBEEQBJkqOC6bICguoXSZsmI5AMkCjgtYDDM6rv79+7u6ukpLyAW5uLhIS5jIelH5mDFjaLtevXqTJk3ih6pUqcIc18OHD8k7RUVFsXLaoF2jjuvVq1cpUqTYt28fP1S3bt0+ffr8ryoEQRAEmSo4LptgjbdPl169xXIAkgUcF7AYZnRcwcHB5HbmzZv3xx9//PXXX35+fhkzZly8eDE7mpCQQCXsftezZ8+KFi36008/0faoUaNKlCjx9OnTv//+28vLK2XKlMxxvX37NnXq1KtWraJtg8HQpEkTCm7UcZE6d+5cvnx59iLELVu2UKugoCBpZQiCIAgyTXBcNsGw8RPm/rJCLAcgWcBxAYthRsdFIoOULVu2r776Km3atOSXBg4cyD+vdf369dy5c6dJkyZ//vx0tFWrVuSpqDwxMZEMUqpUqcietW3btnXr1vypwuXLl1N9+nGgQ4sWLXJ0dNTjuB49elSvXj3KIWvWrBkyZFiyZIm0JgRBEASZLDgum6CJW8t9pwPFcgCSBRwXsBjmdVz/TXpDRmRkJPmrN2/eyI/99793796lQ7LXtf/9999xcXF37tyRFjK9fPkyLCzMYDDIDxgT64iZOgiCIAgyi+C4rE/cm9+LFC0a8eS5eAiAZAHHBSyG2R0XBEEQBH2uguOyPgEh16vXqiWWA5Bc4LiAxYDjgiAIgiCdguOyPqu2eeO7j4FZgOMCFgOOC4IgCIJ0Co7L+oybMWv6wkViOQDJBY4LWAw4LgiCIAjSKTgu69Phu+4b9h0QywFILnBcwGLAcUEQBEGQTsFxWZ9qNWuevB4ulgOQXOC4gMWA44IgCIIgnYLjsjKxr94WLFSI/hUPAZBc4LiAxYDjgiAIgiCdguOyMuej4ypWqSKWA2ACcFzAYsBxQRAEQZBOwXFZmb2nzjTz8BTLATABOC5gMeC4IAiCIEin4LiszOrtO/BqeGAu4LiAxYDjgiAIgiCdguOyMtMXLho3Y5ZYDoAJwHEBiwHHBUEQBEE6BcdlZYaOG79g9VqxHAATgOMCFgOOC4IgCIJ0Co7LyvToP2CNt49YDoAJwHEBiwHHBUEQBEE6BcdlZdp07rLN108sB8AE4LiAxYDjgiAIgiCdguOyMo1buB08d0EsB8AE4LiAxYDjgiAIgiCdguOyMjVq1z4VFiGWA2ACcFzAYsBxQRAEQZBOwXFZmcrVqp2LihXLATABOC5gMeC4IAiCIEin4LisTMUqVS7GxovlAJgAHBewGHBcEARBEKRTcFxWplzFipfi74jlAJgAHBewGHBcEARBEKRTcFxWpky58pdv3xXLATABOC5gMeC4IAiCIEin4LisTNny5YMT4LiAeYDjAhYDjguCIAiCdAqOy8pUq1nzTPhNsRwAE4DjAhYDjguCIAiCdAqOy8o0aNzEL/iKWA6ACcBxAYsBxwVBEARBOgXHZWVatGq95+RpsRwAE4DjAhYDjguCIAiCdAqOy8q079Zt80FfsRwAE4DjAhYDjguCIAiCdAqOy8oMGDFy6br1YjkAJgDHBSwGHBcEQRAE6RQcl5WZvnDR+JmzxXIATACOC1gMOC4IgiAI0ik4Liuzapt3zwEDxXIATACOC1gMOC4IgiAI0ik4Liuz99SZZh6eYjkAJgDHBSwGHBcEQRAE6RQcl5UJTrhbukxZsRwAE4DjAhYDjguCIAiCdAqOy/qUci1DvkssByC5wHEBiwHHBUEQBEE6BcdlfVp36owXxAOzAMcFLAYcFwRBEATpFByX9Rk/c/bkn+aJ5QAkFzguYDHguCAIgiBIp+C4rM/G/QfbdO4ilgOQXOC4gMWA44IgCIIgnYLjsj43Hj8tWrx49MvX4iEAkgUcF7AYcFwQBEEQpFNwXDZBM3cPn2MBYjkAyQKOC1gMOC4IgiAI0ik4Lpvgx0WLf5gwSSzn+F26Mmra9LM3Y8RD5uLq3fv5ChS49vCReMiuaeLu8cvmrWK5LWD23OC4gMWA44IgCIIgnYLjsgn8r4ZW++YbsZzTsl37VKlS9Rs+UjxkLoIT7jg4OFy990A8ZNeMnTFz5/GTYrktYPbc4LiAxYDjgiAIgiCdguOyFWrUrn3g7HmxnLj28FGatGnHzZyVI1fu2NfvpIduvf3jZFjEjmMBF2LjtQvj3vx+6ELQ3tOB4U+eSyNcT3zsfdQ/MDJa5rjU6ss4FxVLHflfvUadikeJK3fuRT57SUOgahfjEljh8dAwiiz96Jpid6xtWOITH//j56PjZJFpjNv9jh2+eCn21VtWopjM1bv3KYh2R4rRpLBMQu4/pLmiXmTlbA6pI8X4dDT0QaI0WtCt21EvXiUIucUY3vgGBR8JuizLQTs3KXBcwGLAcUEQBEGQTsFx2Qpzlv/SZ+gwsZyYsWSZa/kK5LXIcXnt3MPLT14PL12ufL4CBb6pVz9n7jxePrvVCk9cu1G4WLGiJUtWrVnLKUfOjfsPsgjkTzJlyVK2YqUiJUp06dOXOy61+jLafdc9f6FCNes3+LpgwXKVKst8BaNUuXLtu/coWKRI+cpVUqdJs9ZnF+26lC1LGdK/zG+odUdtO/f+ntpWqFotbbp0NA+snAxV81atc+fNW6dhIxpsnUaNNZKhtj+tXM22FTtSjCaDMmnVqTNFpobp0qefMGcuL6d+qW2ZChXX7NipGH/+6rWFixfnocgQpkyZkvytLLcD5y44589PAUuULk1D9gu+qjM3KXBcwGLAcUEQBEGQTsFx2Qqh9x8WL1Ey/PEz8RA5oqkLFtLG90N/aOLuwQrj3/1JHqZjz17sfk7cm9/DEp+oFVasVn3Yh8+JkWcj50ZWh+qQNxg1bTqL5t6+A3NcavXFxPg9NArVzLPVoDHjxDpkIcj/RDx9Qdsjp04juzJl/gLajn75ulDRogvWeGl0R23JZrA5WbV9h2OmTGxcfpeuZHB05CndePQ0QT0Z7mrUOlKMJoMyIRfEPuTm4388VerUZyKiWDnNIXN3avEp//QZMuw9HcjKB4wc3aBZc7bNc6MzVczFhQ6x8q59+5GFo4B6cpMCxwUsBhwXBEEQBOkUHJcN0bX394u91skK/YKvpkqV6sqde7R9JOgyrfXZ9unwm2SQLsXfllZWLAyMjKZC8gm+QcGMTFmy7Dtz9nhoGJXzh9/IEjDHpVZfGpNBlmCrr9+0hYvJtjVu2bJu4yZiHfIk0xctYds7jgV89dVX/GHC1p27DBw1RqM7akvBWeXriY+pGnsukcxV6jRpxs6YeTIsgneklgx3NWodKUaTQZmMnv4j3yUPzG64UTm/36UWPyFppGSiEpKcVe68eVdu82ZNeG4nrt14P/lJzyUSZOdo90LMLT25SYHjAhYDjguCIAiCdAqOy4Y4eO5CxSpVZJ/V6T1kGK3Rh0+awsjg6Dh53vwEdqclVSpZBLVC8jnkQKTsOXWG/I9jxoy82rmoWOa41OrLwhKN3Nxcy1cYPnkKeSrPjp3IP4h1yJMs+W0D2yZTR/nzQx179uo9ZKhGd9K2US9eUXqnbkSy3c0HD9dr0jR9hgwFChf+Zcu2BPVkuKvR6EiMJoMymbdqDd9t2MJt6PiJrJxnqBGfrGDmLFnJam7cfzBrNqcYwxvWhOdG50J64thg9weeS9CRmxQ4LmAx4LggCIIgSKfguGyLNp27LFr7K98l9+WUI6dbm7bkTBjfNm9R0tU14YNBkr7FQbuQv7WCQ+6FyvnnncgwMMelVl/GmYgoMhj8MchhEyaZ5rg0utNwXAyyLuSvUqVOfTT4iloy3NVodCSLJj7bSZnwxwUJlzJl5ixfwcp5hhrx49/96Zw/P/kl9/Ydug8YyMt5buzmZNCtf25OstuPfDdBMzcpcFzAYsBxQRAEQZBOwXHZFkcvXy1XoQJ7kR2x2tvHMVMmvktcvn03ZcqU+5Pealijbr1mnq1uPjfQNi3E2cOEioU16zcg28Y+TEWr/+1+x+Le/E7bZSpU7D3k/es6aEFfv2kz5rg06ks5Hx1H9Y9eDklIMm85cuU2zXElqHen5rjI25y8Hs7Kd588TRMSEHJdLRnp2ykUOxKjia9npEzyODszN7XWZ1fadOmYHZJmqBafHRoybkK1WrXTpU9/4NwFXl/6GbOyFSt16dOXNqhJy3btqXKC0kjF3KTAcQGLAccFQRAEQToFx2VzdO7Za+bSf17K17CFW9uu3WQV6jRqzD4UdCHm1jf16jtmzFi4ePEsWbNtPuSrVki+i0JRYZESJTJnyVq6XHn27OLhi5fISOTNly9Xnrw/TJzMHZdafRl9fxhBFqKYi0uhokXJuZnsuNS6U3Nc5D1oaJR2idKlaWP2z78kqCcjdVyKHSlGk0GZdB8wMF+BAhQ8fYYM81ev5eVSx6UYnx1idxSpC2lYaW5kGl3Kls2eM1c2p+zkvk6H30xQGakGcFzAYsBxQRAEQZBOwXHZHOeiYl1Ku7JX4enheuLjE9duyN4lqFgY/uT58dAw9sI9DlkCWuuHJT6RFmrUl3H17v2T18PFO2AmoKc7DvV49mYMdS29AaiYDNmenzdulpaIHSlGk8KcVfTL1zRXRl8YKMbXD3k29uJ4jtHcpMBxAYsBxwVBEARBOgXHZYvMX7WmmbuH2ncKA52Q7Vy49tc0adOS+RSPJgvZvSybBY4LWAw4LgiCIAjSKTguWyT+3Z/NPDx/WrFKPAT043/1mnv7Diu2bhcPJZeegwZ7H/UXy20NOC5gMeC4IAiCIEin4LhslLM3Y1xKux69fFU8BIAacFzAYsBxQRAEQZBOwXHZLpsOHCpXsWJwwl3xEACKwHEBiwHHBUEQBEE6Bcdl08xa9nPdbxvKXoABgBpwXMBiwHFBEARBkE7Bcdk6/YeP8GjXHqYL6AGOC1gMOC4IgiAI0ik4Llvn1ts/yHQ1cWsZ/viZeBQAKXBcwGLAcUEQBEGQTsFx2QHx7/4cPnFS/UaNTfuKJ/DlAMcFLAYcFwRBEATpFByX3TBx9twq1asHhFwXDwHAgOMCFgOOC4IgCIJ0Co7Lnvh15+5SrmXoX/EQAAlwXMCCwHFBEARBkE7BcdkZAVevVa5WbfTU6bGv3opHwRcOHBewGHBcEARBEKRTcFz2x/XExx26d6/7bcPjoWHiUfAlA8cFLAYcFwRBEATpFByXvbJyyzaX0q4zly6Le/O7eBR8mcBxAYsBxwVBEARBOgXHZccExSW4t23XuIWb/9VQ8Sj4AoHjAhYDjguCIAiCdAqOy76Jf/fn8o2bXcuWGzJ23I3HT8UK4IsCjgtYDDguCIIgCNIpOK7PAfJa5LjId5H7uvX2D7EC+EKA4wIWA44LgiAIgnQKjuvzwf9qaDN3j1r16m0+6CseBV8CcFzAYsBxQRAEQZBOwXF9bmzz9avz7beNW7jtPXVGPAo+b+C4gMWA44IgCIIgnYLj+gyJf/fn2h07q9ao4dG+w77TgWIF8LkCxwUsBhwXBEEQBOkUHNdnS+yrt8s3bq5Ws2YTt5Z4zvALAY4LWAw4LgiCIAjSKTiuz5xbb//4bc++eg0b1a5ff423D9kwsQ74bIDjAhYDjguCIAiCdAqO60thx1F/j3bty5QrP3X+gqt374sVwGcAHBewGHBcEARBEKRTcFxfFieu3Rg0ekzxEiV7DhjoGxQsVgB2DRwXsBhwXBAEQRCkU3BcXyI3Hj+d+8uKytWq1W/UeLHXuhuP8NXJnwlwXMBiwHFBEARBkE7BcX25xL/70+dYQLfv+xQrXqLXwEF4q+FnABwXsBhwXBAEQRCkU3Bc4D+hDxLnrVxVq169at98M3X+ggsxt8Q6wC6A4wIWA44LgiAIgnQKjgv8j8MXgoaOG1/KtUwTt5aLvdaRExPrAFsGjgtYDDguCIIgCNIpOC4gJ/b1u+1HjvboP6BYiRLtunZbtc074slzsRqwQeC4gMWA44IgCIIgnYLjAqrcfG5YvX1Hh+++Y9Zr5ZZtNx7jHRs2DRwXsBhwXBAEQRCkU3BcwDgRT1+s8fbp2L0HWa9WHTst37gZ3+hlm8BxAYsBxwVBEARBOgXHBZJB5LOXXj67uvfrX7R48SZuLX9ctPhUWIRYDVgLOC5gMeC4IAiCIEin4LiAKcS+euvjf3zouPEVKleuUr36iElTdh0/SYViTWBJ4LiAxYDjgiAIgiCdguMCH4v/ldAp8+Y3buFWpFixDt27L/1tw8XYeLGaTsi23XxuEMuBHuC4gMUwi+OaFnBo8rG9AAAANKi3dnHCy+fyX6CQXQmOC5iN64mP13j79B40uJRrmRq1a4+cPNXnWIAJ9mnCrDknr4eL5cAocFzAYpjHcfkfMvzxCAAAgAaD9m2uunIeTJddC44LfBJ8g4Knzl/QzMOzSLFibq3bTF+4yPfipVtv/xBrilyMjXcpVXrllm3iIaANHBewGHBcAABgGSb4+dx+eRumy64FxwU+LZHPXm4/cnTEpCm16tUrVqJE5569Fq7xOnHthlhTytR5C8g89Og/wIRbZF8ycFzAYsBxAQCAZSDHRf/CdNm14LiA5bh69/4ab5/+w0dUrVHDpbRr197fL1r7q+IDhDGGN+UrVsyXL1/latUUKwBF4LiAxYDjAgAAy8AclwGmy54FxwWsw6X4O6u37+j3w/Aq1auXci3TpVfvn1asOnYlhD956O13rFjx4mS6ChcpgicMdQLHBSwGHBcAAFgG7rgMMF12KzguYH0u3bq9xttn4KjRterVK1KsmGeHjtMWLNxz8nTrjp0KFylKLqJosWJ4wlAPcFzAYsBxAQCAZZA6LgNMl30KjgvYFjceP9104PDoqdMbNW9RoGDB/Pnz50lSkaJF8YShUeC4gMWwouO6EX0lLOry87cPxEMfj57geuoQtx9GUbWEB1HiIZtF59AAAJZE5rgMMF12KDguYIt4+x0rV6FCocKFmd0i5S9QIF++fEWLFZvt4/PDkQPD/QDQC10w2yLg1c3MJ3Vcnm3ca9epue/wP4sMvxMHaLdp88ZsN2XKlA4ODpFxIWJDxoYtaxcsmUPOQTxkFKPBddYhho8eStX6DugtHlKDDbx23ZrRt8NYSUj4xfcldWp2/a6TWN/s6BwaAMCSiI7LANNlb4LjArbFxdj41p06k8VyJn9VvHi+r7+uWKVq9379F67x8gu+svTC2ZVXg8VWAGhDl82ii+fEcmAyn9RxOTvnpXX/2vUr2O5Wnw20mzlLZrbbp3+vXn2630mMFhsyKlQqT/V37NkiHjKK0eAG3bbEBMfFBk4aP3k0KxkwuC8rKVW6pFjf7OgZPgDAwig6LgNMl10JjgvYCrGv3k5fuIhcVtUaNXoOHMQsVozhjbTOcL8DYkMA9DDEd59YCEzGio5ryA8DBg7pe/dRDG0f9Nvdo1fXFi2bduzcbuqPE+8/iZs2Y2LOnDmoPhVStQNHdlG1F+8e/rJmSdfvOrVp70nVWFse6lLoWfJF3Xt2kQVfsGROt+6dWfB5i2YlvrjNWmk4Lmo4Yswwd88WS5bPHz5qCHdclMBKr2UUrW2HVnPmz3jy6p7Y1vBh4OnSpc2dO9fT1/cePL2VKXOm9OnTccelEYdlHnztLJk0zzbua377hZWLU2RQH5p0+Bp9KcYMj7l6/WYwrwMAMBfkuNTov3dTtRXz//77b/mvV8jGBMcFbIL4d3/6HAsQLZYMOC5gMrh4zIsFHFfnrh3IGBA9eneTOi5ueC5cOU3bWbNlbe7WpFr1KmnSpA4Jv1ipSgVWIYNjBmoyd8FMatK0eWMqcXLKVqBgftrI97Uz+3gVq5k3b54UKVJ8nT+fNDhtU7Wq1SpT8EKFCzILJ0tAlvbL3xOpdzpEKVHMbE5ZueNyc29G2y6lSlCetFG9RlXFz0qxgX/Xowv9++uGVQuXzqUNsoIOHxyXRhyWFY0xe3YnhyTtOeitOEUGfUNT60stZq8+3Tt0bisOCgDwSaFfpPLfrZDtCY4L2BNYNAOTwcVjXizguGQSHdfm7etow72VW1jU5RfvHt57HPvYcNcgPFV44Mgu2iX/c/thFFWrXbcm7Y6dOJKHImuX+OJ2/IOb0uC0fScxmpqQwfAN2MfKHzy9Jasj5aDfbirPkjULhXr6+l65CmUdkhzXoaN7aKNEyeLP3tynag0a1qPdDVvWypobPgx8v+9Ock1VqlaiJvkLfL1t50aHJMelHYdlNW3GRNpu3c6TtoeNGKQ2RUaHptGXWsygkMDzwSfFQQEAPilwXHYhOC5gT2DRDEwGF495sYDjGjp8ILkmYvT44Q5KjivuXoRzPmeHJGVwzODRuiX7AJLMcf20cBbt1v+2LtudPG087bb0aM5DkfHgXfPg5MFatGyaIkUKFp/pSth5aR1pzsTin+dROTk6tjtwyPuPYJHjYgnINGrcD7Lmhg8D9ztxYOTYH1i1GXOm0kAckhyXdhyWFbvdRH7SIenmmOIU6RmaRl+KMcWxAAAsAxyXXQiOC9gTWDQDk8HFY14s4LjUPsclNTxkHnbu2zp95iSXUiUcPtzhYY/2ee/ezOpTHNp1LVua7fYb+D3t9ujVVRZKFnzF2qW0UbFyBdq+/TAqVapUtBt87axiK8a6jasdkh7DY7vtOrZ2SHJcv25YRRulXV2YgWQEhQTKmhskjisiNoR6SZ8+XcKDKO64tONIsxo/ebRDkuMyKE2RnqFp9yXGFMcCALAMcFx2ITguYE9g0QxMBhePebEFx3U88MjQ4QO37FjvG7CPfehoyvQJVKFFy6a0Xbd+bTIeIeEXY+7cyJI1C5X8MHLwvEWzHDM60vbeQzukoXjXvOTnlYtoo3iJYmQtevXp7pAkbcdFHaXPkJ4ODRrab+qPE9OmTeOQ5Lhi74Znc8r61VdfzZgz9fCxvSu9ljVt3vjI8f2y5gaJ46LtQ0f3sA3uuLTjKDouxSnSMzSNvhRjUvmu/du27dwoDgoA8EmB47ILwXEBewKLZmAyuHjMiy04Lv/Th7Nme/92CqbadWuyz2JROdkJVm33ge1Ucth/L5WwatRk8c/zZKF417zkwdNbVatVpu0UKVKQa8rgmMFBsCXSnBm/bVrDTFfhIoXcW7k5fHhzxrFTh1zLlmYJkMqUc2WhZEgdF4c7Lu04io5LcYqMD+1WqEZfijENeHMGAFYCjssuBMcF7AksmoHJ4OIxL5/Ucenn5e+JN+OvXb5+jr17UJtb9yMjYkOoiXhIEaoZHnM17l6EeEiDJ6/uhUYEKb6K8E5idEj4RfYu9Y8hWXEUp0hxaGScHJJsGHsTBkOxL8WYAACrAMdlF4LjAvYEFs3AZHDxmBcbcVzAXGzZsT5v3jzkuNzcm4lHAQA2CxyXXQiOC9gTWDQDk8HFY17guD4zjhzf36d/L+m3IQMA7AI4LrsQHBewJ/Qsmk+GRRw4d+FI0GVeEvnsJZUQV+7cYyUDR49t1anznF9Wis3Njv6+9Nck5q1aQ5X7jxglHtKGzQ9xOvzmv8qvh7PywMhosZUFSNbwTUDPxQP0A8cFAAC2AByXXQiOC9gTehbNdRs3cXj/bafZeQm5CPYJ76kLFrKSEqXffxy8bbfvxOZSRk6dRjUbubmJh/Sjs69k1SQ69uxFlYuUKCEe0obNDyl7zlwxhjes8Majp44ZM7Jysj1iKwuQrOGbgJ6LB+jnc3Vctx9GEWK5IpFxIU9e3RPLbRxbS9uM+Rg9fWbsK7mYsWszhvrMMOMFEBEb8vS1rpoiH9PWBOC47EJwXMCe0LNo1uO41u3eu+S3DXtOnRGbS+nS5/0XmJrgaqTo7CshmZbj4x0XiRJjhTQzvNBajkv/RJmGnosH6If+m4h//pQR+uDeybhohu/NsPWXzzN+DT471f/AB/ZPOcbZN/nYXoa4etDG//Rhj9YtCxcpVKJkcTf3Zpu2/fri3UOxmskMHT5w+OihYrki+Qt8fercUbHcxrG1tM2Yj9HTZ8a+kosZuzZjKKuz0mtZcl9Oo4EZL4BcuXJKvxtdG9koPqatCcBx2YXguIA9oWfRrMdx9Rs+smW79rOWLadtv0tX2n3XvULVaqXLla/TqDEduvbwEZUPHDWmYJEi1MoxUyaqTOw4FpCQZAyaeni6lC1bvkrVnoMGn70ZwzviYVdt31G9Tt1vm7eQ9UUsWOPVonWbitWql3R1rVar9uCx41l3CcYcV+zrdyOnTitbsRJF/mXzVtFxbdh3oHmr1qXKlaPgA0ePDX2QKAZJ+DA/GRzffyURDYFK4t/9WahoUV4odVwaMfm4vHx216zfgCZwxJSplCQ7qjarGsOXTZR272rxNdBz8Xwe3Hj56uzDRMaJe/e8IyMYOyIjFl88+w9BgeP9D43020eM8ts32m+vhD2cMX67OWP9do37HzsnH9u1OiggCf+toWcO37zEOB53NSwxihH+KEZcHHwMW7x/c8zo+OPsKUEhgdG3w7x3b67xTTXaEGuajNEVmxT9qzebIuCMr873HFoGM+Zj9PRZ8ZSZcZhWHIXZcXbOa8axmPECSJZrko3iY9qaAByXXQiOC9gTehbNzFGQTVrrs4sx6ad5MsfFvQ0t07NkzUbbeZydyURlzJyZto+HhlEdWuizVlwL1/46atp0tp02XboUKVI4vP+OoKzHroRKw+YvVIgdIsMm7YvVqdXgWzI2xVxcyHJ89dVXdIhMFHkesaaMXoOHsK5TpUpF/+bK8/57e7jjGjdzFjtKJWxEhYsXv574WIzD5oe8imv5CrSx/+x58pC0Qa6J2jpIHJd2TJZt7rzv0+AaP3sOHdKYVf3D1+hdI74Gei6eT03Mm9+5FyJ23OReKPyXyxe4F5p26ohRLzRW1Qvtmn3qwMogf8Zvl09wL3Q4Koh7IeLJW3PeGrIAT1/fy50717xFs6SFL949ZO9hH/LDAL6c3bJj/c59W9n29l2buvfs0tKj+fBRQ2LvhrPCsRNHBl4MGDC4L/v+qMTnCVTi7tli7oKZg4f15ys2xbZS+Ortyat7M+dOa9XWY+CQvmFRl3mFQ0f3dO7awc29Wf9Bfa7fDJY1p07PBh2nQ+6t3Mg9UpDJ08bTNo2RvcKe/l2+ekn7Tm169O528uz/1mTU8NylE5S/Zxt3/q1lin0pDmHilLERse+/tkstvmIoae806u/79WzboRV5YF4onVLFyDTGDVvW8jh7Dnqz5Hk+pk2j4ulTTMCgsuBWvHgUO1WsqTjJBmFOjA6T4bN3y2+b1vDd3Qe2e61fKavDR6HWtWLyHD0nS4ygeN4NKnOiGFMMu9JrmWNGx3YdW9NUsK+hUxyRmIwUxQtALQfFC4B+jVDNjp3btWnv+cuaJayQXNNBv92ynzKDUobiKKgtnTjZXCmed7GtCcBx2YXguIA9oWfRLH1qTibRce08ftIhyT5FPnuZkHS3Z9eJU2xZH3L/Yduu3ehooaJFgxPuEGcibjK307Jd+9jX7wIjo52y56Bddi+LhyUNnzTlSNBl76P+0r5YHXI4/NNTG/cfZPX3B54Ta0q5FH87VerUdNStTVtqTsHTpX//LavMcfGjo6f/mJBkSHLkyk27P0ycLIbijmvBGi/aaNOla52GjWjDy2e31HEZjcmypQnZdODQlTv3ipYsSbtVvqlJhzRmVefwtXvXiK+B0YvnfOJj7oX2xcZwL+QVevnDraHAOYEBzAuNVPdC6veFdk3138O90KqgY//zQjcvXb4fzr3QPcMd8f9UcDzwCJ13tQ9ppEyZkt/sorXL6PHD2faMOVN37Nnif/owLY9Ku7owe0brobLly9BCdtf+bbTbuGlDWgb5BuwbM2FENqesfMWm2FYKX721aNm0WYvGh4/tnTZjopNTtpg7N6iQFlU5cmTfvH1dwBnfFWuXkrmSNac0KletSAuyVb/+nD59OloyLlw6l1IqWKjAuo2rqQKtFJs0a0Rh129emydPbh6BGlasXIEKN237lbo7cGSXWl+KQ+BpK8ZXCyVNm0LR2nqrzwZn57zMRMmmVDHyYf+9+b525k+B0hDYMD9yGhVPn2IC0r6kiBePWqdiTYPKJBuEOdEeJofq5M6d69mb+2zXtWxpmmppBWkoxa7VkucYPVmKERTPu0FlTsSYiokR2bM7zV88m/xJeMxVxRGJrWTDUbwA1HJQvAC6dOtY45tqlANVnj3vR1Yo/pSxcjFDcRSKc6V43sW2JgDHZReC4wL2hNFFc8IHR5E6TZrmrVozatZvwFb2ouMiH5UmbVraJu9UrXadHgMHMZvEkH2Oa8XW7SwOrfhZCXu0L4OjozRs+cpVpPnIHVfguRat2xQuXjxXnrzMsJFWbvMWa0rh5oQ92Ug0dnd3+JAbNWdH6zVpyh6AZP6kep26YijuuKJevMrmlJ2MTYoUKb4uWPDW2z+kjstoTJZtnUaN2W6HHj1pt0DhwrStMas6h6/du0Z8Ddp5bxjht7/rri3frFn8zZpFRIXlP9HvOk6NVfNrrVlI1F6zYMC+TeP9fCYkIbVG5836ABtIFtt2bszgmIHv0rqn74DexPngkwaVZR/j6et7EbEhIeEXaekTFBJoSFoP8fsGl0LPOmZ0fPgsnu3Swkv6VJLYVgpbvQVfO5s+Q/q7Hx6hbOnRfOKUsYak960XKVr4TmK0rBWH0uB//27QsF7/QX3Y9tQfJ/bo1fX6zWAab+LzBFZI46UVJG9IC1C2TYMdMWaYRl/iEFjaavE1QjGod34fYKXXsipVK7FCPqVqkV/+nliocMH9vjtpmzLJnCXzo5fv/7jwMdOoePrUEuB9yYKIF49ap2JNti1OsuHfc2IwNkwptNBnFwYt68kqcPclC8W2xa7VkucYPVmKERTPu0FpThRjGlQSE5+pk41IsRVH8QIwqIzLoHQBhEYEpUuX9tb9SFlk8aeMHxLnXHyqUDZXGuddnIHkAsdlF4LjAvaEfsel/Tku6eJ+y+Ejtb9tyJ5MY1rt7cOqyRzX4nXrWYXDFy+xEvakX6pUqaRhW3fuwruW9XUhNt4xUybadSlTpveQoZ169WYBl2/aIqspY9X2Hazm/rPnWYlHh44OH3LjiRUsUoRKOE3cPcRQ3HElJL2QnTWcOPcn2pU6LqMxZdmyucpXoADbVZxV/cM32rtifD5GRYxePIr3uIi1oVcXffj40+zAEyP99vPbXMm90zXFf9+KoOP8NtfBm8G4xyVCzoqWTUS/gd9Lyw/67U6RIgX/tihaki5ZPj9HjuxbfTYYlJZ9bHvMhBHO+Zzr1KvVtHnjTJkzURBD0nqI/6V8+65NZcq58l769O/FHZdiWyls9ea9e3Op0iV54aSp49jDWi/ePezWvTMtB2vWqvHTwlniG9IojfOXT7HtNu095y+ezbZpXJ5t3H32bkmbNg1FdilVoqRL8XxfOzdp1khsOHna+N59e6j1pTgElrZafLVQHOqdLxADLwZkc8rKCvmUqkUmJkwe07FzO9oYNmJQrz7dWeHHTKPi6dNIQFxwG5QuHrVOxZoGlUk2/HtODMaGKWXF2qUNGzcwJN17oeCyozyUQaVrteQ5Rk+WYgTF825QmhPFmGqJyfyGOCLFVhzFC8CgMi6D0gWwY88WqiMtYYg/ZWxbzNAgjEKcK43zDsf1hQiOC9gTRhfNCcl0XLGv3916+0dC0pNp56JiyQlQefvuPVg1Zqi4i+Bxfly8lDUpV6ky7VI0WVjetayQ3yWjvmj3tz372K5oOWT4XbrCak6Zv4B2Y1+9zV+okMMHx3Xw/EV21MtnN28S9eLV+eg4MZTUcV2IuUX/WabPkIG9dkLquIzG1HBcarOqf/javavF5zUV0XPxfGrUPsdFLL8cxF9rMfXUUamv0/g0l6Kvm3XqEPd16y6f/J+vs5PPccU/uMkeNwoJvygtv/c4Nl26tPwDWozCRQoxx5U+fTr2IRniux5d2FI4KCQwZ84cD57eYuV58+ZhN1hyST7X7huwjxZhPGD7Tm3Yik2trRS2ejtyfD8d5YWDhvaTekWKQDnTolC8lSFNgxzXgiVz2DY5Lo/WLY+dOkRLMVkTsSGtBbl1kfWlNgSWtkZ8MZQU6p1PxaGjewoVLsgKeUoakdmdhzuJ0Xny5A4448sKP2YaFU+fRgLigtugcvEYlDoVa6pNsuHfc2LQN0xG4ovbTk7ZaKVONuNG9BXZUR5Ko2uDUvIcnSdLFkHxvBuU5kQjphiW3As/IxojUhuO4gVgUB+XeAH4nz5MQxNrKv6UqWUoHQVrK5srjfMua2sCcFx2ITguYE/oWTQny3EdDw3L4+zctW+/cbNmD588JXOWrA5Jn8Ji1WYsWcYali5XvnqdurTcr1artkPSJ4hofU8l7OiCNV6ysNJ8pIV7Tp1hTZp5tho1bTp/7YRoOUQqVa/hkPS0pGfHTmUqVGQv52COi/imXn3azZI124CRo8fNnNWhR0+aAXbnSobUcRHRL1/zD1ZJHZfRmBqOS21WkzV8jd7V4rOGaui5eD4P1N5VSCy6eI77unH+h03ydbuZrxu0f/OaoOPsdYXbr509HPWPr/uk7yqkxRxZLP7neVr30KKKOS7XMqXYg1JRCddpScQWzSfPHqWlD3t0bePW9x9cFB3Xw2fxOXJk33PQ25D0LTqZMmdiKza1tlLY6o0i5PrwfGDMnRu5c+diH4+hTPhDRNJbOhxtx0VdFyxU4OdsWJ+AAAAQI0lEQVSVi1gh7fJ3BohrQcW+1IbA0laLrxhKCsVs1dbj5e+JROt2nn3692KFPCW1yIzadWrS6EqULM5LPmYaFU+fRgLigtugdPGodSrWVJtkg4rjUhumDFqRFyiYn9+ak8FCqXWtljzH6MlSjKB43g1Kc6IYk1UQw5KJYj/CBpUrVrEVR/ECYJ0q5iBeAHSICnnN+Ac32Yb4U2ZQydDw71GwtrK50jjv0rbrNq4+7L+Xx9EJHJddCI4L2BN6Fs3JclwXYm4VKFyYHSV99dVXTT08I56+YNVoo0XrNmxB75D0NryQ+w/d2rRNmTIlK6Fepi5YxDtStEyywt5DhjGzlClLlmkLF7M4ipZDxsnr4eztFKQGzZq7t+/gIHFc1x4+at25C3vbBIm6IJe4+ZCvGEfmuKTIHJd2TA3HpTGrRoff7rvuRnvXiK+BnosH6MdB5fu4jkSFb7hykX0f17rgc9P8D0q+kkvhW7nE1YMGtHyZMn1CNqesefPmcSlVglZatJRhX2WzfdemzFkyly1fpkKl8rSgZ46L6ru3cnPO50yF7p4tqInouIid+7Zmz+5UqUoF17Kl3dybsRWbWlspfPV20G831aTenZyy8TsktAqkVKk5Uap0SdktO4Mxx2VI+lQ9pVSseNGKlSvQkFd6LRMbsrWgYl9qQ+BpK8ZXDCWFeqdpL+lSvGixItWqV2EfgJFNqWJkBm3Tj+30mZN4yUdOo+LpU0tAXHAblC4etU7FmmqTbBDmRHuYMq6EnadZou7EQzyUWtdqyXOMnizFCIrn3aA0J4ox1RL7bdOafF87kwNZsXap4ogUW0lRvADUclC8AMhH0aBKlCxO5qd2nZqsUPwpM6j/TElHwdqKc6V23qVtGzZuoHZJaADHZReC4wL2xCdaNF9PfBwQcp248eipeFSEqvldukIWKO7N7+JRo5BtO3o5JOrFK/GQNvHv/iTXp/isICPy2ctjV0JPXLsR/viZeNQ0TI6pNqtqw8+ZOw+tMAaMHC0t1OhdLb4an+ji+WKh/ybk/3MkX7RQEFcPRnn+9sH1m8GRt0JfJr1CnZP44nZoRJD4hchU82b8NTGOlKev71Fb8RUFetoyKJkb0VfYH785T17duxZ5KTIuRJZqsiBLGRZ1mTIUD0lR60scAi0Hg6+d5btifLVQvDmtRO8kRlMF8agUMbJRTJtGtdOnPwHx4lHrVKxpUJpkbRSHKeXI8f20Chdfjymi2LVa8hrI5kqMoHHeFedEjKkYVkQckdFWaheAQSkHNahT6losFxEzVEScK6Pn3TTguOxCcFzAnsCi+bNk8yHfBs2asxtWivflzAIuHvNiRccFTCbmzo3ho4fmyZNbfJuCfmR3SIB5Idswb9GsUqVLLlr2k3jUiuC82yxwXHYhOC5gT2DR/FnCvuw4j7Mz+wLlTwQuHvMCx2WPRMaFzPppuvRTVSYwc+40xe+DBmaBzPCEyWPWbVytdj/HWuC82yxwXHYhOC5gT2DR/FkS/+5P057PTBa4eMwLHBcAANgCcFx2ITguYE9g0QxMBhePebFHxxUZF8KepuMbsu2Px7zRLIM95mxhPukU3X4YRYjlIp80DRtBHOPcBTP9ThwQawIOHJddCI4L2BNYNAOTwcVjXqziuLp+16l2nZqcy9fPiXU04K8pk76vjG+v9FrGXnv4MSi+Cc3G+UQ5mzyfJjf8dBidoo/Jeejwgfz1etoYTeMzQDbGTdt+be7WRM8bRL5k4LjsQnBcwJ7AohmYDC4e82IVx1WqdMlR4344fGwv4/6TOLGOBgFnfFkT6aqOFzo75/345aw9rok/Uc4mz6fJDT8dRqfoY3KG45LCfx4NSS8RGTNhxMNn8WI1IAWOyy4ExwXsCSyagcng4jEv1nJca9evkBVu37Wpe88uLT2aDx81hH+y/8W7h8tXL+nYuV2b9p6/rFnCCidOGRsR+/5lzdKVKytc6bXMMaNju46tBw7pyx5hUgwr5eXvidRF+05tevTudvLsP9EU18RqocQkxRK1jg4d3dO5awc392b9B/Vhb8J48urezLnTWrX1oCGERV2W5aCRiWLOipkodjF24shzl04MGNzXs407Pzuy+VQcAkX4YeTgxOcJhqQx0ok4HnhEPBGKnWqnqtaEUj0bdJxmzL2Vm/fuzVRt8rTxtD1v0Sz2mgqqQFPxfb+ebTu0Yl9Wy+BTpDgQWc5qvUuhUVNf7p4t5i6YOXhYf/4VcGJwKdIzpXgqpSRrWmRnkCZnw5a1vMKeg978zComSRECLwZQhA6d2xqULk7FbMUMDZIfUv3ZAjguuxAcF7AnsGgGJoOLx7xYy3FNnznpwpXTBP8i1Blzpu7Ys8X/9GFazJV2dWEPIHXp1rHGN9V2H9h++Nje2fN+ZDX5glW6cmXbtBDPnt1p/uLZ1CQ85qpaWCm04mzSrBHFX795bZ48uSmCLDJHLZSYpFii2BEtQHPkyL55+7qAM74r1i5lXbdo2bRZi8ZUbdqMiU5O2WLu3JCloZaJYs6KmSh2kStXzoqVK1Bum7b9SoUHjuwyJH35rHQ+xSGwgORSunXvTBtTf5xYpWqlp6/viSdCsVPtVNWaUKqVq1YkK7Xq15/Tp09Hhmfh0rm79m8rWKjAuo2rWQWali071m/12eDsnJe7Dj5FigOR5azWu5TGTRuSl/AN2DdmwohsTlmZ41IMLkV6phRPpZRkTYvsDB7235vva2f+/Vp0lM2PQSVJilC2fBmv9StpMhUvTsVsxQwNkjHqz5aVf8nAcdmF4LiAPYFFMzAZXDzmxVqOyzmfM/1LtPRozstppR4RG0IejFbJQSGBoRFB6dKlvXU/UtZcw3EZlB4Mk4WVHrp+MziDYwZ2f8aQtKCklagssnYoMUmxxKDS0ZHj+4sULXwnMZpXC752Nn2G9HcfxbBdmpyJU8ZK43DETMScFTNR64JWwLS8ZoUDh/QdMWYY2+bzqTgEtn3/SVzRYkUGDe1Ha/Qb0VdkDTU65YipajShVPmdqwYN6/Uf1Idtk9/r0asrq8Bvtqz0WkYmkG2zKdIYCM9Zo3fOpdCzjhkd+cNy5DrIcWkE58jOlHgqOcmdFtkZfPl7YqHCBff77qQSipw5S2b2pb1qSVIEslusULw4Gcn6IU1WtrIIXyBwXHYhOC5gT2DRDEwGF495+XSOa9vOjbQGJfoN/F52SPGpwjETRpANq1OvVtPmjTNlznTQb/eOPVtcSpUQIyfLcYlhpaF89m5JmzYN5UMdlXQpnu9r5ybNGskia4cSkxRL1Dp68e5ht+6dadVes1aNnxbOevLqnvfuzVSHt5o0dRx7vkuGYiZizoqZqHVBK+Dzl0+xwsnTxvfu24Nt8/lUHAKPQ305ODhIv+1XeiLUOpU2l6Wq0USaapv2nvMXz2bbS5bP92zjzirwrgMvBmRzysq22RRpDITnrNE7Z/uuTWXKufLdPv17kePSCM6RninFU8kxeVr4GZwweUzHzu1oY9iIQb36dGdH1ZKkCPyOnHhxGpSyFTNksDEmN9svHDguuxAcF7AnhvjuEwsB0AMcl3n5dI4r/sFNWr0R/LlBjui4gkICc+bM8eDpLbabN2+e/b47/U8fpmWZrK3BqOPK58wLFcNKQx07dYgW2dISWTSOWigxSbHEoN4RQTF37ttKa/eJU8YeOb6fIvNDg4b2E/2qWiZizoqZqHVBNS9cOc0KaQXMV+d8PjWG8PT1vSpVK9WuU7O0q0vii9uyhgb1TjliqhpNpKmS41qwZA7bJsfl0bolq8BP9KGjewoVLsi22RRpDITnrNE7xzdgHwXku+07tSHHpRGcw8+U2qnkmDwt/Ayy21l3EqPz5MkdcMaXHVVLUhqBIb04FbMVM2SwMSY32y8cOC67EBwXsCcWXTy38mqwWA6ANnTZLL8cJJYDk/l0jksD0XGdPHuUVmDskaeNW70cHBxoMUe7tG77eeUiVocsHNvQdly0Otzqs0EjrLRfOlSwUAHeBe2yNwSI7kUtlJikWKLWUVTCdf7AFbsF8fDZ/7d3byFW1HEAxyN6CozcFV3XnlpXrTQ3k3rtCpFsGhU9BUVBRLcNIrq7IOFLDy1UdMGiIBO6mFkopW9BKIlKtpuWCttGQkVtmoVP/WNoGM9/ZpxZd+mM+/nyeTicPWfmP3MOnPlx3PXw7P/+ydx3o/vmzJn9/qb12WWMF68kXnPuSop2UXQFnJ7P3ENIbj84cN8111312/GfwsBz5913tDyxZKepeKklT6kyca265abf/zoS3HzrynvuvSt5QHKKSg4kXXPJ3lPhMbNmdX64eUO4Pfz97hnnzQgTV8nGU+krVfRSpiZ8WrKvYJiEw2lZsLA3u9ncRWa3EL85c1cbrzC5kRxj3dWue+uVTz/fmNw5DZm4GpGJi4ZZP/zNw1s+HtgKVYU3THjbxO8lTkebTFzhyrh/1Yrued19y5b2r7xx0UULkkvPcJHXM//CcLEYLoXDhWPy4PKJ6423X513QXe4tnvptReKNpv1xY7tlyy5eH5vz2WX982d2/Xy60MtW06UbCpeZHxP7o7CxfrMjvPDBoNwTpIvAzdv/SDsZcnSxR0dMx99fKBltSUriddctJLcXeReAY+ffD7jQwgPeO+jd7q65iR/ESFco4dL+XA53vLEop1mxUstekqViStMWQsX9YYNXnHl8vS3jNJTlHsg4yevuWjvWeHYOzs7li3vC1tb0X9D8pczijaeSpdR9FJmTey0ZF/BsIAwHQ2ueSq72dxFZrcQvzmLVhuvcDxzjLVWe+31Vxed6unAxNWITFwA1Pa/TFxFRg7t+fbw3vj+cGf4UXx/RUWbzTo4Nvz1/q9+OfrvL6uUKNlUvMj4nvFoRz//MbZ3ZOfIwd3JnzVPhNv7DuxKvkwoUrKSWLySKrsoUvFcxarstGWpVZ4SS67mR48cCCc2/mnqlAdSZe/h6XuGd/x67MeW+0+58VSVl3JSTkusfJG5b86i1cbvsdRkrfaMZ+JqRCYuAGprq4kLJkX2+xNoChNXIzJxAVCbiYszz5q1q3P/N2FoZyauRmTiAqA2ExdAOzBxNSITFwC1mbgA2oGJqxGZuACozcQF0A5MXI3IxAVAbSYugHZg4mpEJi4AapuUiWtw2yfPfLYJgAlbvc3E1YBMXADUNikTlyRJ0yETFwC1mbgkSaqYiQuA2kxckiRVzMQFQG0mLkmSKmbiAqA2E5ckSRUzcQFQm4lLkqSKmbgAqM3EJUlSxUxcANRm4pIkqWImLgBqM3FJklQxExcAtZm4JEmqmIkLgNpMXJIkVczEBUBtJi5Jkipm4gKgNhOXJEkVy5+4znn6oYN//h1/xALA/qPHzn32kdZPDkmSlFf+xLV46LkXd+2MP2UBmOa2/zB224Y3b393XesnhyRJyit/4vpy9NClQ2vPfvKBs564HwBSPc8PPrZl4/ETJ1o/OSRJUl75E5ckSZIk6fQzcUmSJEnSVGXikiRJkqSpysQlSZIkSVPVPx4ze8UX8eh8AAAAAElFTkSuQmCC)"
      ],
      "metadata": {
        "id": "isN55lJ6_Zyj"
      }
    },
    {
      "cell_type": "code",
      "source": [
        "from langchain_openai import ChatOpenAI\n",
        "from langchain_core.messages import HumanMessage\n",
        "\n",
        "model = ChatOpenAI(model=\"gpt-3.5-turbo\", openai_api_key=API_KEY,)"
      ],
      "metadata": {
        "id": "ieGwuKdk_fvo"
      },
      "execution_count": 100,
      "outputs": []
    },
    {
      "cell_type": "code",
      "source": [
        "model.invoke([HumanMessage(content='Hi! my name is bob')]).content"
      ],
      "metadata": {
        "colab": {
          "base_uri": "https://localhost:8080/",
          "height": 36
        },
        "id": "NaG3zke1_qjV",
        "outputId": "f475e142-ecd0-4612-c9e7-a265580288fd"
      },
      "execution_count": 101,
      "outputs": [
        {
          "output_type": "execute_result",
          "data": {
            "text/plain": [
              "'Hello Bob! How can I assist you today?'"
            ],
            "application/vnd.google.colaboratory.intrinsic+json": {
              "type": "string"
            }
          },
          "metadata": {},
          "execution_count": 101
        }
      ]
    },
    {
      "cell_type": "code",
      "source": [
        "model.invoke([HumanMessage(content='What is my name?')]).content"
      ],
      "metadata": {
        "colab": {
          "base_uri": "https://localhost:8080/",
          "height": 36
        },
        "id": "xIHFE5KA_sgW",
        "outputId": "8f7693c5-a879-43d0-803a-9e2fc175162b"
      },
      "execution_count": 102,
      "outputs": [
        {
          "output_type": "execute_result",
          "data": {
            "text/plain": [
              "\"I'm sorry, I do not know your name. Please feel free to tell me your name so I can address you correctly.\""
            ],
            "application/vnd.google.colaboratory.intrinsic+json": {
              "type": "string"
            }
          },
          "metadata": {},
          "execution_count": 102
        }
      ]
    },
    {
      "cell_type": "code",
      "source": [
        "from langchain_core.messages import AIMessage\n",
        "\n",
        "model.invoke(\n",
        "    [\n",
        "        HumanMessage(content=\"Hi! I'm Bob\"),\n",
        "        AIMessage(content=\"Hello Bob! How can I assist you today?\"),\n",
        "        HumanMessage(content=\"What's my name?\"),\n",
        "    ]\n",
        ").content"
      ],
      "metadata": {
        "colab": {
          "base_uri": "https://localhost:8080/",
          "height": 36
        },
        "id": "3JFKPXVo_9Oz",
        "outputId": "7101d1ca-417e-4963-a43b-0cd656ca1338"
      },
      "execution_count": 103,
      "outputs": [
        {
          "output_type": "execute_result",
          "data": {
            "text/plain": [
              "'Your name is Bob.'"
            ],
            "application/vnd.google.colaboratory.intrinsic+json": {
              "type": "string"
            }
          },
          "metadata": {},
          "execution_count": 103
        }
      ]
    },
    {
      "cell_type": "code",
      "source": [
        "from langchain_core.chat_history import (\n",
        "    BaseChatMessageHistory,\n",
        "    InMemoryChatMessageHistory,\n",
        ")\n",
        "from langchain_core.runnables.history import RunnableWithMessageHistory"
      ],
      "metadata": {
        "id": "PtePJN2EU_EV"
      },
      "execution_count": 107,
      "outputs": []
    },
    {
      "cell_type": "code",
      "source": [
        "store = {}\n",
        "\n",
        "def get_session_history(session_id: str) -> BaseChatMessageHistory:\n",
        "  if session_id not in store:\n",
        "    store[session_id] = InMemoryChatMessageHistory()\n",
        "  return store[session_id]"
      ],
      "metadata": {
        "id": "Mj0POYm5U3DP"
      },
      "execution_count": 108,
      "outputs": []
    },
    {
      "cell_type": "code",
      "source": [
        "with_message_history = RunnableWithMessageHistory(model, get_session_history)"
      ],
      "metadata": {
        "id": "vsNGqV1uU4y7"
      },
      "execution_count": 109,
      "outputs": []
    },
    {
      "cell_type": "code",
      "source": [
        "config = {'configurable': {'session_id': 'abc2'}}"
      ],
      "metadata": {
        "id": "NLJZ1pxvVJCi"
      },
      "execution_count": 112,
      "outputs": []
    },
    {
      "cell_type": "code",
      "source": [
        "response = with_message_history.invoke(\n",
        "    [HumanMessage(content='Hi! I am Bob')],\n",
        "     config=config\n",
        ")"
      ],
      "metadata": {
        "id": "VLkDUxt2VSIp"
      },
      "execution_count": 113,
      "outputs": []
    },
    {
      "cell_type": "code",
      "source": [
        "response.content"
      ],
      "metadata": {
        "colab": {
          "base_uri": "https://localhost:8080/",
          "height": 36
        },
        "id": "zO3-xAy8VTwP",
        "outputId": "e3cd37c3-e3f7-4aaf-b332-aff22dcbb8ea"
      },
      "execution_count": 114,
      "outputs": [
        {
          "output_type": "execute_result",
          "data": {
            "text/plain": [
              "'Hello Bob! How can I help you today?'"
            ],
            "application/vnd.google.colaboratory.intrinsic+json": {
              "type": "string"
            }
          },
          "metadata": {},
          "execution_count": 114
        }
      ]
    },
    {
      "cell_type": "code",
      "source": [
        "response = with_message_history.invoke(\n",
        "    [HumanMessage(content='What is my name?')],\n",
        "     config=config\n",
        ")"
      ],
      "metadata": {
        "id": "YU2BBOUhVV4g"
      },
      "execution_count": 115,
      "outputs": []
    },
    {
      "cell_type": "code",
      "source": [
        "response.content"
      ],
      "metadata": {
        "colab": {
          "base_uri": "https://localhost:8080/",
          "height": 36
        },
        "id": "WcSv2sZHVXkT",
        "outputId": "2fbc275a-7d31-4802-c017-31ba5c3f6bf4"
      },
      "execution_count": 116,
      "outputs": [
        {
          "output_type": "execute_result",
          "data": {
            "text/plain": [
              "'Your name is Bob.'"
            ],
            "application/vnd.google.colaboratory.intrinsic+json": {
              "type": "string"
            }
          },
          "metadata": {},
          "execution_count": 116
        }
      ]
    },
    {
      "cell_type": "code",
      "source": [
        "store"
      ],
      "metadata": {
        "colab": {
          "base_uri": "https://localhost:8080/"
        },
        "id": "3BvUFH17WEPQ",
        "outputId": "8ba85351-d219-4e6f-b1ca-6285730e0531"
      },
      "execution_count": 117,
      "outputs": [
        {
          "output_type": "execute_result",
          "data": {
            "text/plain": [
              "{'abc2': InMemoryChatMessageHistory(messages=[HumanMessage(content='Hi! I am Bob', additional_kwargs={}, response_metadata={}), AIMessage(content='Hello Bob! How can I help you today?', additional_kwargs={'refusal': None}, response_metadata={'token_usage': {'completion_tokens': 10, 'prompt_tokens': 12, 'total_tokens': 22, 'completion_tokens_details': {'accepted_prediction_tokens': 0, 'audio_tokens': 0, 'reasoning_tokens': 0, 'rejected_prediction_tokens': 0}, 'prompt_tokens_details': {'audio_tokens': 0, 'cached_tokens': 0}}, 'model_name': 'gpt-3.5-turbo-0125', 'system_fingerprint': None, 'finish_reason': 'stop', 'logprobs': None}, id='run-b4024ab3-015b-4fc9-88de-24ea113b3c4b-0', usage_metadata={'input_tokens': 12, 'output_tokens': 10, 'total_tokens': 22, 'input_token_details': {'audio': 0, 'cache_read': 0}, 'output_token_details': {'audio': 0, 'reasoning': 0}}), HumanMessage(content='What is my name?', additional_kwargs={}, response_metadata={}), AIMessage(content='Your name is Bob.', additional_kwargs={'refusal': None}, response_metadata={'token_usage': {'completion_tokens': 5, 'prompt_tokens': 35, 'total_tokens': 40, 'completion_tokens_details': {'accepted_prediction_tokens': 0, 'audio_tokens': 0, 'reasoning_tokens': 0, 'rejected_prediction_tokens': 0}, 'prompt_tokens_details': {'audio_tokens': 0, 'cached_tokens': 0}}, 'model_name': 'gpt-3.5-turbo-0125', 'system_fingerprint': None, 'finish_reason': 'stop', 'logprobs': None}, id='run-173ca25f-b929-449e-afbe-4077dc59f5f0-0', usage_metadata={'input_tokens': 35, 'output_tokens': 5, 'total_tokens': 40, 'input_token_details': {'audio': 0, 'cache_read': 0}, 'output_token_details': {'audio': 0, 'reasoning': 0}})])}"
            ]
          },
          "metadata": {},
          "execution_count": 117
        }
      ]
    },
    {
      "cell_type": "code",
      "source": [
        "response = with_message_history.invoke(\n",
        "    [HumanMessage(content='How are you?')],\n",
        "     config=config\n",
        ")"
      ],
      "metadata": {
        "id": "LHCd-3miW-ph"
      },
      "execution_count": 118,
      "outputs": []
    },
    {
      "cell_type": "code",
      "source": [
        "store"
      ],
      "metadata": {
        "colab": {
          "base_uri": "https://localhost:8080/"
        },
        "id": "Qf4ZQqzbW_-A",
        "outputId": "68f7cfb8-c98d-4cdd-c1d6-3b7994b0c74f"
      },
      "execution_count": 119,
      "outputs": [
        {
          "output_type": "execute_result",
          "data": {
            "text/plain": [
              "{'abc2': InMemoryChatMessageHistory(messages=[HumanMessage(content='Hi! I am Bob', additional_kwargs={}, response_metadata={}), AIMessage(content='Hello Bob! How can I help you today?', additional_kwargs={'refusal': None}, response_metadata={'token_usage': {'completion_tokens': 10, 'prompt_tokens': 12, 'total_tokens': 22, 'completion_tokens_details': {'accepted_prediction_tokens': 0, 'audio_tokens': 0, 'reasoning_tokens': 0, 'rejected_prediction_tokens': 0}, 'prompt_tokens_details': {'audio_tokens': 0, 'cached_tokens': 0}}, 'model_name': 'gpt-3.5-turbo-0125', 'system_fingerprint': None, 'finish_reason': 'stop', 'logprobs': None}, id='run-b4024ab3-015b-4fc9-88de-24ea113b3c4b-0', usage_metadata={'input_tokens': 12, 'output_tokens': 10, 'total_tokens': 22, 'input_token_details': {'audio': 0, 'cache_read': 0}, 'output_token_details': {'audio': 0, 'reasoning': 0}}), HumanMessage(content='What is my name?', additional_kwargs={}, response_metadata={}), AIMessage(content='Your name is Bob.', additional_kwargs={'refusal': None}, response_metadata={'token_usage': {'completion_tokens': 5, 'prompt_tokens': 35, 'total_tokens': 40, 'completion_tokens_details': {'accepted_prediction_tokens': 0, 'audio_tokens': 0, 'reasoning_tokens': 0, 'rejected_prediction_tokens': 0}, 'prompt_tokens_details': {'audio_tokens': 0, 'cached_tokens': 0}}, 'model_name': 'gpt-3.5-turbo-0125', 'system_fingerprint': None, 'finish_reason': 'stop', 'logprobs': None}, id='run-173ca25f-b929-449e-afbe-4077dc59f5f0-0', usage_metadata={'input_tokens': 35, 'output_tokens': 5, 'total_tokens': 40, 'input_token_details': {'audio': 0, 'cache_read': 0}, 'output_token_details': {'audio': 0, 'reasoning': 0}}), HumanMessage(content='How are you?', additional_kwargs={}, response_metadata={}), AIMessage(content=\"I'm just a computer program, so I don't have feelings, but I'm here to help you with any questions or tasks you may have. How can I assist you today?\", additional_kwargs={'refusal': None}, response_metadata={'token_usage': {'completion_tokens': 37, 'prompt_tokens': 52, 'total_tokens': 89, 'completion_tokens_details': {'accepted_prediction_tokens': 0, 'audio_tokens': 0, 'reasoning_tokens': 0, 'rejected_prediction_tokens': 0}, 'prompt_tokens_details': {'audio_tokens': 0, 'cached_tokens': 0}}, 'model_name': 'gpt-3.5-turbo-0125', 'system_fingerprint': None, 'finish_reason': 'stop', 'logprobs': None}, id='run-7e5456e9-9de1-4646-a417-fdc288ac5612-0', usage_metadata={'input_tokens': 52, 'output_tokens': 37, 'total_tokens': 89, 'input_token_details': {'audio': 0, 'cache_read': 0}, 'output_token_details': {'audio': 0, 'reasoning': 0}})])}"
            ]
          },
          "metadata": {},
          "execution_count": 119
        }
      ]
    },
    {
      "cell_type": "code",
      "source": [
        "config = {'configurable': {'session_id': 'abc3'}}"
      ],
      "metadata": {
        "id": "9mkFiMyuXBby"
      },
      "execution_count": 120,
      "outputs": []
    },
    {
      "cell_type": "code",
      "source": [
        "response = with_message_history.invoke(\n",
        "    [HumanMessage(content='What is my name?')],\n",
        "     config=config\n",
        ")\n",
        "response"
      ],
      "metadata": {
        "colab": {
          "base_uri": "https://localhost:8080/"
        },
        "id": "PNpqLFgmXDUA",
        "outputId": "6c30e527-7177-44e7-c3d1-4e27de1854c2"
      },
      "execution_count": 121,
      "outputs": [
        {
          "output_type": "execute_result",
          "data": {
            "text/plain": [
              "AIMessage(content=\"I'm sorry, I do not know your name as we have not been introduced.\", additional_kwargs={'refusal': None}, response_metadata={'token_usage': {'completion_tokens': 17, 'prompt_tokens': 12, 'total_tokens': 29, 'completion_tokens_details': {'accepted_prediction_tokens': 0, 'audio_tokens': 0, 'reasoning_tokens': 0, 'rejected_prediction_tokens': 0}, 'prompt_tokens_details': {'audio_tokens': 0, 'cached_tokens': 0}}, 'model_name': 'gpt-3.5-turbo-0125', 'system_fingerprint': None, 'finish_reason': 'stop', 'logprobs': None}, id='run-76cfc708-1b8c-4a95-8f59-5073d0e0fd91-0', usage_metadata={'input_tokens': 12, 'output_tokens': 17, 'total_tokens': 29, 'input_token_details': {'audio': 0, 'cache_read': 0}, 'output_token_details': {'audio': 0, 'reasoning': 0}})"
            ]
          },
          "metadata": {},
          "execution_count": 121
        }
      ]
    },
    {
      "cell_type": "code",
      "source": [
        "response = with_message_history.invoke(\n",
        "    [HumanMessage(content='Hi! I am Carli')],\n",
        "     config=config\n",
        ")\n",
        "response.content"
      ],
      "metadata": {
        "colab": {
          "base_uri": "https://localhost:8080/",
          "height": 36
        },
        "id": "ZSm2O8JxXGdL",
        "outputId": "15470e2c-343d-4f16-8dd4-7c53baf720af"
      },
      "execution_count": 122,
      "outputs": [
        {
          "output_type": "execute_result",
          "data": {
            "text/plain": [
              "'Hello Carli! How can I assist you today?'"
            ],
            "application/vnd.google.colaboratory.intrinsic+json": {
              "type": "string"
            }
          },
          "metadata": {},
          "execution_count": 122
        }
      ]
    },
    {
      "cell_type": "code",
      "source": [
        "store"
      ],
      "metadata": {
        "colab": {
          "base_uri": "https://localhost:8080/"
        },
        "id": "e4nd5kQFXI5G",
        "outputId": "83f6d46f-ac01-4c0e-c668-c5be4364cb8d"
      },
      "execution_count": 123,
      "outputs": [
        {
          "output_type": "execute_result",
          "data": {
            "text/plain": [
              "{'abc2': InMemoryChatMessageHistory(messages=[HumanMessage(content='Hi! I am Bob', additional_kwargs={}, response_metadata={}), AIMessage(content='Hello Bob! How can I help you today?', additional_kwargs={'refusal': None}, response_metadata={'token_usage': {'completion_tokens': 10, 'prompt_tokens': 12, 'total_tokens': 22, 'completion_tokens_details': {'accepted_prediction_tokens': 0, 'audio_tokens': 0, 'reasoning_tokens': 0, 'rejected_prediction_tokens': 0}, 'prompt_tokens_details': {'audio_tokens': 0, 'cached_tokens': 0}}, 'model_name': 'gpt-3.5-turbo-0125', 'system_fingerprint': None, 'finish_reason': 'stop', 'logprobs': None}, id='run-b4024ab3-015b-4fc9-88de-24ea113b3c4b-0', usage_metadata={'input_tokens': 12, 'output_tokens': 10, 'total_tokens': 22, 'input_token_details': {'audio': 0, 'cache_read': 0}, 'output_token_details': {'audio': 0, 'reasoning': 0}}), HumanMessage(content='What is my name?', additional_kwargs={}, response_metadata={}), AIMessage(content='Your name is Bob.', additional_kwargs={'refusal': None}, response_metadata={'token_usage': {'completion_tokens': 5, 'prompt_tokens': 35, 'total_tokens': 40, 'completion_tokens_details': {'accepted_prediction_tokens': 0, 'audio_tokens': 0, 'reasoning_tokens': 0, 'rejected_prediction_tokens': 0}, 'prompt_tokens_details': {'audio_tokens': 0, 'cached_tokens': 0}}, 'model_name': 'gpt-3.5-turbo-0125', 'system_fingerprint': None, 'finish_reason': 'stop', 'logprobs': None}, id='run-173ca25f-b929-449e-afbe-4077dc59f5f0-0', usage_metadata={'input_tokens': 35, 'output_tokens': 5, 'total_tokens': 40, 'input_token_details': {'audio': 0, 'cache_read': 0}, 'output_token_details': {'audio': 0, 'reasoning': 0}}), HumanMessage(content='How are you?', additional_kwargs={}, response_metadata={}), AIMessage(content=\"I'm just a computer program, so I don't have feelings, but I'm here to help you with any questions or tasks you may have. How can I assist you today?\", additional_kwargs={'refusal': None}, response_metadata={'token_usage': {'completion_tokens': 37, 'prompt_tokens': 52, 'total_tokens': 89, 'completion_tokens_details': {'accepted_prediction_tokens': 0, 'audio_tokens': 0, 'reasoning_tokens': 0, 'rejected_prediction_tokens': 0}, 'prompt_tokens_details': {'audio_tokens': 0, 'cached_tokens': 0}}, 'model_name': 'gpt-3.5-turbo-0125', 'system_fingerprint': None, 'finish_reason': 'stop', 'logprobs': None}, id='run-7e5456e9-9de1-4646-a417-fdc288ac5612-0', usage_metadata={'input_tokens': 52, 'output_tokens': 37, 'total_tokens': 89, 'input_token_details': {'audio': 0, 'cache_read': 0}, 'output_token_details': {'audio': 0, 'reasoning': 0}})]),\n",
              " 'abc3': InMemoryChatMessageHistory(messages=[HumanMessage(content='What is my name?', additional_kwargs={}, response_metadata={}), AIMessage(content=\"I'm sorry, I do not know your name as we have not been introduced.\", additional_kwargs={'refusal': None}, response_metadata={'token_usage': {'completion_tokens': 17, 'prompt_tokens': 12, 'total_tokens': 29, 'completion_tokens_details': {'accepted_prediction_tokens': 0, 'audio_tokens': 0, 'reasoning_tokens': 0, 'rejected_prediction_tokens': 0}, 'prompt_tokens_details': {'audio_tokens': 0, 'cached_tokens': 0}}, 'model_name': 'gpt-3.5-turbo-0125', 'system_fingerprint': None, 'finish_reason': 'stop', 'logprobs': None}, id='run-76cfc708-1b8c-4a95-8f59-5073d0e0fd91-0', usage_metadata={'input_tokens': 12, 'output_tokens': 17, 'total_tokens': 29, 'input_token_details': {'audio': 0, 'cache_read': 0}, 'output_token_details': {'audio': 0, 'reasoning': 0}}), HumanMessage(content='Hi! I am Carli', additional_kwargs={}, response_metadata={}), AIMessage(content='Hello Carli! How can I assist you today?', additional_kwargs={'refusal': None}, response_metadata={'token_usage': {'completion_tokens': 11, 'prompt_tokens': 43, 'total_tokens': 54, 'completion_tokens_details': {'accepted_prediction_tokens': 0, 'audio_tokens': 0, 'reasoning_tokens': 0, 'rejected_prediction_tokens': 0}, 'prompt_tokens_details': {'audio_tokens': 0, 'cached_tokens': 0}}, 'model_name': 'gpt-3.5-turbo-0125', 'system_fingerprint': None, 'finish_reason': 'stop', 'logprobs': None}, id='run-ab3fe2d9-2edb-4e4b-8d3d-2fd86d87eff3-0', usage_metadata={'input_tokens': 43, 'output_tokens': 11, 'total_tokens': 54, 'input_token_details': {'audio': 0, 'cache_read': 0}, 'output_token_details': {'audio': 0, 'reasoning': 0}})])}"
            ]
          },
          "metadata": {},
          "execution_count": 123
        }
      ]
    },
    {
      "cell_type": "markdown",
      "source": [
        "# memoria en cadenas"
      ],
      "metadata": {
        "id": "GKmvoyksXrgN"
      }
    },
    {
      "cell_type": "code",
      "source": [
        "from langchain_core.prompts import ChatPromptTemplate, MessagesPlaceholder\n",
        "\n",
        "prompt = ChatPromptTemplate.from_messages(\n",
        "    [\n",
        "        (\n",
        "            'system', 'You are a helpful assistant. Answer all question to the best of your abity.'\n",
        "        ),\n",
        "        MessagesPlaceholder(variable_name='messages')\n",
        "\n",
        "    ]\n",
        ")"
      ],
      "metadata": {
        "id": "ax8lpJkWXs83"
      },
      "execution_count": 124,
      "outputs": []
    },
    {
      "cell_type": "code",
      "source": [
        "chain  = prompt | model"
      ],
      "metadata": {
        "id": "cCYT-ypgXuyQ"
      },
      "execution_count": 125,
      "outputs": []
    },
    {
      "cell_type": "code",
      "source": [
        "response = chain.invoke(\n",
        "    {\n",
        "        'messages': [HumanMessage(content='Hi! I am Bob')]\n",
        "    }\n",
        ")\n",
        "response.content"
      ],
      "metadata": {
        "colab": {
          "base_uri": "https://localhost:8080/",
          "height": 36
        },
        "id": "NJ7NHnZXXwaG",
        "outputId": "0dda732e-064b-4cda-ab92-2e271f048cf4"
      },
      "execution_count": 126,
      "outputs": [
        {
          "output_type": "execute_result",
          "data": {
            "text/plain": [
              "'Hello Bob! How can I assist you today?'"
            ],
            "application/vnd.google.colaboratory.intrinsic+json": {
              "type": "string"
            }
          },
          "metadata": {},
          "execution_count": 126
        }
      ]
    },
    {
      "cell_type": "code",
      "source": [
        "response = chain.invoke(\n",
        "    {\n",
        "        'messages': [HumanMessage(content='What is my name?')]\n",
        "    }\n",
        ")\n",
        "response.content"
      ],
      "metadata": {
        "colab": {
          "base_uri": "https://localhost:8080/",
          "height": 36
        },
        "id": "agMdB-05X0kV",
        "outputId": "18c040f5-b500-485b-b2df-8bc5666d98f8"
      },
      "execution_count": 128,
      "outputs": [
        {
          "output_type": "execute_result",
          "data": {
            "text/plain": [
              "\"I'm sorry, but I do not have the ability to know your name. If you would like to share it with me, feel free to do so.\""
            ],
            "application/vnd.google.colaboratory.intrinsic+json": {
              "type": "string"
            }
          },
          "metadata": {},
          "execution_count": 128
        }
      ]
    },
    {
      "cell_type": "code",
      "source": [
        "with_message_history = RunnableWithMessageHistory(chain,get_session_history)"
      ],
      "metadata": {
        "id": "fCAtpMR4YTA1"
      },
      "execution_count": 129,
      "outputs": []
    },
    {
      "cell_type": "code",
      "source": [
        "config = { 'configurable': {'session_id': 'abc5'}}"
      ],
      "metadata": {
        "id": "Wh5QwxjoYUl5"
      },
      "execution_count": 130,
      "outputs": []
    },
    {
      "cell_type": "code",
      "source": [
        "response = with_message_history.invoke(\n",
        "    [HumanMessage(content='What is my name?')],\n",
        "    config=config\n",
        ")\n",
        "response.content"
      ],
      "metadata": {
        "colab": {
          "base_uri": "https://localhost:8080/",
          "height": 36
        },
        "id": "WdNR5MnRYWzR",
        "outputId": "317d3dfd-f894-4144-c332-70882858c45d"
      },
      "execution_count": 133,
      "outputs": [
        {
          "output_type": "execute_result",
          "data": {
            "text/plain": [
              "'Your name is Bob. How can I assist you, Bob?'"
            ],
            "application/vnd.google.colaboratory.intrinsic+json": {
              "type": "string"
            }
          },
          "metadata": {},
          "execution_count": 133
        }
      ]
    },
    {
      "cell_type": "code",
      "source": [
        "response = with_message_history.invoke(\n",
        "    [HumanMessage(content='Hi! I am Bob')],\n",
        "    config=config\n",
        ")\n",
        "response.content"
      ],
      "metadata": {
        "colab": {
          "base_uri": "https://localhost:8080/",
          "height": 36
        },
        "id": "05MEf6EwYakT",
        "outputId": "a05c2dc2-6148-4b0a-a85d-6b4a7fcfd72b"
      },
      "execution_count": 132,
      "outputs": [
        {
          "output_type": "execute_result",
          "data": {
            "text/plain": [
              "'Hello, Bob! How can I assist you today?'"
            ],
            "application/vnd.google.colaboratory.intrinsic+json": {
              "type": "string"
            }
          },
          "metadata": {},
          "execution_count": 132
        }
      ]
    }
  ]
}